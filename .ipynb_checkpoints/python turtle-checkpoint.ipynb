{
 "cells": [
  {
   "cell_type": "markdown",
   "metadata": {},
   "source": [
    "# make turtle animation "
   ]
  },
  {
   "cell_type": "code",
   "execution_count": 7,
   "metadata": {},
   "outputs": [],
   "source": [
    "import turtle\n",
    "\n",
    "ww =turtle.Screen()      #create a graphic window\n",
    "ww.bgcolor(\"lightgreen\") #set the window background color\n",
    "\n",
    "ales = turtle.Turtle()   #create named ales\n",
    "ales.color(\"blue\")       #make tess blue\n",
    "ales.pensize(10)          #set the width of her pen\n",
    "\n",
    "ales.forward(100)        #moves forward by 100 units (100 pixels)\n",
    "ales.left(90)            #turns left by 90 degrees\n",
    "ales.forward(150) \n",
    "\n",
    "ww.exitonclick()         #exis the window as user click on canvas"
   ]
  },
  {
   "cell_type": "markdown",
   "metadata": {},
   "source": [
    "###### make it customized "
   ]
  },
  {
   "cell_type": "code",
   "execution_count": null,
   "metadata": {},
   "outputs": [],
   "source": [
    "#made a program on pycharm"
   ]
  },
  {
   "cell_type": "code",
   "execution_count": 11,
   "metadata": {},
   "outputs": [],
   "source": [
    "#make a square spiral\n",
    "\n",
    "import turtle\n",
    "\n",
    "win = turtle.Screen()\n",
    "win.bgcolor(\"black\")\n",
    "\n",
    "slo = turtle.Turtle()\n",
    "slo.color(\"white\")\n",
    "slo.pensize(7)\n",
    "\n",
    "dist = 30\n",
    "\n",
    "for i in range(10):\n",
    "    for j in range(3):\n",
    "        slo.forward(dist)\n",
    "        slo.left(90)\n",
    "    dist+=10\n",
    "    \n",
    "win.exitonclick()"
   ]
  },
  {
   "cell_type": "code",
   "execution_count": null,
   "metadata": {},
   "outputs": [],
   "source": [
    "\n",
    "import turtle\n",
    "\n",
    "wn = turtle.Screen()\n",
    "wn.bgcolor(\"lightgreen\")\n",
    "\n",
    "tess = turtle.Turtle()\n",
    "tess.color(\"blue\")\n",
    "tess.shape(\"turtle\")   #can define shape of pointer\n",
    "\n",
    "dist = 5\n",
    "tess.up()              #lifts the pen up without making any impression\n",
    "for _ in range(30):    \n",
    "    tess.stamp()       #leave an impression on the canvas\n",
    "    tess.forward(dist) \n",
    "    tess.right(24)     \n",
    "    dist = dist + 2\n",
    "    \n",
    "wn.exitonclick()"
   ]
  },
  {
   "cell_type": "code",
   "execution_count": 45,
   "metadata": {},
   "outputs": [],
   "source": [
    "import turtle\n",
    "wn = turtle.Screen()\n",
    "tess = turtle.Turtle()\n",
    "tess.circle(40,180)\n",
    "tess.penup()\n",
    "tess.forward(300)\n",
    "wn.exitonclick()"
   ]
  },
  {
   "cell_type": "code",
   "execution_count": 36,
   "metadata": {},
   "outputs": [
    {
     "name": "stdout",
     "output_type": "stream",
     "text": [
      "Help on method shape in module turtle:\n",
      "\n",
      "shape(name=None) method of turtle.Turtle instance\n",
      "    Set turtle shape to shape with given name / return current shapename.\n",
      "    \n",
      "    Optional argument:\n",
      "    name -- a string, which is a valid shapename\n",
      "    \n",
      "    Set turtle shape to shape with given name or, if name is not given,\n",
      "    return name of current shape.\n",
      "    Shape with name must exist in the TurtleScreen's shape dictionary.\n",
      "    Initially there are the following polygon shapes:\n",
      "    'arrow', 'turtle', 'circle', 'square', 'triangle', 'classic'.\n",
      "    To learn about how to deal with shapes see Screen-method register_shape.\n",
      "    \n",
      "    Example (for a Turtle instance named turtle):\n",
      "    >>> turtle.shape()\n",
      "    'arrow'\n",
      "    >>> turtle.shape(\"turtle\")\n",
      "    >>> turtle.shape()\n",
      "    'turtle'\n",
      "\n"
     ]
    }
   ],
   "source": [
    "help(tess.shape)"
   ]
  },
  {
   "cell_type": "markdown",
   "metadata": {},
   "source": [
    "###### we can use -ve values using -ve value in left will make it right turn "
   ]
  },
  {
   "cell_type": "code",
   "execution_count": 50,
   "metadata": {},
   "outputs": [
    {
     "data": {
      "text/plain": [
       "10"
      ]
     },
     "execution_count": 50,
     "metadata": {},
     "output_type": "execute_result"
    }
   ],
   "source": [
    "# 1 slowest, 10 for fastest and 0 for no animation\n",
    "tess.speed()"
   ]
  },
  {
   "cell_type": "code",
   "execution_count": 51,
   "metadata": {},
   "outputs": [],
   "source": [
    "#makes a ring of turtles face to each other\n",
    "import turtle\n",
    "\n",
    "wn = turtle.Screen()\n",
    "wn.bgcolor(\"lightgreen\")\n",
    "\n",
    "tess = turtle.Turtle()\n",
    "tess.color(\"blue\")\n",
    "tess.shape(\"turtle\")\n",
    "\n",
    "dist = 30\n",
    "tess.up()                     # this is new\n",
    "for _ in range(14):    # start with size = 5 and grow by 2\n",
    "    tess.stamp()                # leave an impression on the canvas\n",
    "    tess.forward(dist)          # move tess along\n",
    "    tess.right(24)              # and turn her\n",
    "\n",
    "\n",
    "wn.exitonclick()"
   ]
  },
  {
   "cell_type": "code",
   "execution_count": 5,
   "metadata": {},
   "outputs": [],
   "source": [
    "#makes a ring face outwards\n",
    "import turtle\n",
    "\n",
    "wn = turtle.Screen()\n",
    "wn.bgcolor(\"black\")\n",
    "\n",
    "alex = turtle.Turtle()\n",
    "alex.color(\"aliceblue\")\n",
    "alex.shape(\"turtle\")\n",
    "alex.speed(1)\n",
    "alex.up()\n",
    "\n",
    "for size in range(10):\n",
    "    alex.forward(50)\n",
    "    alex.stamp()\n",
    "    alex.forward(-50)\n",
    "    alex.right(36)\n",
    "    \n",
    "alex.forward(300)\n",
    "    \n",
    "wn.exitonclick()"
   ]
  },
  {
   "cell_type": "code",
   "execution_count": 57,
   "metadata": {},
   "outputs": [],
   "source": [
    "#makes circular spiral\n",
    "import turtle\n",
    "wn = turtle.Screen()\n",
    "wn.bgcolor(\"lightgreen\")\n",
    "tess = turtle.Turtle()\n",
    "tess.color(\"blue\")\n",
    "tess.shape(\"turtle\")\n",
    "\n",
    "dist = 20\n",
    "tess.up()                     # this is new\n",
    "for _ in range(30):    # start with size = 5 and grow by 2\n",
    "    tess.stamp()                # leave an impression on the canvas\n",
    "    tess.forward(dist)          # move tess along\n",
    "    tess.right(24)              # and turn her\n",
    "    dist = dist + 2\n",
    "wn.exitonclick()\n"
   ]
  },
  {
   "cell_type": "code",
   "execution_count": null,
   "metadata": {},
   "outputs": [],
   "source": []
  },
  {
   "cell_type": "code",
   "execution_count": null,
   "metadata": {},
   "outputs": [],
   "source": []
  },
  {
   "cell_type": "code",
   "execution_count": null,
   "metadata": {},
   "outputs": [],
   "source": []
  },
  {
   "cell_type": "code",
   "execution_count": null,
   "metadata": {},
   "outputs": [],
   "source": []
  },
  {
   "cell_type": "code",
   "execution_count": null,
   "metadata": {},
   "outputs": [],
   "source": []
  },
  {
   "cell_type": "code",
   "execution_count": null,
   "metadata": {},
   "outputs": [],
   "source": []
  },
  {
   "cell_type": "code",
   "execution_count": 4,
   "metadata": {},
   "outputs": [
    {
     "name": "stdout",
     "output_type": "stream",
     "text": [
      "[(9, 1), (8, 2), (7, 2), (6, 3), (5, 6), (4, 2), (3, 2), (2, 4), (1, 9)]\n"
     ]
    }
   ],
   "source": [
    "a = list(enumerate([9, 4, 2, 2, 6, 3, 2, 2, 1], start=1))[::-1]\n",
    "print(a)"
   ]
  },
  {
   "cell_type": "code",
   "execution_count": 3,
   "metadata": {},
   "outputs": [
    {
     "data": {
      "text/plain": [
       "1"
      ]
     },
     "execution_count": 3,
     "metadata": {},
     "output_type": "execute_result"
    }
   ],
   "source": [
    "a[0][1]"
   ]
  },
  {
   "cell_type": "code",
   "execution_count": null,
   "metadata": {},
   "outputs": [],
   "source": []
  }
 ],
 "metadata": {
  "kernelspec": {
   "display_name": "Python 3",
   "language": "python",
   "name": "python3"
  },
  "language_info": {
   "codemirror_mode": {
    "name": "ipython",
    "version": 3
   },
   "file_extension": ".py",
   "mimetype": "text/x-python",
   "name": "python",
   "nbconvert_exporter": "python",
   "pygments_lexer": "ipython3",
   "version": "3.8.3"
  }
 },
 "nbformat": 4,
 "nbformat_minor": 2
}
