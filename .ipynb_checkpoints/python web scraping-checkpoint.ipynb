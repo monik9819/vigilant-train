{
 "cells": [
  {
   "cell_type": "markdown",
   "metadata": {},
   "source": [
    "# python web scraping\n",
    "beautiful soup, scrapy and selenium"
   ]
  },
  {
   "cell_type": "markdown",
   "metadata": {},
   "source": [
    "in order to the the html of a web pages in python we use <code>requests</code> library.....just use get function with URL of site\n",
    "\n",
    "and don't pullup to many request that could crash the site"
   ]
  },
  {
   "cell_type": "code",
   "execution_count": 2,
   "metadata": {
    "scrolled": true
   },
   "outputs": [
    {
     "name": "stdout",
     "output_type": "stream",
     "text": [
      "b'<!DOCTYPE html>\\n<html>\\n  <head>\\n    <meta charset=\"utf-8\">\\n    <title>Turtle Shellter</title>\\n      <link href=\"https://fonts.googleapis.com/css?family=Poppins\" rel=\"stylesheet\">\\n      <link rel=\\'stylesheet\\' type=\\'text/css\\' href=\\'style.css\\'>\\n  </head>\\n\\n  <body>\\n      <div class=\"banner\">\\n        <h1>The Shellter</h1>\\n        <span class=\"brag\">The #1 Turtle Adoption website!</span>\\n      </div>\\n\\n      <div class=\"about\">\\n        <p class=\"text\">Click to learn more about each turtle</p>\\n      </div>\\n\\n    <div class=\"grid\">\\n      <div class=\"box adopt\">\\n          <a href=\"aesop.html\" class=\"more-info\"><img src=\"aesop.png\" class=\"headshot\"></a>\\n          <p>Aesop</p>\\n      </div>\\n\\n      <div class=\"box adopt\">\\n          <a href=\"caesar.html\" class=\"more-info\"><img src=\"caesar.png\" class=\"headshot\"></a>\\n          <p>Caesar</p>\\n      </div>\\n\\n      <div class=\"box adopt\">\\n          <a href=\"sulla.html\" class=\"more-info\"><img src=\"sulla.png\" class=\"headshot\"></a>\\n          <p>Sulla</p>\\n      </div>\\n      <div class=\"box adopt\">\\n          <a href=\"spyro.html\" class=\"more-info\"><img src=\"spyro.png\" class=\"headshot\"></a>\\n          <p>Spyro</p>\\n      </div>\\n\\n      <div class=\"box adopt\">\\n          <a href=\"zelda.html\" class=\"more-info\"><img src=\"zelda.png\" class=\"headshot\"></a>\\n          <p>Zelda</p>\\n      </div>\\n\\n      <div class=\"box adopt\">\\n          <a href=\"bandicoot.html\" class=\"more-info\"><img src=\"bandicoot.png\" class=\"headshot\"></a>\\n          <p>Bandicoot</p>\\n      </div>\\n      \\n      <div class=\"box adopt\">\\n          <a href=\"hal.html\" class=\"more-info\"><img src=\"hal.png\" class=\"headshot\"></a>\\n          <p>Hal</p>\\n      </div>\\n\\n      <div class=\"box adopt\">\\n          <a href=\"mock.html\" class=\"more-info\"><img src=\"mock.png\" class=\"headshot\"></a>\\n          <p>Mock</p>\\n      </div>\\n\\n      <div class=\"box adopt\">\\n          <a href=\"sparrow.html\" class=\"more-info\"><img src=\"sparrow.png\" class=\"headshot\"></a>\\n          <p>Captain Sparrow</p>\\n      </div>\\n    </div>\\n  </body>\\n\\n</html>\\n'\n"
     ]
    }
   ],
   "source": [
    "import requests\n",
    "\n",
    "webpage_response = requests.get(\"https://content.codecademy.com/courses/beautifulsoup/shellter.html\")\n",
    "webpage = webpage_response.content\n",
    "\n",
    "print(webpage)\n",
    "\n",
    "# its quite messy, so extracting the part we want can be difficult"
   ]
  },
  {
   "cell_type": "markdown",
   "metadata": {},
   "source": [
    "### BeautifulSoup \n",
    "to make it organised we use this library\n",
    "\n",
    "there many parser options available as \"html.parser\", \"lxml\" and \"html5lib\". All have there own advantages and disadvantages\n",
    "\n",
    "it breaks the HTML page into serval objects "
   ]
  },
  {
   "cell_type": "code",
   "execution_count": 3,
   "metadata": {
    "scrolled": false
   },
   "outputs": [
    {
     "data": {
      "text/plain": [
       "<!DOCTYPE html>\n",
       "<html>\n",
       "<head>\n",
       "<meta charset=\"utf-8\"/>\n",
       "<title>Turtle Shellter</title>\n",
       "<link href=\"https://fonts.googleapis.com/css?family=Poppins\" rel=\"stylesheet\"/>\n",
       "<link href=\"style.css\" rel=\"stylesheet\" type=\"text/css\"/>\n",
       "</head>\n",
       "<body>\n",
       "<div class=\"banner\">\n",
       "<h1>The Shellter</h1>\n",
       "<span class=\"brag\">The #1 Turtle Adoption website!</span>\n",
       "</div>\n",
       "<div class=\"about\">\n",
       "<p class=\"text\">Click to learn more about each turtle</p>\n",
       "</div>\n",
       "<div class=\"grid\">\n",
       "<div class=\"box adopt\">\n",
       "<a class=\"more-info\" href=\"aesop.html\"><img class=\"headshot\" src=\"aesop.png\"/></a>\n",
       "<p>Aesop</p>\n",
       "</div>\n",
       "<div class=\"box adopt\">\n",
       "<a class=\"more-info\" href=\"caesar.html\"><img class=\"headshot\" src=\"caesar.png\"/></a>\n",
       "<p>Caesar</p>\n",
       "</div>\n",
       "<div class=\"box adopt\">\n",
       "<a class=\"more-info\" href=\"sulla.html\"><img class=\"headshot\" src=\"sulla.png\"/></a>\n",
       "<p>Sulla</p>\n",
       "</div>\n",
       "<div class=\"box adopt\">\n",
       "<a class=\"more-info\" href=\"spyro.html\"><img class=\"headshot\" src=\"spyro.png\"/></a>\n",
       "<p>Spyro</p>\n",
       "</div>\n",
       "<div class=\"box adopt\">\n",
       "<a class=\"more-info\" href=\"zelda.html\"><img class=\"headshot\" src=\"zelda.png\"/></a>\n",
       "<p>Zelda</p>\n",
       "</div>\n",
       "<div class=\"box adopt\">\n",
       "<a class=\"more-info\" href=\"bandicoot.html\"><img class=\"headshot\" src=\"bandicoot.png\"/></a>\n",
       "<p>Bandicoot</p>\n",
       "</div>\n",
       "<div class=\"box adopt\">\n",
       "<a class=\"more-info\" href=\"hal.html\"><img class=\"headshot\" src=\"hal.png\"/></a>\n",
       "<p>Hal</p>\n",
       "</div>\n",
       "<div class=\"box adopt\">\n",
       "<a class=\"more-info\" href=\"mock.html\"><img class=\"headshot\" src=\"mock.png\"/></a>\n",
       "<p>Mock</p>\n",
       "</div>\n",
       "<div class=\"box adopt\">\n",
       "<a class=\"more-info\" href=\"sparrow.html\"><img class=\"headshot\" src=\"sparrow.png\"/></a>\n",
       "<p>Captain Sparrow</p>\n",
       "</div>\n",
       "</div>\n",
       "</body>\n",
       "</html>"
      ]
     },
     "execution_count": 3,
     "metadata": {},
     "output_type": "execute_result"
    }
   ],
   "source": [
    "from bs4 import BeautifulSoup\n",
    "import requests\n",
    "\n",
    "webpage_response = requests.get('https://content.codecademy.com/courses/beautifulsoup/shellter.html',\"html.parser\")\n",
    "\n",
    "webpage = webpage_response.content\n",
    "soup = BeautifulSoup(webpage)\n",
    "soup"
   ]
  },
  {
   "cell_type": "code",
   "execution_count": 4,
   "metadata": {},
   "outputs": [
    {
     "data": {
      "text/plain": [
       "<head>\n",
       "<meta charset=\"utf-8\"/>\n",
       "<title>Turtle Shellter</title>\n",
       "<link href=\"https://fonts.googleapis.com/css?family=Poppins\" rel=\"stylesheet\"/>\n",
       "<link href=\"style.css\" rel=\"stylesheet\" type=\"text/css\"/>\n",
       "</head>"
      ]
     },
     "execution_count": 4,
     "metadata": {},
     "output_type": "execute_result"
    }
   ],
   "source": [
    "# we can we access data tag wise\n",
    "soup.head"
   ]
  },
  {
   "cell_type": "code",
   "execution_count": 5,
   "metadata": {},
   "outputs": [
    {
     "data": {
      "text/plain": [
       "bs4.BeautifulSoup"
      ]
     },
     "execution_count": 5,
     "metadata": {},
     "output_type": "execute_result"
    }
   ],
   "source": [
    "type(soup)"
   ]
  },
  {
   "cell_type": "code",
   "execution_count": 6,
   "metadata": {},
   "outputs": [
    {
     "data": {
      "text/plain": [
       "<div class=\"banner\">\n",
       "<h1>The Shellter</h1>\n",
       "<span class=\"brag\">The #1 Turtle Adoption website!</span>\n",
       "</div>"
      ]
     },
     "execution_count": 6,
     "metadata": {},
     "output_type": "execute_result"
    }
   ],
   "source": [
    "soup.div"
   ]
  },
  {
   "cell_type": "code",
   "execution_count": 7,
   "metadata": {},
   "outputs": [
    {
     "name": "stdout",
     "output_type": "stream",
     "text": [
      "\n",
      "<h1>The Shellter</h1>\n",
      "<span class=\"brag\">The #1 Turtle Adoption website!</span>\n"
     ]
    }
   ],
   "source": [
    "# to access all childrens of div tag\n",
    "for child in soup.div.children:\n",
    "    print(child,end=\"\")"
   ]
  },
  {
   "cell_type": "code",
   "execution_count": 8,
   "metadata": {},
   "outputs": [
    {
     "data": {
      "text/plain": [
       "'The #1 Turtle Adoption website!'"
      ]
     },
     "execution_count": 8,
     "metadata": {},
     "output_type": "execute_result"
    }
   ],
   "source": [
    "# to get only the test associated with that tag\n",
    "soup.span.string"
   ]
  },
  {
   "cell_type": "code",
   "execution_count": 23,
   "metadata": {},
   "outputs": [
    {
     "data": {
      "text/plain": [
       "{'href': 'https://fonts.googleapis.com/css?family=Poppins',\n",
       " 'rel': ['stylesheet']}"
      ]
     },
     "execution_count": 23,
     "metadata": {},
     "output_type": "execute_result"
    }
   ],
   "source": [
    "# prints all the attributes associated with that tag\n",
    "soup.link.attrs"
   ]
  },
  {
   "cell_type": "code",
   "execution_count": 27,
   "metadata": {},
   "outputs": [
    {
     "name": "stdout",
     "output_type": "stream",
     "text": [
      "head\n"
     ]
    },
    {
     "data": {
      "text/plain": [
       "'[document]'"
      ]
     },
     "execution_count": 27,
     "metadata": {},
     "output_type": "execute_result"
    }
   ],
   "source": [
    "# to ge the name of using tag\n",
    "print(soup.head.name)\n",
    "soup.name"
   ]
  },
  {
   "cell_type": "code",
   "execution_count": 80,
   "metadata": {
    "scrolled": true
   },
   "outputs": [
    {
     "data": {
      "text/plain": [
       "<img class=\"headshot\" src=\"caesar.png\"/>"
      ]
     },
     "execution_count": 80,
     "metadata": {},
     "output_type": "execute_result"
    }
   ],
   "source": [
    "# on the basis of css selectors\n",
    "# can use any selector attribute, class, etc\n",
    "soup.select(\".more-info > img\")[1]"
   ]
  },
  {
   "cell_type": "code",
   "execution_count": 81,
   "metadata": {},
   "outputs": [
    {
     "data": {
      "text/plain": [
       "[<img class=\"headshot\" src=\"aesop.png\"/>,\n",
       " <img class=\"headshot\" src=\"caesar.png\"/>,\n",
       " <img class=\"headshot\" src=\"sulla.png\"/>,\n",
       " <img class=\"headshot\" src=\"spyro.png\"/>,\n",
       " <img class=\"headshot\" src=\"zelda.png\"/>,\n",
       " <img class=\"headshot\" src=\"bandicoot.png\"/>,\n",
       " <img class=\"headshot\" src=\"hal.png\"/>,\n",
       " <img class=\"headshot\" src=\"mock.png\"/>,\n",
       " <img class=\"headshot\" src=\"sparrow.png\"/>]"
      ]
     },
     "execution_count": 81,
     "metadata": {},
     "output_type": "execute_result"
    }
   ],
   "source": [
    "soup.select(\".more-info > img\")"
   ]
  },
  {
   "cell_type": "code",
   "execution_count": 64,
   "metadata": {
    "scrolled": true
   },
   "outputs": [
    {
     "name": "stdout",
     "output_type": "stream",
     "text": [
      "<body>\n",
      "<div class=\"banner\">\n",
      "<h1>The Shellter</h1>\n",
      "<span class=\"brag\">The #1 Turtle Adoption website!</span>\n",
      "</div>\n",
      "<div class=\"about\">\n",
      "<p class=\"text\">Click to learn more about each turtle</p>\n",
      "</div>\n",
      "<div class=\"grid\">\n",
      "<div class=\"box adopt\">\n",
      "<a class=\"more-info\" href=\"aesop.html\"><img class=\"headshot\" src=\"aesop.png\"/></a>\n",
      "<p>Aesop</p>\n",
      "</div>\n",
      "<div class=\"box adopt\">\n",
      "<a class=\"more-info\" href=\"caesar.html\"><img class=\"headshot\" src=\"caesar.png\"/></a>\n",
      "<p>Caesar</p>\n",
      "</div>\n",
      "<div class=\"box adopt\">\n",
      "<a class=\"more-info\" href=\"sulla.html\"><img class=\"headshot\" src=\"sulla.png\"/></a>\n",
      "<p>Sulla</p>\n",
      "</div>\n",
      "<div class=\"box adopt\">\n",
      "<a class=\"more-info\" href=\"spyro.html\"><img class=\"headshot\" src=\"spyro.png\"/></a>\n",
      "<p>Spyro</p>\n",
      "</div>\n",
      "<div class=\"box adopt\">\n",
      "<a class=\"more-info\" href=\"zelda.html\"><img class=\"headshot\" src=\"zelda.png\"/></a>\n",
      "<p>Zelda</p>\n",
      "</div>\n",
      "<div class=\"box adopt\">\n",
      "<a class=\"more-info\" href=\"bandicoot.html\"><img class=\"headshot\" src=\"bandicoot.png\"/></a>\n",
      "<p>Bandicoot</p>\n",
      "</div>\n",
      "<div class=\"box adopt\">\n",
      "<a class=\"more-info\" href=\"hal.html\"><img class=\"headshot\" src=\"hal.png\"/></a>\n",
      "<p>Hal</p>\n",
      "</div>\n",
      "<div class=\"box adopt\">\n",
      "<a class=\"more-info\" href=\"mock.html\"><img class=\"headshot\" src=\"mock.png\"/></a>\n",
      "<p>Mock</p>\n",
      "</div>\n",
      "<div class=\"box adopt\">\n",
      "<a class=\"more-info\" href=\"sparrow.html\"><img class=\"headshot\" src=\"sparrow.png\"/></a>\n",
      "<p>Captain Sparrow</p>\n",
      "</div>\n",
      "</div>\n",
      "</body>\n",
      "<html>\n",
      "<head>\n",
      "<meta charset=\"utf-8\"/>\n",
      "<title>Turtle Shellter</title>\n",
      "<link href=\"https://fonts.googleapis.com/css?family=Poppins\" rel=\"stylesheet\"/>\n",
      "<link href=\"style.css\" rel=\"stylesheet\" type=\"text/css\"/>\n",
      "</head>\n",
      "<body>\n",
      "<div class=\"banner\">\n",
      "<h1>The Shellter</h1>\n",
      "<span class=\"brag\">The #1 Turtle Adoption website!</span>\n",
      "</div>\n",
      "<div class=\"about\">\n",
      "<p class=\"text\">Click to learn more about each turtle</p>\n",
      "</div>\n",
      "<div class=\"grid\">\n",
      "<div class=\"box adopt\">\n",
      "<a class=\"more-info\" href=\"aesop.html\"><img class=\"headshot\" src=\"aesop.png\"/></a>\n",
      "<p>Aesop</p>\n",
      "</div>\n",
      "<div class=\"box adopt\">\n",
      "<a class=\"more-info\" href=\"caesar.html\"><img class=\"headshot\" src=\"caesar.png\"/></a>\n",
      "<p>Caesar</p>\n",
      "</div>\n",
      "<div class=\"box adopt\">\n",
      "<a class=\"more-info\" href=\"sulla.html\"><img class=\"headshot\" src=\"sulla.png\"/></a>\n",
      "<p>Sulla</p>\n",
      "</div>\n",
      "<div class=\"box adopt\">\n",
      "<a class=\"more-info\" href=\"spyro.html\"><img class=\"headshot\" src=\"spyro.png\"/></a>\n",
      "<p>Spyro</p>\n",
      "</div>\n",
      "<div class=\"box adopt\">\n",
      "<a class=\"more-info\" href=\"zelda.html\"><img class=\"headshot\" src=\"zelda.png\"/></a>\n",
      "<p>Zelda</p>\n",
      "</div>\n",
      "<div class=\"box adopt\">\n",
      "<a class=\"more-info\" href=\"bandicoot.html\"><img class=\"headshot\" src=\"bandicoot.png\"/></a>\n",
      "<p>Bandicoot</p>\n",
      "</div>\n",
      "<div class=\"box adopt\">\n",
      "<a class=\"more-info\" href=\"hal.html\"><img class=\"headshot\" src=\"hal.png\"/></a>\n",
      "<p>Hal</p>\n",
      "</div>\n",
      "<div class=\"box adopt\">\n",
      "<a class=\"more-info\" href=\"mock.html\"><img class=\"headshot\" src=\"mock.png\"/></a>\n",
      "<p>Mock</p>\n",
      "</div>\n",
      "<div class=\"box adopt\">\n",
      "<a class=\"more-info\" href=\"sparrow.html\"><img class=\"headshot\" src=\"sparrow.png\"/></a>\n",
      "<p>Captain Sparrow</p>\n",
      "</div>\n",
      "</div>\n",
      "</body>\n",
      "</html>\n",
      "<!DOCTYPE html>\n",
      "<html>\n",
      "<head>\n",
      "<meta charset=\"utf-8\"/>\n",
      "<title>Turtle Shellter</title>\n",
      "<link href=\"https://fonts.googleapis.com/css?family=Poppins\" rel=\"stylesheet\"/>\n",
      "<link href=\"style.css\" rel=\"stylesheet\" type=\"text/css\"/>\n",
      "</head>\n",
      "<body>\n",
      "<div class=\"banner\">\n",
      "<h1>The Shellter</h1>\n",
      "<span class=\"brag\">The #1 Turtle Adoption website!</span>\n",
      "</div>\n",
      "<div class=\"about\">\n",
      "<p class=\"text\">Click to learn more about each turtle</p>\n",
      "</div>\n",
      "<div class=\"grid\">\n",
      "<div class=\"box adopt\">\n",
      "<a class=\"more-info\" href=\"aesop.html\"><img class=\"headshot\" src=\"aesop.png\"/></a>\n",
      "<p>Aesop</p>\n",
      "</div>\n",
      "<div class=\"box adopt\">\n",
      "<a class=\"more-info\" href=\"caesar.html\"><img class=\"headshot\" src=\"caesar.png\"/></a>\n",
      "<p>Caesar</p>\n",
      "</div>\n",
      "<div class=\"box adopt\">\n",
      "<a class=\"more-info\" href=\"sulla.html\"><img class=\"headshot\" src=\"sulla.png\"/></a>\n",
      "<p>Sulla</p>\n",
      "</div>\n",
      "<div class=\"box adopt\">\n",
      "<a class=\"more-info\" href=\"spyro.html\"><img class=\"headshot\" src=\"spyro.png\"/></a>\n",
      "<p>Spyro</p>\n",
      "</div>\n",
      "<div class=\"box adopt\">\n",
      "<a class=\"more-info\" href=\"zelda.html\"><img class=\"headshot\" src=\"zelda.png\"/></a>\n",
      "<p>Zelda</p>\n",
      "</div>\n",
      "<div class=\"box adopt\">\n",
      "<a class=\"more-info\" href=\"bandicoot.html\"><img class=\"headshot\" src=\"bandicoot.png\"/></a>\n",
      "<p>Bandicoot</p>\n",
      "</div>\n",
      "<div class=\"box adopt\">\n",
      "<a class=\"more-info\" href=\"hal.html\"><img class=\"headshot\" src=\"hal.png\"/></a>\n",
      "<p>Hal</p>\n",
      "</div>\n",
      "<div class=\"box adopt\">\n",
      "<a class=\"more-info\" href=\"mock.html\"><img class=\"headshot\" src=\"mock.png\"/></a>\n",
      "<p>Mock</p>\n",
      "</div>\n",
      "<div class=\"box adopt\">\n",
      "<a class=\"more-info\" href=\"sparrow.html\"><img class=\"headshot\" src=\"sparrow.png\"/></a>\n",
      "<p>Captain Sparrow</p>\n",
      "</div>\n",
      "</div>\n",
      "</body>\n",
      "</html>\n",
      "\n"
     ]
    }
   ],
   "source": [
    "# first will print the parent of the tag....then all the siblings of the required tag\n",
    "for parent in soup.div.parents:\n",
    "    print(parent)"
   ]
  },
  {
   "cell_type": "code",
   "execution_count": 74,
   "metadata": {
    "scrolled": true
   },
   "outputs": [
    {
     "data": {
      "text/plain": [
       "[<p class=\"text\">Click to learn more about each turtle</p>,\n",
       " <p>Aesop</p>,\n",
       " <p>Caesar</p>,\n",
       " <p>Sulla</p>,\n",
       " <p>Spyro</p>,\n",
       " <p>Zelda</p>,\n",
       " <p>Bandicoot</p>,\n",
       " <p>Hal</p>,\n",
       " <p>Mock</p>,\n",
       " <p>Captain Sparrow</p>]"
      ]
     },
     "execution_count": 74,
     "metadata": {},
     "output_type": "execute_result"
    }
   ],
   "source": [
    "# to access all the data from a particular tag in whole document\n",
    "soup.find_all(\"p\")"
   ]
  },
  {
   "cell_type": "code",
   "execution_count": 45,
   "metadata": {
    "scrolled": true
   },
   "outputs": [
    {
     "data": {
      "text/plain": [
       "[<span class=\"brag\">The #1 Turtle Adoption website!</span>,\n",
       " <p class=\"text\">Click to learn more about each turtle</p>,\n",
       " <p>Aesop</p>,\n",
       " <p>Caesar</p>,\n",
       " <p>Sulla</p>,\n",
       " <p>Spyro</p>,\n",
       " <p>Zelda</p>,\n",
       " <p>Bandicoot</p>,\n",
       " <p>Hal</p>,\n",
       " <p>Mock</p>,\n",
       " <p>Captain Sparrow</p>]"
      ]
     },
     "execution_count": 45,
     "metadata": {},
     "output_type": "execute_result"
    }
   ],
   "source": [
    "soup.find_all([\"p\",\"span\"])"
   ]
  },
  {
   "cell_type": "code",
   "execution_count": 57,
   "metadata": {},
   "outputs": [
    {
     "data": {
      "text/plain": [
       "[<a class=\"more-info\" href=\"sulla.html\"><img class=\"headshot\" src=\"sulla.png\"/></a>]"
      ]
     },
     "execution_count": 57,
     "metadata": {},
     "output_type": "execute_result"
    }
   ],
   "source": [
    "soup.find_all(attrs={'class':\"more-info\",'href':'sulla.html'})"
   ]
  },
  {
   "cell_type": "code",
   "execution_count": 10,
   "metadata": {},
   "outputs": [
    {
     "data": {
      "text/plain": [
       "[<h1>The Shellter</h1>]"
      ]
     },
     "execution_count": 10,
     "metadata": {},
     "output_type": "execute_result"
    }
   ],
   "source": [
    "import re\n",
    "soup.find_all(re.compile(\"h[1-9]\"))"
   ]
  },
  {
   "cell_type": "code",
   "execution_count": 11,
   "metadata": {},
   "outputs": [
    {
     "data": {
      "text/plain": [
       "[]"
      ]
     },
     "execution_count": 11,
     "metadata": {},
     "output_type": "execute_result"
    }
   ],
   "source": [
    "soup.find_all(re.compile(\"h[2-9]\"))"
   ]
  },
  {
   "cell_type": "code",
   "execution_count": 12,
   "metadata": {},
   "outputs": [
    {
     "data": {
      "text/plain": [
       "'\\n\\n\\nTurtle Shellter\\n\\n\\n\\n\\n\\nThe Shellter\\nThe #1 Turtle Adoption website!\\n\\n\\nClick to learn more about each turtle\\n\\n\\n\\n\\nAesop\\n\\n\\n\\nCaesar\\n\\n\\n\\nSulla\\n\\n\\n\\nSpyro\\n\\n\\n\\nZelda\\n\\n\\n\\nBandicoot\\n\\n\\n\\nHal\\n\\n\\n\\nMock\\n\\n\\n\\nCaptain Sparrow\\n\\n\\n\\n\\n'"
      ]
     },
     "execution_count": 12,
     "metadata": {},
     "output_type": "execute_result"
    }
   ],
   "source": [
    "soup.get_text()"
   ]
  },
  {
   "cell_type": "code",
   "execution_count": 13,
   "metadata": {},
   "outputs": [
    {
     "data": {
      "text/plain": [
       "'\\n | \\n | \\n | Turtle Shellter | \\n | \\n | \\n | \\n | \\n | \\n | The Shellter | \\n | The #1 Turtle Adoption website! | \\n | \\n | \\n | Click to learn more about each turtle | \\n | \\n | \\n | \\n | \\n | Aesop | \\n | \\n | \\n | \\n | Caesar | \\n | \\n | \\n | \\n | Sulla | \\n | \\n | \\n | \\n | Spyro | \\n | \\n | \\n | \\n | Zelda | \\n | \\n | \\n | \\n | Bandicoot | \\n | \\n | \\n | \\n | Hal | \\n | \\n | \\n | \\n | Mock | \\n | \\n | \\n | \\n | Captain Sparrow | \\n | \\n | \\n | \\n | \\n'"
      ]
     },
     "execution_count": 13,
     "metadata": {},
     "output_type": "execute_result"
    }
   ],
   "source": [
    "soup.get_text(\" | \")"
   ]
  },
  {
   "cell_type": "code",
   "execution_count": 27,
   "metadata": {},
   "outputs": [
    {
     "data": {
      "text/plain": [
       "'\\nThe Shellter\\nThe #1 Turtle Adoption website!\\n'"
      ]
     },
     "execution_count": 27,
     "metadata": {},
     "output_type": "execute_result"
    }
   ],
   "source": [
    "soup.find(\"div\").get_text()"
   ]
  },
  {
   "cell_type": "code",
   "execution_count": null,
   "metadata": {},
   "outputs": [],
   "source": []
  },
  {
   "cell_type": "code",
   "execution_count": null,
   "metadata": {},
   "outputs": [],
   "source": []
  },
  {
   "cell_type": "code",
   "execution_count": null,
   "metadata": {},
   "outputs": [],
   "source": []
  }
 ],
 "metadata": {
  "kernelspec": {
   "display_name": "Python 3",
   "language": "python",
   "name": "python3"
  },
  "language_info": {
   "codemirror_mode": {
    "name": "ipython",
    "version": 3
   },
   "file_extension": ".py",
   "mimetype": "text/x-python",
   "name": "python",
   "nbconvert_exporter": "python",
   "pygments_lexer": "ipython3",
   "version": "3.8.3"
  }
 },
 "nbformat": 4,
 "nbformat_minor": 4
}
