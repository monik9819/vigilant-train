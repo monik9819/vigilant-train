{
 "cells": [
  {
   "cell_type": "markdown",
   "metadata": {},
   "source": [
    "# Python notes 3\n",
    "loops and iteration"
   ]
  },
  {
   "cell_type": "markdown",
   "metadata": {},
   "source": [
    "## Loop and iteration\n",
    "\n",
    "<code>for</code> and <code>while</code> are widely used, if we know the number of times loop has to run we use <code>for</code> loop but is don't know the number of times loops will be running then we use <code>while</code> loop as it iterates till condition is true.<br> And then to exit the loop infinite <code>while</code> loop we use <code>break</code> statement as it is excuted it jumps out of the loop"
   ]
  },
  {
   "cell_type": "code",
   "execution_count": 9,
   "metadata": {},
   "outputs": [
    {
     "name": "stdout",
     "output_type": "stream",
     "text": [
      "fuck\n",
      "\n",
      "fuck\n",
      "\n",
      "fuck\n",
      "\n"
     ]
    }
   ],
   "source": [
    "for i in range(3):\n",
    "        print(\"fuck\",end=\"\\n\\n\") #amount of indentation doesn't matter but should be same throughout"
   ]
  },
  {
   "cell_type": "code",
   "execution_count": null,
   "metadata": {},
   "outputs": [],
   "source": [
    "#if don't wanna give traceback for error use try and except for like\n",
    "#if multiple statement is given in try a even one fail it executues except after that statement\n",
    "\n",
    "#add intergers only and add -1 for strings input\n",
    "num = list()\n",
    "for i in input().split():\n",
    "    try:\n",
    "        print(\"nice\")\n",
    "        i = int(i)\n",
    "        num.append(i)\n",
    "    except:\n",
    "        num.append(-1)\n",
    "        \n",
    "print(num)"
   ]
  },
  {
   "cell_type": "markdown",
   "metadata": {},
   "source": [
    "#### Q1. WAP to find largest number in user input array and don't show error if string is inputed instead add -1 to the array"
   ]
  },
  {
   "cell_type": "code",
   "execution_count": null,
   "metadata": {},
   "outputs": [],
   "source": [
    "#used while and for loop, break statement in this\n",
    "\n",
    "a=[]#initialize an empty array \n",
    "print(\"enter numbers to find largest among it and to stop input enter 'done'\")\n",
    "while 1:\n",
    "    b=input()\n",
    "    if b == 'done': #if input equal to done then no further user input is taken\n",
    "        break\n",
    "    try:\n",
    "        a.append(int(b)) #added to the list and casted to int\n",
    "    except:\n",
    "        a.append(-1) #if user enters a string instead of number than -1 is added\n",
    "b = a[0]\n",
    "for the_num in a:\n",
    "    if the_num > b: #checking condition for largest number\n",
    "        b = the_num\n",
    "print('the largest number in array is',b)"
   ]
  },
  {
   "cell_type": "markdown",
   "metadata": {},
   "source": [
    "<code>continue</code> as this statement is excuted it skips the rest part of the sequence code left in that iteration and jumps to the next one"
   ]
  },
  {
   "cell_type": "markdown",
   "metadata": {},
   "source": [
    "#### Q2.WAP to find average in user input array and don't show error if string is inputed instead skip that element\n",
    " "
   ]
  },
  {
   "cell_type": "code",
   "execution_count": null,
   "metadata": {},
   "outputs": [],
   "source": [
    "#used while and for loop, break and continue statement in this\n",
    "\n",
    "a=[]#initialize an empty array \n",
    "print(\"enter numbers to find largest among it and to stop input enter 'done'\")\n",
    "while 1:\n",
    "    b=input()\n",
    "    if b == 'done': #if input equal to done then no further user input is taken\n",
    "        break\n",
    "    try:\n",
    "        a.append(int(b)) #added to the list and casted to int\n",
    "    except:\n",
    "        continue #if user enters a string instead of number it skip it\n",
    "b = a[0]\n",
    "suma = 0\n",
    "count = 0\n",
    "for the_num in a:\n",
    "    suma = suma + the_num\n",
    "    count = count + 1\n",
    "    avg = suma/count\n",
    "print('the average of array is',avg)\n",
    "print(a)"
   ]
  },
  {
   "cell_type": "markdown",
   "metadata": {},
   "source": [
    "### while - else\n",
    "<code>else</code> statement is executed only when <code>while</code> loop is completed executed, if it's stopped prematurely by a <code>break</code> statement then <code>else</code> part is also skiped"
   ]
  },
  {
   "cell_type": "code",
   "execution_count": 10,
   "metadata": {},
   "outputs": [
    {
     "name": "stdout",
     "output_type": "stream",
     "text": [
      "hello, baby how do you do\n",
      "hello, baby how do you do\n",
      "hello, baby how do you do\n",
      "hello, baby how do you do\n",
      "hello, baby how do you do\n",
      "sucker\n"
     ]
    }
   ],
   "source": [
    "i = 5\n",
    "while i > 0:\n",
    "    print(\"hello, baby how do you do\")\n",
    "    i-=1\n",
    "else:\n",
    "    print(\"sucker\")"
   ]
  },
  {
   "cell_type": "code",
   "execution_count": 11,
   "metadata": {},
   "outputs": [
    {
     "name": "stdout",
     "output_type": "stream",
     "text": [
      "3\n",
      "hello boiii\n"
     ]
    }
   ],
   "source": [
    "i = int(input())\n",
    "while True:\n",
    "    print(\"hello boiii\")\n",
    "    if i == 3:\n",
    "        break\n",
    "    i-=1\n",
    "else:\n",
    "    print(\"that's like it\")"
   ]
  },
  {
   "cell_type": "markdown",
   "metadata": {},
   "source": [
    "### for - else \n",
    "as <strong>while - else</strong> same happens here in <strong>for - else</strong>"
   ]
  },
  {
   "cell_type": "code",
   "execution_count": 4,
   "metadata": {},
   "outputs": [
    {
     "name": "stdout",
     "output_type": "stream",
     "text": [
      "1 3 24 3 14\n",
      "their was no 10 in the list\n",
      "[1, 3, 24, 3, 14]\n"
     ]
    }
   ],
   "source": [
    "lst = list(map(int,input().split()))\n",
    "for i in lst:\n",
    "    if i == 10:\n",
    "        break\n",
    "else:\n",
    "    print(\"their was no 10 in the list\")\n",
    "    print(lst)"
   ]
  },
  {
   "cell_type": "markdown",
   "metadata": {},
   "source": [
    "### recursive functions\n",
    "even they can be used for looping"
   ]
  },
  {
   "cell_type": "code",
   "execution_count": 9,
   "metadata": {},
   "outputs": [
    {
     "data": {
      "text/plain": [
       "120"
      ]
     },
     "execution_count": 9,
     "metadata": {},
     "output_type": "execute_result"
    }
   ],
   "source": [
    "def factorial(n):\n",
    "    if n < 2:\n",
    "        return 1\n",
    "    return n * factorial(n-1)\n",
    "\n",
    "factorial(5)"
   ]
  },
  {
   "cell_type": "markdown",
   "metadata": {},
   "source": [
    "recursion goes max till 2963 in this case then the"
   ]
  },
  {
   "cell_type": "code",
   "execution_count": 41,
   "metadata": {
    "scrolled": false
   },
   "outputs": [
    {
     "ename": "RecursionError",
     "evalue": "maximum recursion depth exceeded in comparison",
     "output_type": "error",
     "traceback": [
      "\u001b[1;31m---------------------------------------------------------------------------\u001b[0m",
      "\u001b[1;31mRecursionError\u001b[0m                            Traceback (most recent call last)",
      "\u001b[1;32m<ipython-input-41-92b17688632a>\u001b[0m in \u001b[0;36m<module>\u001b[1;34m\u001b[0m\n\u001b[1;32m----> 1\u001b[1;33m \u001b[0mfactorial\u001b[0m\u001b[1;33m(\u001b[0m\u001b[1;36m2963\u001b[0m\u001b[1;33m)\u001b[0m\u001b[1;33m\u001b[0m\u001b[1;33m\u001b[0m\u001b[0m\n\u001b[0m",
      "\u001b[1;32m<ipython-input-9-85131d54ecbf>\u001b[0m in \u001b[0;36mfactorial\u001b[1;34m(n)\u001b[0m\n\u001b[0;32m      2\u001b[0m     \u001b[1;32mif\u001b[0m \u001b[0mn\u001b[0m \u001b[1;33m<\u001b[0m \u001b[1;36m2\u001b[0m\u001b[1;33m:\u001b[0m\u001b[1;33m\u001b[0m\u001b[1;33m\u001b[0m\u001b[0m\n\u001b[0;32m      3\u001b[0m         \u001b[1;32mreturn\u001b[0m \u001b[1;36m1\u001b[0m\u001b[1;33m\u001b[0m\u001b[1;33m\u001b[0m\u001b[0m\n\u001b[1;32m----> 4\u001b[1;33m     \u001b[1;32mreturn\u001b[0m \u001b[0mn\u001b[0m \u001b[1;33m*\u001b[0m \u001b[0mfactorial\u001b[0m\u001b[1;33m(\u001b[0m\u001b[0mn\u001b[0m\u001b[1;33m-\u001b[0m\u001b[1;36m1\u001b[0m\u001b[1;33m)\u001b[0m\u001b[1;33m\u001b[0m\u001b[1;33m\u001b[0m\u001b[0m\n\u001b[0m\u001b[0;32m      5\u001b[0m \u001b[1;33m\u001b[0m\u001b[0m\n\u001b[0;32m      6\u001b[0m \u001b[0mfactorial\u001b[0m\u001b[1;33m(\u001b[0m\u001b[1;36m5\u001b[0m\u001b[1;33m)\u001b[0m\u001b[1;33m\u001b[0m\u001b[1;33m\u001b[0m\u001b[0m\n",
      "... last 1 frames repeated, from the frame below ...\n",
      "\u001b[1;32m<ipython-input-9-85131d54ecbf>\u001b[0m in \u001b[0;36mfactorial\u001b[1;34m(n)\u001b[0m\n\u001b[0;32m      2\u001b[0m     \u001b[1;32mif\u001b[0m \u001b[0mn\u001b[0m \u001b[1;33m<\u001b[0m \u001b[1;36m2\u001b[0m\u001b[1;33m:\u001b[0m\u001b[1;33m\u001b[0m\u001b[1;33m\u001b[0m\u001b[0m\n\u001b[0;32m      3\u001b[0m         \u001b[1;32mreturn\u001b[0m \u001b[1;36m1\u001b[0m\u001b[1;33m\u001b[0m\u001b[1;33m\u001b[0m\u001b[0m\n\u001b[1;32m----> 4\u001b[1;33m     \u001b[1;32mreturn\u001b[0m \u001b[0mn\u001b[0m \u001b[1;33m*\u001b[0m \u001b[0mfactorial\u001b[0m\u001b[1;33m(\u001b[0m\u001b[0mn\u001b[0m\u001b[1;33m-\u001b[0m\u001b[1;36m1\u001b[0m\u001b[1;33m)\u001b[0m\u001b[1;33m\u001b[0m\u001b[1;33m\u001b[0m\u001b[0m\n\u001b[0m\u001b[0;32m      5\u001b[0m \u001b[1;33m\u001b[0m\u001b[0m\n\u001b[0;32m      6\u001b[0m \u001b[0mfactorial\u001b[0m\u001b[1;33m(\u001b[0m\u001b[1;36m5\u001b[0m\u001b[1;33m)\u001b[0m\u001b[1;33m\u001b[0m\u001b[1;33m\u001b[0m\u001b[0m\n",
      "\u001b[1;31mRecursionError\u001b[0m: maximum recursion depth exceeded in comparison"
     ]
    }
   ],
   "source": [
    "factorial(2963)"
   ]
  },
  {
   "cell_type": "markdown",
   "metadata": {},
   "source": [
    "Recusrion can be usefull in many cases as\n",
    "1. Mathematical functions\n",
    "2. Counting or deleting files in directory and it's sub-directory"
   ]
  },
  {
   "cell_type": "code",
   "execution_count": 42,
   "metadata": {},
   "outputs": [],
   "source": [
    "def sum_positive_numbers(n):\n",
    "  if n == 1:\n",
    "    return 1\n",
    "  return n + sum_positive_numbers(n-1)"
   ]
  },
  {
   "cell_type": "code",
   "execution_count": 43,
   "metadata": {},
   "outputs": [
    {
     "data": {
      "text/plain": [
       "6"
      ]
     },
     "execution_count": 43,
     "metadata": {},
     "output_type": "execute_result"
    }
   ],
   "source": [
    "sum_positive_numbers(3) # 1+2+3 = 6"
   ]
  },
  {
   "cell_type": "code",
   "execution_count": 44,
   "metadata": {},
   "outputs": [
    {
     "data": {
      "text/plain": [
       "True"
      ]
     },
     "execution_count": 44,
     "metadata": {},
     "output_type": "execute_result"
    }
   ],
   "source": [
    "def is_power_of(number, base):\n",
    "  # Base case: when number is smaller than base.\n",
    "  if number < base:\n",
    "    # If number is equal to 1, it's a power (base**0).\n",
    "    return number == base**0\n",
    "\n",
    "  # Recursive case: keep dividing number by base.\n",
    "  return is_power_of(number/base, base)\n",
    "\n",
    "is_power_of(16,4)"
   ]
  },
  {
   "cell_type": "code",
   "execution_count": 45,
   "metadata": {},
   "outputs": [
    {
     "data": {
      "text/plain": [
       "False"
      ]
     },
     "execution_count": 45,
     "metadata": {},
     "output_type": "execute_result"
    }
   ],
   "source": [
    "is_power_of(35,5)"
   ]
  }
 ],
 "metadata": {
  "kernelspec": {
   "display_name": "Python 3",
   "language": "python",
   "name": "python3"
  },
  "language_info": {
   "codemirror_mode": {
    "name": "ipython",
    "version": 3
   },
   "file_extension": ".py",
   "mimetype": "text/x-python",
   "name": "python",
   "nbconvert_exporter": "python",
   "pygments_lexer": "ipython3",
   "version": "3.8.3"
  }
 },
 "nbformat": 4,
 "nbformat_minor": 2
}
