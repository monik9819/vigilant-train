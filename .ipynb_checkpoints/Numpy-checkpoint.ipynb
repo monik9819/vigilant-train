{
 "cells": [
  {
   "cell_type": "markdown",
   "metadata": {},
   "source": [
    "# NumPy\n"
   ]
  },
  {
   "cell_type": "markdown",
   "metadata": {},
   "source": [
    "An essential library for scientific computing. Stores data in N-dimensional homogenous arrays in multiple dimensions and can perform various numerical array operations.\n",
    "<br><br>\n",
    "<li>It also supports vectorisation</li>\n",
    "<li>NumPy is faster in processing larger numeric values<br>\n",
    "<li>NumPy supports it column wise operation, and list doesn't<br>\n",
    "<li>It also consumes lesser mermory, as the size of array is fixed"
   ]
  },
  {
   "cell_type": "code",
   "execution_count": 1,
   "metadata": {},
   "outputs": [],
   "source": [
    "## Initially Lets import numpy\n",
    "\n",
    "import numpy as np"
   ]
  },
  {
   "cell_type": "markdown",
   "metadata": {},
   "source": [
    "### Create NumPy arrays "
   ]
  },
  {
   "cell_type": "code",
   "execution_count": 110,
   "metadata": {},
   "outputs": [
    {
     "name": "stdout",
     "output_type": "stream",
     "text": [
      "z is a nested array\n",
      "z = [[ 0  1  2  3  4  5]\n",
      " [ 6  7  8  9 10 11]]\n",
      "\n",
      "x = [0 1 2 3 4 5]\n"
     ]
    },
    {
     "data": {
      "text/plain": [
       "numpy.ndarray"
      ]
     },
     "execution_count": 110,
     "metadata": {},
     "output_type": "execute_result"
    }
   ],
   "source": [
    "# Create a numpy array form list or tuple\n",
    "\n",
    "s=(0,1,2,3,4,5)   # tuple\n",
    "f=[6,7,8,9,10,11] # list\n",
    "\n",
    "x = np.array(s)\n",
    "z = np.array([s,f])\n",
    "\n",
    "print(\"z is a nested array\\nz =\",z)\n",
    "print(\"\\nx =\",x)\n",
    "type(x)"
   ]
  },
  {
   "cell_type": "code",
   "execution_count": 4,
   "metadata": {},
   "outputs": [
    {
     "data": {
      "text/plain": [
       "array([[1, 1, 1],\n",
       "       [1, 1, 1]])"
      ]
     },
     "execution_count": 4,
     "metadata": {},
     "output_type": "execute_result"
    }
   ],
   "source": [
    "np.ones((2, 3),dtype=int)"
   ]
  },
  {
   "cell_type": "code",
   "execution_count": 5,
   "metadata": {},
   "outputs": [
    {
     "data": {
      "text/plain": [
       "array([[0, 0, 0],\n",
       "       [0, 0, 0]])"
      ]
     },
     "execution_count": 5,
     "metadata": {},
     "output_type": "execute_result"
    }
   ],
   "source": [
    "np.zeros((2, 3),dtype=int)"
   ]
  },
  {
   "cell_type": "code",
   "execution_count": 54,
   "metadata": {},
   "outputs": [
    {
     "data": {
      "text/plain": [
       "array([[1., 0., 0.],\n",
       "       [0., 1., 0.],\n",
       "       [0., 0., 1.]])"
      ]
     },
     "execution_count": 54,
     "metadata": {},
     "output_type": "execute_result"
    }
   ],
   "source": [
    "np.eye(3) # creates identity matrix"
   ]
  },
  {
   "cell_type": "code",
   "execution_count": 23,
   "metadata": {},
   "outputs": [
    {
     "data": {
      "text/plain": [
       "array([[5.1, 5.1, 5.1, 5.1, 5.1]])"
      ]
     },
     "execution_count": 23,
     "metadata": {},
     "output_type": "execute_result"
    }
   ],
   "source": [
    "# if want to make np arr like ones/zeros with any other number\n",
    "np.full(shape=(1,5), fill_value=5.1)"
   ]
  },
  {
   "cell_type": "code",
   "execution_count": 8,
   "metadata": {
    "scrolled": true
   },
   "outputs": [
    {
     "data": {
      "text/plain": [
       "array([[0.49460165, 0.2280831 , 0.25547392],\n",
       "       [0.39632991, 0.3773151 , 0.99657423]])"
      ]
     },
     "execution_count": 8,
     "metadata": {},
     "output_type": "execute_result"
    }
   ],
   "source": [
    "# values between 0-1 exclusive\n",
    "np.random.seed(50) # reset the randomState instance to defined no.\n",
    "np.random.rand(2,3)"
   ]
  },
  {
   "cell_type": "code",
   "execution_count": 6,
   "metadata": {
    "scrolled": true
   },
   "outputs": [
    {
     "data": {
      "text/plain": [
       "array([[0.49460165, 0.2280831 , 0.25547392],\n",
       "       [0.39632991, 0.3773151 , 0.99657423]])"
      ]
     },
     "execution_count": 6,
     "metadata": {},
     "output_type": "execute_result"
    }
   ],
   "source": [
    "# seed set the random algo to a particular point so will produce same set of random variable \n",
    "# if runned same command at same point, used to test results\n",
    "np.random.seed(50)\n",
    "np.random.rand(2,3)"
   ]
  },
  {
   "cell_type": "code",
   "execution_count": 9,
   "metadata": {},
   "outputs": [
    {
     "data": {
      "text/plain": [
       "array([[15, 12, 20, 17, 14],\n",
       "       [24, 13, 22, 21, 20]])"
      ]
     },
     "execution_count": 9,
     "metadata": {},
     "output_type": "execute_result"
    }
   ],
   "source": [
    "# random int values 10-24 inclusive\n",
    "np.random.randint(10,25,10).reshape(2,5)"
   ]
  },
  {
   "cell_type": "code",
   "execution_count": 15,
   "metadata": {},
   "outputs": [
    {
     "data": {
      "text/plain": [
       "array([[ 0.13920645, -0.58233489, -1.23040638, -0.0949129 ]])"
      ]
     },
     "execution_count": 15,
     "metadata": {},
     "output_type": "execute_result"
    }
   ],
   "source": [
    "# standard normal distribution\n",
    "np.random.randn(1,4)"
   ]
  },
  {
   "cell_type": "code",
   "execution_count": 5,
   "metadata": {},
   "outputs": [
    {
     "data": {
      "text/plain": [
       "array([ 6.50046905, 10.68536081, 12.30607161])"
      ]
     },
     "execution_count": 5,
     "metadata": {},
     "output_type": "execute_result"
    }
   ],
   "source": [
    "# normal distribution with mean - 10 and standard deviation - 2\n",
    "np.random.seed(100)\n",
    "10 + 2*np.random.randn(3)"
   ]
  },
  {
   "cell_type": "code",
   "execution_count": 6,
   "metadata": {},
   "outputs": [
    {
     "data": {
      "text/plain": [
       "array([ 6.50046905, 10.68536081, 12.30607161])"
      ]
     },
     "execution_count": 6,
     "metadata": {},
     "output_type": "execute_result"
    }
   ],
   "source": [
    "#second method to do it, loc is mean and scale is standard deviation\n",
    "np.random.seed(100)\n",
    "np.random.normal(loc=10, scale=2, size=3)"
   ]
  },
  {
   "cell_type": "code",
   "execution_count": 53,
   "metadata": {},
   "outputs": [
    {
     "data": {
      "text/plain": [
       "array([[0.28103486, 0.08817252, 0.09326393],\n",
       "       [0.59726792, 0.13424754, 0.42381747]])"
      ]
     },
     "execution_count": 53,
     "metadata": {},
     "output_type": "execute_result"
    }
   ],
   "source": [
    "# random array of size 2x3\n",
    "np.random.random((2,3))"
   ]
  },
  {
   "cell_type": "code",
   "execution_count": 112,
   "metadata": {},
   "outputs": [
    {
     "data": {
      "text/plain": [
       "(array([ 3,  5,  7,  9, 11, 13]), array([0, 1, 2, 3, 4]))"
      ]
     },
     "execution_count": 112,
     "metadata": {},
     "output_type": "execute_result"
    }
   ],
   "source": [
    "# create ndarray based on steps\n",
    "np.arange(3, 15, 2), np.arange(5) # arange method is similar to python range function"
   ]
  },
  {
   "cell_type": "code",
   "execution_count": 41,
   "metadata": {},
   "outputs": [
    {
     "data": {
      "text/plain": [
       "(array([ 3., 15.]),\n",
       " array([3.        , 3.66666667, 4.33333333, 5.        ]),\n",
       " array([3, 3, 4, 5]),\n",
       " array([3, 3, 4, 4]))"
      ]
     },
     "execution_count": 41,
     "metadata": {},
     "output_type": "execute_result"
    }
   ],
   "source": [
    "#  np.linspace(start, end, sizeofarray) -> it returns evenly spaced numbers over a specified interval\n",
    "np.linspace(3,15,2), np.linspace(3,5,4), np.linspace(3,5,4, dtype=int), np.linspace(3,5,4, endpoint=False, dtype=int)"
   ]
  },
  {
   "cell_type": "code",
   "execution_count": 71,
   "metadata": {},
   "outputs": [
    {
     "data": {
      "text/plain": [
       "(array([(b'm', b'M', 22), (b'v', b'F', 23)],\n",
       "       dtype=[('name', 'S1'), ('gender', 'S1'), ('age', '<i4')]),\n",
       " numpy.int32,\n",
       " numpy.bytes_,\n",
       " (b'v', b'F', 23),\n",
       " array([[1., 4.],\n",
       "        [2., 5.],\n",
       "        [3., 6.]]))"
      ]
     },
     "execution_count": 71,
     "metadata": {},
     "output_type": "execute_result"
    }
   ],
   "source": [
    "# used to read data from a text file\n",
    "# if values aren't float specify dtype, if unpacked true then return transposed np arr \n",
    "from io import StringIO\n",
    "\n",
    "txt = StringIO('''monik, M, 22\n",
    "vidhi, F, 23\n",
    "''')\n",
    "\n",
    "num = StringIO(\"1 2 3\\n4 5 6\")\n",
    "\n",
    "arr = np.loadtxt(txt, dtype={\"names\":(\"name\", \"gender\", \"age\"), \"formats\":(\"S1\", \"S1\", \"i4\")}, delimiter=\", \")\n",
    "arr_t = np.loadtxt(num, unpack=True)\n",
    "arr, type(arr[1][2]), type(arr[1][0]), arr[1], arr_t"
   ]
  },
  {
   "cell_type": "markdown",
   "metadata": {},
   "source": [
    "### Attributes ndarray\n",
    "<br>\n",
    "<li><code>ndim</code> - Returns number of dimensions</li><br>\n",
    "<li><code>shape</code> - Returns Shape in tuple</li><br>\n",
    "<li><code>size</code> - Total number of elements</li><br>\n",
    "<li><code>dtype</code> - Type of each element</li><br>\n",
    "<li><code>itemsize</code> - Size of each element in Bytes</li><br>\n",
    "<li><code>nbytes</code> - Total bytes consumed by all elements</li><br>"
   ]
  },
  {
   "cell_type": "code",
   "execution_count": 113,
   "metadata": {},
   "outputs": [
    {
     "name": "stdout",
     "output_type": "stream",
     "text": [
      "array y = [1.3 1.5 1.7]\n",
      "float64\n",
      "8\n",
      "24 \n",
      "\n",
      "array x = [0 1 2 3 4 5]\n",
      "int32\n",
      "4\n",
      "24 \n",
      "\n",
      "array f =  [1 2 3]\n",
      "int32\n",
      "4\n",
      "12 \n",
      "\n",
      "array g = [3. +4.j  0.4+7.8j]\n",
      "complex128\n"
     ]
    }
   ],
   "source": [
    "# Check the type of the values stored in numpy array and bytes consumed\n",
    "\n",
    "y = np.array([1.3,1.5,1.7])\n",
    "print(\"array y =\", y)\n",
    "print(y.dtype)\n",
    "print(y.itemsize)\n",
    "print(y.nbytes, \"\\n\")\n",
    "\n",
    "print(\"array x =\", x)\n",
    "print(x.dtype)\n",
    "print(x.itemsize)\n",
    "print(x.nbytes, \"\\n\")\n",
    "\n",
    "# can explicitly define data type of elements as int8, int32, etc making in \n",
    "# memory efficient whereas in python int take space as much as long\n",
    "f = np.array([1.9,2.5,3.1], dtype=\"int32\") \n",
    "print(\"array f = \", f)\n",
    "print(f.dtype)\n",
    "print(f.itemsize)\n",
    "print(f.nbytes, \"\\n\")\n",
    "\n",
    "g = np.array([3+4j, 0.4+7.8j])\n",
    "print(\"array g =\", g)\n",
    "print(g.dtype)"
   ]
  },
  {
   "cell_type": "code",
   "execution_count": 83,
   "metadata": {},
   "outputs": [
    {
     "name": "stdout",
     "output_type": "stream",
     "text": [
      "[0 1 2 3 4 5] \n",
      "\n",
      "size of x array - 6\n",
      "shape of x array - (6,)\n",
      "dimensions of x array - 1\n"
     ]
    }
   ],
   "source": [
    "# size, shape and dimensions of array\n",
    "\n",
    "print(x,\"\\n\")\n",
    "\n",
    "print(\"size of x array -\",x.size)\n",
    "print(\"shape of x array -\", x.shape)\n",
    "print(\"dimensions of x array -\", x.ndim)"
   ]
  },
  {
   "cell_type": "markdown",
   "metadata": {},
   "source": [
    "### Manipulation"
   ]
  },
  {
   "cell_type": "code",
   "execution_count": 75,
   "metadata": {},
   "outputs": [
    {
     "name": "stdout",
     "output_type": "stream",
     "text": [
      "[[ 0  1  2  3  4  5]\n",
      " [ 6  7  8  9 10 11]] \n",
      "\n",
      "size of z array - <class 'int'>\n",
      "shape of z array - (2, 6)\n",
      "dimensions of z array - 2\n"
     ]
    }
   ],
   "source": [
    "print(z,\"\\n\")\n",
    "\n",
    "print(\"size of z array -\", z.size)\n",
    "print(\"shape of z array -\", z.shape)\n",
    "print(\"dimensions of z array -\", z.ndim)"
   ]
  },
  {
   "cell_type": "code",
   "execution_count": 106,
   "metadata": {},
   "outputs": [
    {
     "name": "stdout",
     "output_type": "stream",
     "text": [
      "array z = [[ 0  1  2  3  4  5]\n",
      " [ 6  7  8  9 10 11]] \n",
      "\n",
      "array a = [[ 0  1]\n",
      " [ 2  3]\n",
      " [ 4  5]\n",
      " [ 6  7]\n",
      " [ 8  9]\n",
      " [10 11]] \n",
      "\n",
      "[10 11 12 13 14 15 16 17 18 19 20 21]\n",
      "\n",
      "[[10 11 12 13 14 15]\n",
      " [16 17 18 19 20 21]]\n",
      "\n",
      "[[[10 11 12 13]]\n",
      "\n",
      " [[14 15 16 17]]\n",
      "\n",
      " [[18 19 20 21]]]\n"
     ]
    }
   ],
   "source": [
    "# Reshape array\n",
    "\n",
    "print(\"array z =\", z, \"\\n\")\n",
    "\n",
    "a=z.reshape(6,2)\n",
    "\n",
    "print(\"array a =\", a, \"\\n\")\n",
    "\n",
    "# to create array\n",
    "x = np.arange(10,22)\n",
    "print(x, x.reshape(2,6), x.reshape(3,1,4), sep=\"\\n\\n\") "
   ]
  },
  {
   "cell_type": "code",
   "execution_count": 90,
   "metadata": {},
   "outputs": [
    {
     "data": {
      "text/plain": [
       "(array([[1, 2, 3],\n",
       "        [4, 5, 6],\n",
       "        [7, 8, 9]]),\n",
       " array([1, 2, 3, 4, 5, 6, 7, 8, 9]))"
      ]
     },
     "execution_count": 90,
     "metadata": {},
     "output_type": "execute_result"
    }
   ],
   "source": [
    "# can concatenate ndarrays\n",
    "\n",
    "a = np.array([1,2,3])\n",
    "b = np.array([4,5,6])\n",
    "c = np.array([7,8,9])\n",
    "\n",
    "# vertically\n",
    "abc_v = np.vstack((a,b,c))\n",
    "# horizontally\n",
    "abc_h = np.hstack((a,b,c))\n",
    "\n",
    "abc_v, abc_h"
   ]
  },
  {
   "cell_type": "code",
   "execution_count": 113,
   "metadata": {},
   "outputs": [
    {
     "name": "stdout",
     "output_type": "stream",
     "text": [
      "[array([[1, 2, 3]]), array([[4, 5, 6]]), array([[7, 8, 9]])]\n",
      "[array([[1, 2, 3],\n",
      "       [4, 5, 6]]), array([[7, 8, 9]]), array([], shape=(0, 3), dtype=int32)]\n",
      "[array([[1],\n",
      "       [4],\n",
      "       [7]]), array([[2],\n",
      "       [5],\n",
      "       [8]]), array([[3],\n",
      "       [6],\n",
      "       [9]])]\n",
      "[1 2 3]\n",
      "[4 5 6]\n",
      "[7 8 9]\n",
      "[[1 2 3]] [1 2 3] 1\n"
     ]
    }
   ],
   "source": [
    "# can split ndarrys vertical and horizontally\n",
    "\n",
    "v_sol1 = np.vsplit(abc_v,3)\n",
    "v_sol2 = np.vsplit(abc_v, (2,3)) # possible to split at specific row numbers\n",
    "h_sol1 = np.hsplit(abc_v,3)\n",
    "(h1, h2, h3) = np.hsplit(abc_h,3)\n",
    "\n",
    "print(v_sol1, v_sol2, h_sol1, h1, h2, h3, sep=\"\\n\")\n",
    "print(v_sol1[0], v_sol1[0][0], v_sol1[0][0][0])"
   ]
  },
  {
   "cell_type": "markdown",
   "metadata": {},
   "source": [
    "### Indexing, Slicing and Iterating\n",
    "\n",
    "slicing - refers to extracting a portion of existing array<br>\n",
    "can be achieved with a slice object is of the form [start:end:step] and all three are optional"
   ]
  },
  {
   "cell_type": "code",
   "execution_count": 27,
   "metadata": {},
   "outputs": [
    {
     "name": "stdout",
     "output_type": "stream",
     "text": [
      "1.5\n",
      "[1.3 1.7] \n",
      "\n",
      "9\n",
      "[ 6  7  8  9 10 11]\n",
      "[[0 1]\n",
      " [6 7]]\n"
     ]
    },
    {
     "data": {
      "text/plain": [
       "array([2, 8])"
      ]
     },
     "execution_count": 27,
     "metadata": {},
     "output_type": "execute_result"
    }
   ],
   "source": [
    "## Accessing the array elements\n",
    "\n",
    "y = np.array([1.3, 1.5, 1.7])\n",
    "print(y[1])\n",
    "print(y[::2], \"\\n\")\n",
    "\n",
    "# for n dimensional array, n slice objects are required\n",
    "z = np.array([[ 0,  1,  2,  3,  4,  5],\n",
    "              [ 6,  7,  8,  9, 10, 11]])\n",
    "\n",
    "print(z[1][3]) # indexing\n",
    "print(z[1]) # indexing\n",
    "print(z[:,:2]) # slicing\n",
    "z[:, 2] # slicing"
   ]
  },
  {
   "cell_type": "code",
   "execution_count": 144,
   "metadata": {},
   "outputs": [
    {
     "name": "stdout",
     "output_type": "stream",
     "text": [
      "array y = [1.3 1.5 3.2]\n",
      "array x = [0 1 2 3 4 5]\n",
      "<class 'tuple'>\n",
      "(200, 300, 400)\n",
      "array x = [  0   1 100 125 150   5]\n",
      "<class 'numpy.ndarray'>\n",
      "[100 125 150]\n"
     ]
    }
   ],
   "source": [
    "# Reassign values\n",
    "\n",
    "y[2] = 3.2\n",
    "print(\"array y =\", y)\n",
    "\n",
    "x = np.arange(6)\n",
    "x_arr = x[2:5]\n",
    "x_arr = 200,300,400\n",
    "print(\"array x =\", x)\n",
    "print(type(x_arr), x_arr, sep=\"\\n\")\n",
    "\n",
    "# here x_slice is represents x[2:5]\n",
    "x_slice = x[2:5]\n",
    "x_slice[:] = 100,125,150\n",
    "print(\"array x =\", x)\n",
    "print(type(x_slice), x_slice, sep=\"\\n\")"
   ]
  },
  {
   "cell_type": "code",
   "execution_count": 19,
   "metadata": {},
   "outputs": [],
   "source": [
    "# to iterate ndarray\n",
    "\n",
    "k = np.arange(30).reshape(2,5,3)\n",
    "l = np.arange(12).reshape(3,4)\n",
    "m = np.arange(5)"
   ]
  },
  {
   "cell_type": "code",
   "execution_count": 25,
   "metadata": {},
   "outputs": [
    {
     "name": "stdout",
     "output_type": "stream",
     "text": [
      "rows of k [[ 0  1  2]\n",
      " [ 3  4  5]\n",
      " [ 6  7  8]\n",
      " [ 9 10 11]\n",
      " [12 13 14]] \n",
      "\n",
      "rows of k [[15 16 17]\n",
      " [18 19 20]\n",
      " [21 22 23]\n",
      " [24 25 26]\n",
      " [27 28 29]] \n",
      "\n",
      "rows of l [0 1 2 3] \n",
      "\n",
      "rows of l [4 5 6 7] \n",
      "\n",
      "rows of l [ 8  9 10 11] \n",
      "\n",
      "0\n",
      "1\n",
      "2\n",
      "3\n",
      "4\n"
     ]
    }
   ],
   "source": [
    "# if iterating using for-loops then can iterate only over first dimension of ndarray\n",
    "\n",
    "for i in k:\n",
    "    print(\"rows of k\", i, \"\\n\")\n",
    "for i in l:\n",
    "    print(\"rows of l\", i, \"\\n\")\n",
    "for i in m:\n",
    "    print(i)"
   ]
  },
  {
   "cell_type": "code",
   "execution_count": 24,
   "metadata": {
    "scrolled": true
   },
   "outputs": [
    {
     "name": "stdout",
     "output_type": "stream",
     "text": [
      "rows of l 0\n",
      "rows of l 1\n",
      "rows of l 2\n",
      "rows of l 3\n",
      "rows of l 4\n",
      "rows of l 5\n",
      "rows of l 6\n",
      "rows of l 7\n",
      "rows of l 8\n",
      "rows of l 9\n",
      "rows of l 10\n",
      "rows of l 11\n",
      "0\n",
      "1\n",
      "2\n",
      "3\n",
      "4\n"
     ]
    }
   ],
   "source": [
    "# to iterate over each and every element in ndarray one after another \n",
    "\n",
    "for i in np.nditer(l):\n",
    "    print(\"rows of l\", i)\n",
    "for i in np.nditer(m):\n",
    "    print(i)"
   ]
  },
  {
   "cell_type": "code",
   "execution_count": 19,
   "metadata": {},
   "outputs": [
    {
     "name": "stdout",
     "output_type": "stream",
     "text": [
      "[  1   2   3   4   5 100   7   8   9]\n",
      "[  1   2   3   4   5 100   7   8   9]\n",
      "[  1   2   3   4   5 100   7   8   9]\n",
      "[  1   2   3   4   5 500   7   8   9]\n"
     ]
    }
   ],
   "source": [
    "# when create a arr from slice of array numpy doesn't allocate new memory for it but create a view any operation \n",
    "# done to changes value will affect the original np.array. So make a copy of that array, slice of array which is\n",
    "# point to different address use copy method\n",
    "\n",
    "abc = np.arange(1,10)\n",
    "xyz = abc\n",
    "xyz[5] = 100\n",
    "print(abc, xyz, sep=\"\\n\")\n",
    "\n",
    "# to make copies and not refer the object\n",
    "ghi = abc.copy()\n",
    "ghi[5] = 500\n",
    "print(abc, ghi, sep=\"\\n\")"
   ]
  },
  {
   "cell_type": "code",
   "execution_count": 37,
   "metadata": {},
   "outputs": [
    {
     "name": "stdout",
     "output_type": "stream",
     "text": [
      "[[ 0  1  2  3  4  5]\n",
      " [ 6  7  8  9 10 11]]\n",
      "[[False False False  True  True  True]\n",
      " [ True  True  True  True  True  True]]\n",
      "[ 3  4  5  6  7  8  9 10 11]\n",
      "[0 3 6 9]\n"
     ]
    }
   ],
   "source": [
    "# boolean indexing\n",
    "# Some conditions very useful in Exploratory Data Analysis\n",
    "\n",
    "z = np.arange(12).reshape(2,6)\n",
    "\n",
    "print(z)\n",
    "print(z>=3)\n",
    "print(z[z>=3])\n",
    "\n",
    "condition = z%3 == 0\n",
    "print(z[condition])"
   ]
  },
  {
   "cell_type": "markdown",
   "metadata": {},
   "source": [
    "### Operations\n",
    "\n",
    "they are carried out elementwise.<br>\n",
    "to perform these operation in list will require loops can be done here wihtout it.<br>\n",
    "numpy mathematical operations are more efficient both in terms of speed, memory and easy to code.<br>\n",
    "\n",
    "#### Scaler operations"
   ]
  },
  {
   "cell_type": "code",
   "execution_count": 14,
   "metadata": {},
   "outputs": [
    {
     "name": "stdout",
     "output_type": "stream",
     "text": [
      "[ 6  8 14]\n",
      "[5 6 9]\n",
      "[1 0 1]\n",
      "[2 3 6]\n",
      "[1.         1.33333333 2.33333333]\n"
     ]
    },
    {
     "data": {
      "text/plain": [
       "[3, 4, 7, 3, 4, 7]"
      ]
     },
     "execution_count": 14,
     "metadata": {},
     "output_type": "execute_result"
    }
   ],
   "source": [
    "# ndarray\n",
    "w = np.array([3,4,7])\n",
    "print(w*2, w+2, w%2, w-1, w/3, sep=\"\\n\") \n",
    "\n",
    "lst = [3,4,7]\n",
    "lst*2"
   ]
  },
  {
   "cell_type": "markdown",
   "metadata": {},
   "source": [
    "#### Vector operations \n",
    "\n",
    "Element wise operations between arrays are possible only when they have the same shape or compatible for Broadcasting"
   ]
  },
  {
   "cell_type": "code",
   "execution_count": 20,
   "metadata": {},
   "outputs": [
    {
     "name": "stdout",
     "output_type": "stream",
     "text": [
      "[2 6 8]\n",
      "[ 8 14 22]\n",
      "[0.6        0.4        0.46666667]\n"
     ]
    },
    {
     "data": {
      "text/plain": [
       "array([ 9, 16, 49])"
      ]
     },
     "execution_count": 20,
     "metadata": {},
     "output_type": "execute_result"
    }
   ],
   "source": [
    "# element wise-operations\n",
    "v = np.array([5,10,15])\n",
    "print(v-w, v+w, w/v, sep=\"\\n\")\n",
    "\n",
    "# hadamard product\n",
    "w*w "
   ]
  },
  {
   "cell_type": "code",
   "execution_count": 22,
   "metadata": {},
   "outputs": [
    {
     "name": "stderr",
     "output_type": "stream",
     "text": [
      "<ipython-input-22-3ac896a7289e>:3: RuntimeWarning: invalid value encountered in true_divide\n",
      "  arr1/ arr2\n"
     ]
    },
    {
     "data": {
      "text/plain": [
       "array([nan, 0.5, 0.5])"
      ]
     },
     "execution_count": 22,
     "metadata": {},
     "output_type": "execute_result"
    }
   ],
   "source": [
    "# 0/0 gives error but here is numpy it assign an NAN value and gives warning, doesn't break the code by giving error\n",
    "# 1/0 gives INF value, not error but warning\n",
    "arr1 = np.arange(0,3)\n",
    "arr2 = np.arange(0,5,2)\n",
    "arr1/arr2"
   ]
  },
  {
   "cell_type": "code",
   "execution_count": 22,
   "metadata": {},
   "outputs": [
    {
     "data": {
      "text/plain": [
       "[8, 14, 22]"
      ]
     },
     "execution_count": 22,
     "metadata": {},
     "output_type": "execute_result"
    }
   ],
   "source": [
    "# wihtout numpy element wise-operation\n",
    "a=[1,1,0]\n",
    "b=[0,1,1]\n",
    "c=[1,2,6]\n",
    "d=[]\n",
    "for i in zip(w,v):\n",
    "    d.append(sum(i))\n",
    "d"
   ]
  },
  {
   "cell_type": "code",
   "execution_count": 61,
   "metadata": {},
   "outputs": [
    {
     "name": "stdout",
     "output_type": "stream",
     "text": [
      "[[ True  True]\n",
      " [ True  True]]\n"
     ]
    }
   ],
   "source": [
    "x = np.arange(4).reshape(2,2)\n",
    "print(np.isfinite(x))"
   ]
  },
  {
   "cell_type": "markdown",
   "metadata": {},
   "source": [
    "###### Broadcasting\n",
    "the resulted ndarray shape has max dimension of ndarrays used in operation\n",
    "<ol>\n",
    "    <li>step1 - compare all dimensions of all ndarrays</li>\n",
    "    <li>step2 - keep adding 1 dimension to left-side till ndarrays are of same dimension</li>\n",
    "    <li>step3 - compare shape of ndarray start from right-side</li>\n",
    "    <li>step4 - if shape same or has 1 the continue till end</li>\n",
    "    <li>step5 - if has match according to step4 is feasible otherwise not feasible</li>\n",
    "</ol>\n",
    "example1:<br>\n",
    "\n",
    "```bash\n",
    "Given: s1 = (4, 3); s2 = (3,)  \n",
    "Step 1 and 2: s1 = (4, 3); s2 = (1, 3)\n",
    "Step 3 and 4: pass in 2 dimensions\n",
    "Result : Broadcasting feasible;\n",
    "resulted array shape - (4,3)\n",
    "```\n",
    "example2:<br>\n",
    "\n",
    "```bash\n",
    "Given: s1 = (5,); s2 = (5,4,3)\n",
    "Step 1 and 2: s1 = (1, 1, 5); s2 = (5, 4, 3)\n",
    "Step 3 and 4: fail in last dimension. ( 5 != 3)\n",
    "Result : Broadcasting not feasible. \n",
    "```"
   ]
  },
  {
   "cell_type": "code",
   "execution_count": 51,
   "metadata": {},
   "outputs": [
    {
     "data": {
      "text/plain": [
       "array([[-10,  20],\n",
       "       [ 20, -40]])"
      ]
     },
     "execution_count": 51,
     "metadata": {},
     "output_type": "execute_result"
    }
   ],
   "source": [
    "# can perform element-wise operation on on arrays with varying size and shape\n",
    "x1 = np.array([[-1, 1],\n",
    "               [2, -2]])\n",
    "x2 = np.array([10, 20])\n",
    "x1*x2"
   ]
  },
  {
   "cell_type": "code",
   "execution_count": 37,
   "metadata": {},
   "outputs": [
    {
     "name": "stdout",
     "output_type": "stream",
     "text": [
      "[[ -8   0 -64]\n",
      " [  0   0  24]\n",
      " [  0   0   1]]\n",
      "\n",
      "[[-8 -4 20]\n",
      " [ 0  4 20]\n",
      " [ 0  0  1]]\n"
     ]
    }
   ],
   "source": [
    "# matrix multiplication\n",
    "a = np.array([[2, -2, 0],\n",
    "              [2, 2 , 0],\n",
    "              [0, 0, 1]])\n",
    "\n",
    "b = np.array([[-2, 0, 10],\n",
    "              [2, 2 , 0],\n",
    "              [0, 0, 1]])\n",
    "\n",
    "c = np.array([[1, 0, 10],\n",
    "              [0, 0, 1],\n",
    "              [0, 0, 1]])\n",
    "\n",
    "inter = np.dot(a,b)\n",
    "final = np.dot(d,c)\n",
    "\n",
    "all_together = np.dot(a,b,c)\n",
    "\n",
    "print(final, all_together, sep=\"\\n\\n\")"
   ]
  },
  {
   "cell_type": "markdown",
   "metadata": {},
   "source": [
    "###### numpy mathematical function "
   ]
  },
  {
   "cell_type": "code",
   "execution_count": 24,
   "metadata": {},
   "outputs": [
    {
     "data": {
      "text/plain": [
       "(array([1, 2, 3, 4]),\n",
       " array([0.        , 0.52359878, 1.04719755, 1.57079633]),\n",
       " array([[1.        , 2.        , 3.        , 4.        ],\n",
       "        [0.        , 0.52359878, 1.04719755, 1.57079633]]))"
      ]
     },
     "execution_count": 24,
     "metadata": {},
     "output_type": "execute_result"
    }
   ],
   "source": [
    "w = np.arange(1,5)\n",
    "z = np.array([0, np.pi/6, np.pi/3, np.pi/2])\n",
    "one = np.vstack((w,z))\n",
    "\n",
    "w, z, one"
   ]
  },
  {
   "cell_type": "code",
   "execution_count": 26,
   "metadata": {},
   "outputs": [
    {
     "data": {
      "text/plain": [
       "(10,\n",
       " 2.5,\n",
       " 1.118033988749895,\n",
       " array([ 1,  4,  9, 16], dtype=int32),\n",
       " array([1.        , 1.41421356, 1.73205081, 2.        ]),\n",
       " array([ 2.71828183,  7.3890561 , 20.08553692, 54.59815003]),\n",
       " array([0.        , 0.69314718, 1.09861229, 1.38629436]))"
      ]
     },
     "execution_count": 26,
     "metadata": {},
     "output_type": "execute_result"
    }
   ],
   "source": [
    "# numpy has variety of functions, check below site for it\n",
    "# https://numpy.org/doc/stable/reference/ufuncs.html#available-ufuncs\n",
    "\n",
    "w.sum(), w.mean(), w.std(), np.square(w), np.sqrt(w), np.exp(w), np.log(w)"
   ]
  },
  {
   "cell_type": "code",
   "execution_count": 67,
   "metadata": {},
   "outputs": [
    {
     "data": {
      "text/plain": [
       "array([0.       , 0.5      , 0.8660254, 1.       ])"
      ]
     },
     "execution_count": 67,
     "metadata": {},
     "output_type": "execute_result"
    }
   ],
   "source": [
    "np.sin(z)"
   ]
  },
  {
   "cell_type": "code",
   "execution_count": 80,
   "metadata": {},
   "outputs": [
    {
     "name": "stdout",
     "output_type": "stream",
     "text": [
      "[10.          3.14159265] \n",
      "\n",
      "[1.         2.52359878 4.04719755 5.57079633] \n",
      "\n",
      "[[1.         0.        ]\n",
      " [2.         0.52359878]\n",
      " [3.         1.04719755]\n",
      " [4.         1.57079633]]\n"
     ]
    }
   ],
   "source": [
    "print(one.sum(axis=1), \"\\n\") # sum of all elements across row\n",
    "print(one.sum(axis=0), \"\\n\") # sum of all elements across column\n",
    "print(one.T) # transpose"
   ]
  },
  {
   "cell_type": "code",
   "execution_count": 18,
   "metadata": {},
   "outputs": [
    {
     "name": "stdout",
     "output_type": "stream",
     "text": [
      "[ 7  2 37 21 37 45 15  5 23 44]\n"
     ]
    },
    {
     "data": {
      "text/plain": [
       "(2, 1)"
      ]
     },
     "execution_count": 18,
     "metadata": {},
     "output_type": "execute_result"
    }
   ],
   "source": [
    "# can find min and max value of array\n",
    "x = np.random.randint(1,50,10)\n",
    "\n",
    "print(x)\n",
    "x.min(), x.argmin(axis=0)"
   ]
  },
  {
   "cell_type": "code",
   "execution_count": 11,
   "metadata": {},
   "outputs": [
    {
     "name": "stdout",
     "output_type": "stream",
     "text": [
      "[[ 0  1  2  3  4  5]\n",
      " [ 6  7  8  9 10 11]\n",
      " [12 13 14 15 16 17]\n",
      " [18 19 20 21 22 23]\n",
      " [24 25 26 27 28 29]]\n"
     ]
    },
    {
     "data": {
      "text/plain": [
       "array([5, 5, 5, 5, 5], dtype=int64)"
      ]
     },
     "execution_count": 11,
     "metadata": {},
     "output_type": "execute_result"
    }
   ],
   "source": [
    "# return index of maximum values along an axis\n",
    "x = np.arange(30).reshape(5,6)\n",
    "print(x)\n",
    "x.argmax(axis=1) # is vertical, 0 for horizontal"
   ]
  },
  {
   "cell_type": "code",
   "execution_count": 95,
   "metadata": {},
   "outputs": [
    {
     "data": {
      "text/plain": [
       "array([7, 5, 1, 6])"
      ]
     },
     "execution_count": 95,
     "metadata": {},
     "output_type": "execute_result"
    }
   ],
   "source": [
    "a = np.array([2,5,1,5])\n",
    "b = np.array([7,4,1,6])\n",
    "\n",
    "np.maximum(a,b) #finds max of both arrays on each index returns it"
   ]
  },
  {
   "cell_type": "markdown",
   "metadata": {},
   "source": [
    "### plot numpy to graph "
   ]
  },
  {
   "cell_type": "code",
   "execution_count": 6,
   "metadata": {},
   "outputs": [],
   "source": [
    "import seaborn as sns\n",
    "import pandas as pd\n",
    "import matplotlib.pyplot as plt\n",
    "%matplotlib inline"
   ]
  },
  {
   "cell_type": "code",
   "execution_count": 7,
   "metadata": {},
   "outputs": [
    {
     "data": {
      "text/plain": [
       "<matplotlib.axes._subplots.AxesSubplot at 0x193a223a0d0>"
      ]
     },
     "execution_count": 7,
     "metadata": {},
     "output_type": "execute_result"
    },
    {
     "data": {
      "image/png": "[encoded data removed]",
      "text/plain": [
       "<Figure size 432x288 with 1 Axes>"
      ]
     },
     "metadata": {
      "needs_background": "light"
     },
     "output_type": "display_data"
    }
   ],
   "source": [
    "arr_ex = np.random.randn(4,4)\n",
    "sns.distplot(pd.DataFrame(arr_ex.reshape(16,1)))"
   ]
  },
  {
   "cell_type": "code",
   "execution_count": 8,
   "metadata": {},
   "outputs": [
    {
     "data": {
      "text/plain": [
       "[<matplotlib.lines.Line2D at 0x193a22c8310>]"
      ]
     },
     "execution_count": 8,
     "metadata": {},
     "output_type": "execute_result"
    },
    {
     "data": {
      "image/png": "[encoded data removed]",
      "text/plain": [
       "<Figure size 432x288 with 1 Axes>"
      ]
     },
     "metadata": {
      "needs_background": "light"
     },
     "output_type": "display_data"
    }
   ],
   "source": [
    "x = np.linspace(0,2*np.pi,num=25)\n",
    "y = np.sin(x)\n",
    "plt.plot(x,y)"
   ]
  },
  {
   "cell_type": "code",
   "execution_count": null,
   "metadata": {},
   "outputs": [],
   "source": []
  },
  {
   "cell_type": "code",
   "execution_count": null,
   "metadata": {},
   "outputs": [],
   "source": []
  },
  {
   "cell_type": "code",
   "execution_count": 64,
   "metadata": {},
   "outputs": [
    {
     "name": "stdout",
     "output_type": "stream",
     "text": [
      "[[0 0 0]\n",
      " [0 0 0]]\n"
     ]
    }
   ],
   "source": [
    "x = np.array([[-1,0,1], [-2, 0, 2]])\n",
    "\n",
    "y = np.zeros_like(x)\n",
    "print(y)"
   ]
  },
  {
   "cell_type": "code",
   "execution_count": 65,
   "metadata": {},
   "outputs": [
    {
     "data": {
      "text/plain": [
       "array([[[ 0,  1],\n",
       "        [ 2,  3],\n",
       "        [ 4,  5],\n",
       "        [ 6,  7],\n",
       "        [ 8,  9]],\n",
       "\n",
       "       [[10, 11],\n",
       "        [12, 13],\n",
       "        [14, 15],\n",
       "        [16, 17],\n",
       "        [18, 19]],\n",
       "\n",
       "       [[20, 21],\n",
       "        [22, 23],\n",
       "        [24, 25],\n",
       "        [26, 27],\n",
       "        [28, 29]]])"
      ]
     },
     "execution_count": 65,
     "metadata": {},
     "output_type": "execute_result"
    }
   ],
   "source": [
    "np.arange(30).reshape(3,5,2)"
   ]
  },
  {
   "cell_type": "code",
   "execution_count": null,
   "metadata": {},
   "outputs": [],
   "source": []
  }
 ],
 "metadata": {
  "kernelspec": {
   "display_name": "Python 3",
   "language": "python",
   "name": "python3"
  },
  "language_info": {
   "codemirror_mode": {
    "name": "ipython",
    "version": 3
   },
   "file_extension": ".py",
   "mimetype": "text/x-python",
   "name": "python",
   "nbconvert_exporter": "python",
   "pygments_lexer": "ipython3",
   "version": "3.8.3"
  }
 },
 "nbformat": 4,
 "nbformat_minor": 4
}
