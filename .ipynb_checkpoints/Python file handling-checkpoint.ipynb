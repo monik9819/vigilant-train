{
 "cells": [
  {
   "cell_type": "markdown",
   "metadata": {},
   "source": [
    "# Python notes 5\n",
    "files"
   ]
  },
  {
   "cell_type": "markdown",
   "metadata": {},
   "source": [
    "## Files\n",
    "\n",
    "to access files like .txt and .bin in python <code>open</code> function is used and need to define mode whether wanna read, write, update,etc. By default read mode is taken in account<br>\n",
    "\n",
    "open function takes 2 argument: <code>open('path/filename','mode')</code><br>\n",
    "if file is present in the directory where script is running then relative path will work otherwise provide absolute path<br><br>"
   ]
  },
  {
   "cell_type": "markdown",
   "metadata": {},
   "source": [
    "when file is opened the OS checks the premission to access the file, if found then OS returns a token called file descriptor and it allows programs to do more operations with the file. And the file descriptor is saved an file object attribute which have alot of methods.\n",
    "\n",
    "is also called the file handle and it doesn't contain data but is the link to access file data."
   ]
  },
  {
   "cell_type": "code",
   "execution_count": 1,
   "metadata": {},
   "outputs": [
    {
     "data": {
      "text/plain": [
       "<_io.TextIOWrapper name='1.txt' mode='rt' encoding='cp1252'>"
      ]
     },
     "execution_count": 1,
     "metadata": {},
     "output_type": "execute_result"
    }
   ],
   "source": [
    "a = open(\"1.txt\",\"rt\")\n",
    "a"
   ]
  },
  {
   "cell_type": "markdown",
   "metadata": {},
   "source": [
    "###### Always remember to close the file.....if want to use file in different blocks of code don't use <code>with</code> otherwise better to use it"
   ]
  },
  {
   "cell_type": "markdown",
   "metadata": {},
   "source": [
    "### Read\n",
    "to read the file enter <code>rt</code>for text file and <code>rb</code> for binary file"
   ]
  },
  {
   "cell_type": "code",
   "execution_count": 12,
   "metadata": {},
   "outputs": [
    {
     "name": "stdout",
     "output_type": "stream",
     "text": [
      "currently in my third year pursing b.tech in mechanical;\n",
      "\n",
      "}\n",
      "\n",
      "\n",
      "\n",
      "// the loop function runs over and over again forever\n",
      "\n",
      "void loop() {\n",
      "\n",
      "  for(i=0;i<5;i++){\n",
      "\n",
      "  digitalWrite(13, HIGH);  \n",
      "\n",
      "  delay(500);                      \n",
      "\n",
      "  digitalWrite(13, LOW);    \n",
      "\n",
      "  delay(500); \n",
      "\n",
      "  }  \n",
      "\n",
      "  for(j=0;i<5;j++){\n",
      "\n",
      "  digitalWrite(13, HIGH);  \n",
      "\n",
      "  delay(2000);                      \n",
      "\n",
      "  digitalWrite(13, LOW);    \n",
      "\n",
      "  delay(2000); \n",
      "\n",
      "  }                                 \n",
      "\n",
      "}\n"
     ]
    }
   ],
   "source": [
    "for i in a:\n",
    "    print(i) #to print data in it got to run loop, that way will print line by line but adds extra \\n cz print by default print\n",
    "             #\\n and at the end of each line their is already \\n present\n",
    "a.close() #always close the file after completing the work on file"
   ]
  },
  {
   "cell_type": "code",
   "execution_count": 1,
   "metadata": {},
   "outputs": [
    {
     "name": "stdout",
     "output_type": "stream",
     "text": [
      "currently in my third year pursing b.tech in mechanical;\n",
      "}\n",
      "\n",
      "// the loop function runs over and over again forever\n",
      "void loop() {\n",
      "  for(i=0;i<5;i++){\n",
      "  digitalWrite(13, HIGH);  \n",
      "  delay(500);                      \n",
      "  digitalWrite(13, LOW);    \n",
      "  delay(500); \n",
      "  }  \n",
      "  for(j=0;i<5;j++){\n",
      "  digitalWrite(13, HIGH);  \n",
      "  delay(2000);                      \n",
      "  digitalWrite(13, LOW);    \n",
      "  delay(2000); \n",
      "  }                                 \n",
      "}\n"
     ]
    }
   ],
   "source": [
    "#after opening we have to close file every time so better to use with statement\n",
    "#as with statement automatically closes file\n",
    "with open(\"1.txt\",\"rt\") as handle:\n",
    "    print(handle.read())"
   ]
  },
  {
   "cell_type": "code",
   "execution_count": 3,
   "metadata": {},
   "outputs": [
    {
     "name": "stdout",
     "output_type": "stream",
     "text": [
      "1.designing software\n",
      "autocad\n",
      "catia\n",
      "creo parametric\n",
      "inventor(g)\n",
      "nx\n",
      "solid edge(g)\n",
      "soildworks\n",
      "2.analysis software\n",
      "ansys\n",
      "3.apart from these\n",
      "cnc (g-code)\n",
      "practical applications of machine lathe,milling,cnc,vmc,etc\n",
      "proper welding\n",
      "4.apart from mech\n",
      "iot\n",
      "arduino\n",
      "raspberry pi\n",
      "plc\n",
      "5.for ms\n",
      "B2 level german\n",
      "maintain gpa 8\n",
      "gre\n",
      "english improvement\n",
      "write more papers and participate\n",
      "make resume better in any way possible\n",
      "\n",
      "machine learning(g)\n",
      "embedded-c(g)\n",
      "image processing(g)\n",
      "open cv(g)\n",
      "python\n",
      "c\n",
      "\n"
     ]
    }
   ],
   "source": [
    "fh=open(\"things to learn.txt\",\"rt\")\n",
    "b=fh.read() #prints the data as it is\n",
    "print(b)\n",
    "fh.close()"
   ]
  },
  {
   "cell_type": "code",
   "execution_count": 13,
   "metadata": {},
   "outputs": [
    {
     "name": "stdout",
     "output_type": "stream",
     "text": [
      "1.designing software\n",
      "\n",
      "autocad\n",
      "\n",
      "cat\n",
      "ia\n",
      "\n",
      "creo parametric\n",
      "\n",
      "inventor(g)\n",
      "\n"
     ]
    },
    {
     "data": {
      "text/plain": [
       "<function TextIOWrapper.close()>"
      ]
     },
     "execution_count": 13,
     "metadata": {},
     "output_type": "execute_result"
    }
   ],
   "source": [
    "fh=open(\"things to learn.txt\",\"rt\")\n",
    "d=fh.readline() #reads and prints data line by line\n",
    "print(d)\n",
    "print(fh.readline()) #readline already gives \\n and even print gives \\n so next statement is printed after 2 \\n\n",
    "print(fh.readline(3)) #reads only the number of characters mentioned from the following line \n",
    "print(fh.readline()) #will read remaing text from previous line\n",
    "print(fh.readline(20)) #if number of character are more prints just the whole line\n",
    "print(fh.readline()) #starts prints next line\n",
    "fh.close"
   ]
  },
  {
   "cell_type": "code",
   "execution_count": 21,
   "metadata": {},
   "outputs": [
    {
     "name": "stdout",
     "output_type": "stream",
     "text": [
      "1.txt\n",
      "r\n",
      "<class '_io.TextIOWrapper'>\n",
      "<class 'str'>\n"
     ]
    },
    {
     "data": {
      "text/plain": [
       "True"
      ]
     },
     "execution_count": 21,
     "metadata": {},
     "output_type": "execute_result"
    }
   ],
   "source": [
    "fh = open(\"1.txt\",\"r\")\n",
    "print(fh.name)\n",
    "print(fh.mode)\n",
    "content = fh.read()\n",
    "print(type(fh))\n",
    "print(type(content))\n",
    "fh.close()\n",
    "fh.closed # to verify of ots closed"
   ]
  },
  {
   "cell_type": "code",
   "execution_count": 1,
   "metadata": {},
   "outputs": [
    {
     "name": "stdout",
     "output_type": "stream",
     "text": [
      "currently in my third year pursing b.tech in mecha\n"
     ]
    }
   ],
   "source": [
    "a = open(\"1.txt\",\"rt\")\n",
    "c=a.read(50) #prints data upto index 50\n",
    "print(c)\n",
    "a.close()"
   ]
  },
  {
   "cell_type": "markdown",
   "metadata": {},
   "source": [
    "#### Q1.  \"X-DSPAM-Confidence\" extact all values of associated with this text and print its avg "
   ]
  },
  {
   "cell_type": "code",
   "execution_count": 1,
   "metadata": {},
   "outputs": [
    {
     "name": "stdout",
     "output_type": "stream",
     "text": [
      "Enter file name: mbox-short.txt\n",
      "Average spam confidence: 0.7507185185185187\n"
     ]
    }
   ],
   "source": [
    "# Use the file name mbox-short.txt as the file name\n",
    "fname = input(\"Enter file name: \")\n",
    "fh = open(fname)#mbox-short.txt is the name of file\n",
    "count=0\n",
    "uma=0\n",
    "for line in fh:\n",
    "    if line.startswith(\"X-DSPAM-Confidence:\"):\n",
    "        ce = line.find(\":\")\n",
    "        a = line[ce+1:]\n",
    "        uma+=float(a)\n",
    "        count+=1\n",
    "    else:\n",
    "        continue\n",
    "    avg = uma/count\n",
    "\n",
    "print(\"Average spam confidence:\",avg)\n",
    "fh.close()"
   ]
  },
  {
   "cell_type": "markdown",
   "metadata": {},
   "source": [
    "### Write\n",
    "to write use <code>w</code> and to append in it use <code>a</code> in mode to enable it, and if file doesn't exit it will create one and then write/append as mentioned in mode"
   ]
  },
  {
   "cell_type": "code",
   "execution_count": 31,
   "metadata": {},
   "outputs": [
    {
     "name": "stdout",
     "output_type": "stream",
     "text": [
      "i monik a of Manipal University Jaipur\n",
      "buzzer off\n"
     ]
    },
    {
     "data": {
      "text/plain": [
       "<function TextIOWrapper.close()>"
      ]
     },
     "execution_count": 31,
     "metadata": {},
     "output_type": "execute_result"
    }
   ],
   "source": [
    "info = open(\"info.txt\",\"w\")\n",
    "info.write(\"i monik a of Manipal University Jaipur\\n\")\n",
    "info.write(\"buzzer off\")\n",
    "info.close\n",
    "info = open(\"info.txt\")\n",
    "print(info.read())\n",
    "info.close"
   ]
  },
  {
   "cell_type": "markdown",
   "metadata": {},
   "source": [
    "### Create\n",
    "used to create a file <code>x</code> "
   ]
  },
  {
   "cell_type": "code",
   "execution_count": 34,
   "metadata": {},
   "outputs": [
    {
     "data": {
      "text/plain": [
       "<function TextIOWrapper.close()>"
      ]
     },
     "execution_count": 34,
     "metadata": {},
     "output_type": "execute_result"
    }
   ],
   "source": [
    "f = open(\"my123.txt\",\"x\")\n",
    "f.close"
   ]
  },
  {
   "cell_type": "markdown",
   "metadata": {},
   "source": [
    "### read and write \n",
    "to excute both of the above mode simultaneously use <code>r+</code> or <code>w+</code>"
   ]
  },
  {
   "cell_type": "code",
   "execution_count": 32,
   "metadata": {},
   "outputs": [
    {
     "name": "stdout",
     "output_type": "stream",
     "text": [
      "\n"
     ]
    },
    {
     "data": {
      "text/plain": [
       "<function TextIOWrapper.close()>"
      ]
     },
     "execution_count": 32,
     "metadata": {},
     "output_type": "execute_result"
    }
   ],
   "source": [
    "f = open(\"my123.txt\",\"r+\")\n",
    "f.write(\"currently in my third year pursing b.tech in mechanical\")\n",
    "print(f.readline())\n",
    "f.close"
   ]
  },
  {
   "cell_type": "markdown",
   "metadata": {},
   "source": [
    "### Delete\n",
    "to delete the file or folder need to <code>import os</code> and use <code>os.remove</code> for file and for folder <code>os.rmdir</code>"
   ]
  },
  {
   "cell_type": "code",
   "execution_count": null,
   "metadata": {},
   "outputs": [],
   "source": [
    "import os\n",
    "os.remove(\"my123.txt\") \n",
    "os.rmdir(\"enter folder name\") #only empty folders can be removed"
   ]
  },
  {
   "cell_type": "markdown",
   "metadata": {},
   "source": [
    "### Exist\n",
    "to check files existance"
   ]
  },
  {
   "cell_type": "code",
   "execution_count": 35,
   "metadata": {},
   "outputs": [
    {
     "data": {
      "text/plain": [
       "True"
      ]
     },
     "execution_count": 35,
     "metadata": {},
     "output_type": "execute_result"
    }
   ],
   "source": [
    "import os\n",
    "os.path.exists(\"my123.txt\") #enter full path, retursns boolean value"
   ]
  },
  {
   "cell_type": "markdown",
   "metadata": {},
   "source": [
    "### Rename "
   ]
  },
  {
   "cell_type": "code",
   "execution_count": 1,
   "metadata": {},
   "outputs": [],
   "source": [
    "import os\n",
    "os.rename(\"my123.txt\",\"hello,txt\")"
   ]
  },
  {
   "cell_type": "code",
   "execution_count": 3,
   "metadata": {},
   "outputs": [
    {
     "data": {
      "text/plain": [
       "False"
      ]
     },
     "execution_count": 3,
     "metadata": {},
     "output_type": "execute_result"
    }
   ],
   "source": [
    "os.path.exists(\"my123.txt\")"
   ]
  },
  {
   "cell_type": "code",
   "execution_count": 9,
   "metadata": {},
   "outputs": [
    {
     "data": {
      "text/plain": [
       "True"
      ]
     },
     "execution_count": 9,
     "metadata": {},
     "output_type": "execute_result"
    }
   ],
   "source": [
    "os.path.exists(\"hello,txt\")"
   ]
  },
  {
   "cell_type": "markdown",
   "metadata": {},
   "source": [
    "### size, last time modified "
   ]
  },
  {
   "cell_type": "code",
   "execution_count": 13,
   "metadata": {},
   "outputs": [
    {
     "data": {
      "text/plain": [
       "50"
      ]
     },
     "execution_count": 13,
     "metadata": {},
     "output_type": "execute_result"
    }
   ],
   "source": [
    "os.path.getsize(\"info.txt\")"
   ]
  },
  {
   "cell_type": "code",
   "execution_count": 14,
   "metadata": {},
   "outputs": [
    {
     "data": {
      "text/plain": [
       "1600263570.0231502"
      ]
     },
     "execution_count": 14,
     "metadata": {},
     "output_type": "execute_result"
    }
   ],
   "source": [
    "os.path.getmtime(\"info.txt\") # its a timestamp rest explained in notes"
   ]
  },
  {
   "cell_type": "code",
   "execution_count": 44,
   "metadata": {},
   "outputs": [
    {
     "data": {
      "text/plain": [
       "16"
      ]
     },
     "execution_count": 44,
     "metadata": {},
     "output_type": "execute_result"
    }
   ],
   "source": [
    "from datetime import datetime\n",
    "datetime.fromtimestamp(os.path.getmtime(\"info.txt\"))"
   ]
  },
  {
   "cell_type": "markdown",
   "metadata": {},
   "source": [
    "### absolute path from relative "
   ]
  },
  {
   "cell_type": "code",
   "execution_count": 21,
   "metadata": {},
   "outputs": [
    {
     "data": {
      "text/plain": [
       "'C:\\\\Users\\\\hp\\\\Desktop\\\\personal python notes\\\\hello,txt'"
      ]
     },
     "execution_count": 21,
     "metadata": {},
     "output_type": "execute_result"
    }
   ],
   "source": [
    "os.path.abspath(\"hello,txt\")"
   ]
  },
  {
   "cell_type": "markdown",
   "metadata": {},
   "source": [
    "###### to copy content of a file to other\n"
   ]
  },
  {
   "cell_type": "code",
   "execution_count": 40,
   "metadata": {},
   "outputs": [],
   "source": [
    "with open(\"1.txt\",\"r\") as rdfh:\n",
    "    with open(\"my123.txt\",\"w\") as wfh:\n",
    "        for line in rdfh:\n",
    "            wfh.write(line)"
   ]
  },
  {
   "cell_type": "code",
   "execution_count": 41,
   "metadata": {},
   "outputs": [
    {
     "name": "stdout",
     "output_type": "stream",
     "text": [
      "currently in my third year pursing b.tech in mechanical;\n",
      "}\n",
      "\n",
      "// the loop function runs over and over again forever\n",
      "void loop() {\n",
      "  for(i=0;i<5;i++){\n",
      "  digitalWrite(13, HIGH);  \n",
      "  delay(500);                      \n",
      "  digitalWrite(13, LOW);    \n",
      "  delay(500); \n",
      "  }  \n",
      "  for(j=0;i<5;j++){\n",
      "  digitalWrite(13, HIGH);  \n",
      "  delay(2000);                      \n",
      "  digitalWrite(13, LOW);    \n",
      "  delay(2000); \n",
      "  }                                 \n",
      "}\n"
     ]
    }
   ],
   "source": [
    "fh=open(\"my123.txt\",\"rt\")\n",
    "b=fh.read() #prints the data as it is\n",
    "print(b)\n",
    "fh.close()"
   ]
  },
  {
   "cell_type": "markdown",
   "metadata": {},
   "source": [
    "### readlines \n",
    "\n",
    "it read the whole file and saves each line in a list"
   ]
  },
  {
   "cell_type": "code",
   "execution_count": 9,
   "metadata": {},
   "outputs": [],
   "source": [
    "with open(\"my123.txt\",\"r\") as wfh:\n",
    "    fl = wfh.readlines()"
   ]
  },
  {
   "cell_type": "code",
   "execution_count": 10,
   "metadata": {},
   "outputs": [
    {
     "data": {
      "text/plain": [
       "['currently in my third year pursing b.tech in mechanical;\\n',\n",
       " '}\\n',\n",
       " '\\n',\n",
       " '// the loop function runs over and over again forever\\n',\n",
       " 'void loop() {\\n',\n",
       " '  for(i=0;i<5;i++){\\n',\n",
       " '  digitalWrite(13, HIGH);  \\n',\n",
       " '  delay(500);                      \\n',\n",
       " '  digitalWrite(13, LOW);    \\n',\n",
       " '  delay(500); \\n',\n",
       " '  }  \\n',\n",
       " '  for(j=0;i<5;j++){\\n',\n",
       " '  digitalWrite(13, HIGH);  \\n',\n",
       " '  delay(2000);                      \\n',\n",
       " '  digitalWrite(13, LOW);    \\n',\n",
       " '  delay(2000); \\n',\n",
       " '  }                                 \\n',\n",
       " '}']"
      ]
     },
     "execution_count": 10,
     "metadata": {},
     "output_type": "execute_result"
    }
   ],
   "source": [
    "fl"
   ]
  },
  {
   "cell_type": "code",
   "execution_count": 30,
   "metadata": {},
   "outputs": [
    {
     "name": "stdout",
     "output_type": "stream",
     "text": [
      "currently in my third year pursing b.tech in mechanical;\n",
      "\n",
      "}\n",
      "\n",
      "\n",
      "\n",
      "// the loop function runs over and over again forever\n",
      "\n"
     ]
    }
   ],
   "source": [
    "with open(\"my123.txt\",\"r\") as wfh:\n",
    "    lmy = wfh.readlines(60) #if even 1 character is taken then whole sentance is printed even /n is counted\n",
    "    for i in lmy:\n",
    "        print(i)"
   ]
  },
  {
   "cell_type": "markdown",
   "metadata": {},
   "source": [
    "## working with directory\n"
   ]
  },
  {
   "cell_type": "code",
   "execution_count": 22,
   "metadata": {},
   "outputs": [
    {
     "data": {
      "text/plain": [
       "'C:\\\\Users\\\\hp\\\\Desktop\\\\personal python notes'"
      ]
     },
     "execution_count": 22,
     "metadata": {},
     "output_type": "execute_result"
    }
   ],
   "source": [
    "# to print working directory, works same as pwd in linux command shell\n",
    "os.getcwd()"
   ]
  },
  {
   "cell_type": "code",
   "execution_count": 23,
   "metadata": {},
   "outputs": [],
   "source": [
    "# to create new directory as through mkdir\n",
    "os.mkdir(\"book\")"
   ]
  },
  {
   "cell_type": "code",
   "execution_count": 31,
   "metadata": {},
   "outputs": [
    {
     "data": {
      "text/plain": [
       "'C:\\\\Users\\\\hp\\\\Desktop\\\\personal python notes\\\\book'"
      ]
     },
     "execution_count": 31,
     "metadata": {},
     "output_type": "execute_result"
    }
   ],
   "source": [
    "# to change current working directory\n",
    "os.chdir(\"book\")\n",
    "os.getcwd()"
   ]
  },
  {
   "cell_type": "code",
   "execution_count": 32,
   "metadata": {},
   "outputs": [
    {
     "data": {
      "text/plain": [
       "'C:\\\\Users\\\\hp\\\\Desktop\\\\personal python notes'"
      ]
     },
     "execution_count": 32,
     "metadata": {},
     "output_type": "execute_result"
    }
   ],
   "source": [
    "os.chdir(\"../\")\n",
    "os.getcwd()"
   ]
  },
  {
   "cell_type": "code",
   "execution_count": 33,
   "metadata": {
    "scrolled": true
   },
   "outputs": [
    {
     "data": {
      "text/plain": [
       "['.ipynb_checkpoints',\n",
       " '1.txt',\n",
       " '3-Numpy Tutorial.ipynb',\n",
       " '4- Pandas tutorial-Copy1 (1).ipynb',\n",
       " '4- Pandas tutorial-Copy1.ipynb',\n",
       " '4.5-Matplotlib.ipynb',\n",
       " '5- Seaborn.ipynb',\n",
       " 'Assignment3 (1).ipynb',\n",
       " 'bill_authentication.csv',\n",
       " 'book',\n",
       " 'Classified Data',\n",
       " 'Daily Views.xlsx',\n",
       " 'DBSCAN.ipynb',\n",
       " 'Decision Tree.ipynb',\n",
       " 'dfmorethan100k.csv',\n",
       " 'diabetes_dataset.csv',\n",
       " 'getpass.PNG',\n",
       " 'hello,txt',\n",
       " 'hierarchical clustering.ipynb',\n",
       " 'iiec.ipynb',\n",
       " 'iiec1.ipynb',\n",
       " 'iiec2.ipynb',\n",
       " 'iiec3.ipynb',\n",
       " 'info.txt',\n",
       " 'insurance.csv',\n",
       " 'K Means Clustering.ipynb',\n",
       " 'K Nearest Neighbors with Python.ipynb',\n",
       " 'lasso.jpg',\n",
       " 'list(is).PNG',\n",
       " 'logistic Regression.ipynb',\n",
       " 'Mall_Customers.csv',\n",
       " 'mbox-short.txt',\n",
       " 'mercedesbenz.csv',\n",
       " 'Multiple linear regression.ipynb',\n",
       " 'Naive Bayes.ipynb',\n",
       " 'Polynomial Regression.ipynb',\n",
       " 'project 1(groupby function).ipynb',\n",
       " 'project 1.ipynb',\n",
       " 'project 2.ipynb',\n",
       " 'project 3.ipynb',\n",
       " 'py general.ipynb',\n",
       " 'PY0101EN-4-3-LoadData.ipynb',\n",
       " 'python class and objects.ipynb',\n",
       " 'python data types.ipynb',\n",
       " 'python expection handling.ipynb',\n",
       " 'Python file handling.ipynb',\n",
       " 'Python function.ipynb',\n",
       " 'Python general notes.ipynb',\n",
       " 'python inbuilt functions.ipynb',\n",
       " 'python inheritance.ipynb',\n",
       " 'python keywords.ipynb',\n",
       " 'python list and tuples.ipynb',\n",
       " 'Python loops.ipynb',\n",
       " 'python modules.ipynb',\n",
       " 'Python notes 2.ipynb',\n",
       " 'python numpy.ipynb',\n",
       " 'python pandas.ipynb',\n",
       " 'python regular expressions.ipynb',\n",
       " 'python turtle.ipynb',\n",
       " 'python web scraping.ipynb',\n",
       " 'Random Forest.ipynb',\n",
       " 'regex.png',\n",
       " 'regex.txt',\n",
       " 'regex1.txt',\n",
       " 'Ridge and Lasso Regression.ipynb',\n",
       " 'Ridge+Regression.jpg',\n",
       " 'romeo.txt',\n",
       " 'salaries.csv',\n",
       " 'Simple Linear Regression.ipynb',\n",
       " 'speak.py',\n",
       " 'string(is).PNG',\n",
       " 'StudentsPerformance.csv',\n",
       " 'Support Vector Machine.ipynb',\n",
       " 'system.PNG',\n",
       " 'things to learn.txt',\n",
       " 'time_series_2019-ncov-Confirmed (1).csv',\n",
       " 'train_AV3.csv',\n",
       " 'Untitled.ipynb',\n",
       " 'Untitled1.ipynb',\n",
       " 'Untitled2.ipynb',\n",
       " 'vm.txt',\n",
       " 'Weather.csv',\n",
       " 'winemag-data-130k-v2.csv',\n",
       " 'winequality.csv']"
      ]
     },
     "execution_count": 33,
     "metadata": {},
     "output_type": "execute_result"
    }
   ],
   "source": [
    "# give list of contents of current working directory\n",
    "os.listdir()"
   ]
  },
  {
   "cell_type": "code",
   "execution_count": 35,
   "metadata": {},
   "outputs": [
    {
     "data": {
      "text/plain": [
       "True"
      ]
     },
     "execution_count": 35,
     "metadata": {},
     "output_type": "execute_result"
    }
   ],
   "source": [
    "os.path.isdir(\"book\")"
   ]
  },
  {
   "cell_type": "code",
   "execution_count": null,
   "metadata": {},
   "outputs": [],
   "source": [
    "os.path.join() # write few examples"
   ]
  }
 ],
 "metadata": {
  "kernelspec": {
   "display_name": "Python 3",
   "language": "python",
   "name": "python3"
  },
  "language_info": {
   "codemirror_mode": {
    "name": "ipython",
    "version": 3
   },
   "file_extension": ".py",
   "mimetype": "text/x-python",
   "name": "python",
   "nbconvert_exporter": "python",
   "pygments_lexer": "ipython3",
   "version": "3.8.3"
  }
 },
 "nbformat": 4,
 "nbformat_minor": 2
}
