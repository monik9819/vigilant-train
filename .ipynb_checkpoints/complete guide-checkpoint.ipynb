{
 "cells": [
  {
   "cell_type": "markdown",
   "metadata": {},
   "source": [
    "<h1>&emsp;&emsp;&emsp;&emsp;&emsp;&emsp;&emsp;&emsp;&emsp;&emsp;Python complete guide</h1><br>\n"
   ]
  },
  {
   "cell_type": "markdown",
   "metadata": {},
   "source": [
    "<h2>&emsp;&emsp;&emsp;&emsp;&emsp;&emsp;&emsp;&emsp;&emsp;Table of content</h2>\n",
    "<ol>\n",
    "    <h3><li><a href=\"#csv\">CSV</a></h3><ol><li><h4><a href=\"#read csv file\">read csv file</a></h4>"
   ]
  },
  {
   "cell_type": "markdown",
   "metadata": {},
   "source": []
  },
  {
   "cell_type": "markdown",
   "metadata": {},
   "source": [
    "## CSV\n",
    "<a name=\"csv\"></a>\n",
    "python standard libary contains a module to read, edit and manupliate csv files called csv module."
   ]
  },
  {
   "cell_type": "code",
   "execution_count": 5,
   "metadata": {},
   "outputs": [],
   "source": [
    "import csv\n",
    "#dir(csv)"
   ]
  },
  {
   "cell_type": "markdown",
   "metadata": {},
   "source": [
    "### read csv file\n",
    "<a name=\"read csv file\"></a>"
   ]
  },
  {
   "cell_type": "code",
   "execution_count": 24,
   "metadata": {},
   "outputs": [
    {
     "name": "stdout",
     "output_type": "stream",
     "text": [
      "age bought_insurance\n",
      "22 0\n",
      "25 0\n",
      "47 1\n",
      "52 0\n",
      "46 1\n",
      "56 1\n",
      "55 0\n",
      "60 1\n",
      "62 1\n",
      "61 1\n",
      "18 0\n",
      "28 0\n",
      "27 0\n",
      "29 0\n",
      "49 1\n",
      "55 1\n",
      "25 1\n",
      "58 1\n",
      "19 0\n",
      "18 0\n",
      "21 0\n",
      "26 0\n",
      "40 1\n",
      "45 1\n",
      "50 1\n",
      "54 1\n",
      "23 0\n"
     ]
    }
   ],
   "source": [
    "fh = open(\"insurance.csv\")\n",
    "fh_csv = csv.reader(fh)\n",
    "for row in fh_csv:\n",
    "    age,insurance = row # unpacking of variables\n",
    "    print(age,insurance)"
   ]
  },
  {
   "cell_type": "markdown",
   "metadata": {},
   "source": [
    "###### using dictionaries "
   ]
  },
  {
   "cell_type": "code",
   "execution_count": 73,
   "metadata": {},
   "outputs": [
    {
     "name": "stdout",
     "output_type": "stream",
     "text": [
      "name version status users\n",
      "MailTree 5.34 production 324\n",
      "Chatty Chicken 0.34 alpha 4\n",
      "CalDoor 1.25.1 beta 22\n"
     ]
    }
   ],
   "source": [
    "with open(\"coursera.csv\") as fh:\n",
    "    f = csv.reader(fh)\n",
    "    for i in f:\n",
    "        z,x,c,v = i\n",
    "        print(z,x,c,v)"
   ]
  },
  {
   "cell_type": "code",
   "execution_count": 74,
   "metadata": {},
   "outputs": [
    {
     "name": "stdout",
     "output_type": "stream",
     "text": [
      "MailTree has 324 users\n",
      "Chatty Chicken has 4 users\n",
      "CalDoor has 22 users\n"
     ]
    }
   ],
   "source": [
    "with open('coursera.csv') as software:\n",
    "    reader = csv.DictReader(software)\n",
    "    for row in reader:\n",
    "        print((\"{} has {} users\").format(row[\"name\"],row[\"users\"]))"
   ]
  },
  {
   "cell_type": "markdown",
   "metadata": {},
   "source": [
    "### write csv file "
   ]
  },
  {
   "cell_type": "markdown",
   "metadata": {},
   "source": [
    "###### using list"
   ]
  },
  {
   "cell_type": "code",
   "execution_count": 44,
   "metadata": {},
   "outputs": [],
   "source": [
    "data_list = [[\"monik\",\"python\"],[\"vidhi\",\"cpp\"]]\n",
    "with open(\"programming data.csv\", \"w\") as data_csv:\n",
    "    data_write = csv.writer(data_csv)\n",
    "    data_write.writerows(data_list)"
   ]
  },
  {
   "cell_type": "code",
   "execution_count": 54,
   "metadata": {},
   "outputs": [
    {
     "name": "stdout",
     "output_type": "stream",
     "text": [
      "monik,python\n",
      "\n",
      "vidhi,cpp\n"
     ]
    }
   ],
   "source": [
    "with open(\"programming data.csv\", \"r\") as data_csv:\n",
    "    print(data_csv.read().strip())"
   ]
  },
  {
   "cell_type": "markdown",
   "metadata": {},
   "source": [
    "###### using  dictionaries"
   ]
  },
  {
   "cell_type": "code",
   "execution_count": 77,
   "metadata": {},
   "outputs": [],
   "source": [
    "users = [{\"name\": \"Sol Mansi\", \"username\": \"solm\", \"department\": \"IT infrastructure\"},\n",
    "         {\"name\": \"Lio Nelson\", \"username\": \"lion\", \"department\": \"User Experience Research\"},\n",
    "         {\"name\": \"Charlie Grey\", \"username\": \"greyc\",\"department\": \"Development\"}]\n",
    "keys = [\"name\",\"username\",\"department\"]"
   ]
  },
  {
   "cell_type": "code",
   "execution_count": 79,
   "metadata": {},
   "outputs": [],
   "source": [
    "with open(\"depaerment.csv\",\"w\") as fhd:\n",
    "    write_csv = csv.DictWriter(fhd, fieldnames=keys)\n",
    "    write_csv.writeheader()\n",
    "    write_csv.writerows(users)"
   ]
  },
  {
   "cell_type": "code",
   "execution_count": 87,
   "metadata": {},
   "outputs": [
    {
     "name": "stdout",
     "output_type": "stream",
     "text": [
      "name,username,department\n",
      "\n",
      "Sol Mansi,solm,IT infrastructure\n",
      "\n",
      "Lio Nelson,lion,User Experience Research\n",
      "\n",
      "Charlie Grey,greyc,Development\n"
     ]
    }
   ],
   "source": [
    "with open(\"depaerment.csv\") as fhd:\n",
    "    print(fhd.read().strip())"
   ]
  },
  {
   "cell_type": "code",
   "execution_count": 89,
   "metadata": {
    "scrolled": true
   },
   "outputs": [
    {
     "name": "stdout",
     "output_type": "stream",
     "text": [
      "[{'name': 'Sol Mansi', 'username': 'solm', 'department': 'IT infrastructure'}, {'name': 'Lio Nelson', 'username': 'lion', 'department': 'User Experience Research'}, {'name': 'Charlie Grey', 'username': 'greyc', 'department': 'Development'}]\n"
     ]
    }
   ],
   "source": [
    "# from qwiklabs\n",
    "def read_employees(csv_file_location):\n",
    "    csv.register_dialect('empDialect', skipinitialspace=True, strict=True) # whar is dialect\n",
    "    employee_file = csv.DictReader(open(csv_file_location), dialect = 'empDialect')\n",
    "    employee_list = []\n",
    "    for data in employee_file:\n",
    "        employee_list.append(data)\n",
    "    return employee_list\n",
    "\n",
    "employee_list = read_employees('depaerment.csv')\n",
    "print(employee_list)"
   ]
  },
  {
   "cell_type": "code",
   "execution_count": 94,
   "metadata": {},
   "outputs": [
    {
     "name": "stdout",
     "output_type": "stream",
     "text": [
      "{'IT infrastructure': 1, 'Development': 1, 'User Experience Research': 1}\n"
     ]
    }
   ],
   "source": [
    "def process_data(employee_list):\n",
    "    department_list = []\n",
    "    for employee_data in employee_list:\n",
    "        department_list.append(employee_data['department'])  \n",
    "    department_data = dict()\n",
    "    for department_name in set(department_list):\n",
    "        department_data[department_name] = department_list.count(department_name)\n",
    "    return department_data\n",
    "\n",
    "dictionary = process_data(employee_list)\n",
    "print(dictionary)"
   ]
  },
  {
   "cell_type": "code",
   "execution_count": 96,
   "metadata": {},
   "outputs": [],
   "source": [
    "def write_report(dictionary, report_file):\n",
    "    with open(report_file, \"w+\") as f:\n",
    "        for k in sorted(dictionary):\n",
    "            f.write(str(k)+':'+str(dictionary[k])+'\\n')\n",
    "            \n",
    "write_report(dictionary, 'report.txt')"
   ]
  },
  {
   "cell_type": "code",
   "execution_count": null,
   "metadata": {},
   "outputs": [],
   "source": [
    "#!/usr/bin/env python3\n",
    "\n",
    "import csv\n",
    "def read_employees(csv_file_location):\n",
    "    csv.register_dialect('empDialect', skipinitialspace=True, strict=True) # whar is dialect\n",
    "    employee_file = csv.DictReader(open(csv_file_location), dialect = 'empDialect')\n",
    "    employee_list = []\n",
    "    for data in employee_file:\n",
    "        employee_list.append(data)\n",
    "    return employee_list\n",
    "\n",
    "def process_data(employee_list):\n",
    "    department_list = []\n",
    "    for employee_data in employee_list:\n",
    "        department_list.append(employee_data['Department'])\n",
    "    department_data = dict()\n",
    "    for department_name in set(department_list):\n",
    "        department_data[department_name] = department_list.count(department_name)\n",
    "    return department_data\n",
    "\n",
    "def write_report(dictionary, report_file):\n",
    "    with open(report_file, \"w+\") as f:\n",
    "        for k in sorted(dictionary):\n",
    "            f.write(str(k)+':'+str(dictionary[k])+'\\n')\n",
    "\n",
    "\n",
    "employee_list = read_employees('/home/student-03-973280e83fcb/data/employees.csv')\n",
    "dictionary = process_data(employee_list)\n",
    "print(dictionary)\n",
    "write_report(dictionary, '/home/student-03-973280e83fcb/test_report.txt')"
   ]
  }
 ],
 "metadata": {
  "kernelspec": {
   "display_name": "Python 3",
   "language": "python",
   "name": "python3"
  },
  "language_info": {
   "codemirror_mode": {
    "name": "ipython",
    "version": 3
   },
   "file_extension": ".py",
   "mimetype": "text/x-python",
   "name": "python",
   "nbconvert_exporter": "python",
   "pygments_lexer": "ipython3",
   "version": "3.8.3"
  }
 },
 "nbformat": 4,
 "nbformat_minor": 4
}
