{
 "cells": [
  {
   "cell_type": "markdown",
   "metadata": {},
   "source": [
    "#  IIEC\n"
   ]
  },
  {
   "cell_type": "code",
   "execution_count": 5,
   "metadata": {},
   "outputs": [
    {
     "data": {
      "text/plain": [
       "0"
      ]
     },
     "execution_count": 5,
     "metadata": {},
     "output_type": "execute_result"
    }
   ],
   "source": [
    "import os\n",
    "\n",
    "os.system(\"start chrome\") # if succesfull gives 0"
   ]
  },
  {
   "cell_type": "code",
   "execution_count": 5,
   "metadata": {},
   "outputs": [
    {
     "data": {
      "text/plain": [
       "0"
      ]
     },
     "execution_count": 5,
     "metadata": {},
     "output_type": "execute_result"
    }
   ],
   "source": [
    "os.system(\"chrome\") # 1 means it failed, anyother number apart from 1 means fail"
   ]
  },
  {
   "cell_type": "code",
   "execution_count": 7,
   "metadata": {},
   "outputs": [
    {
     "data": {
      "text/plain": [
       "1"
      ]
     },
     "execution_count": 7,
     "metadata": {},
     "output_type": "execute_result"
    }
   ],
   "source": [
    "os.system(\"vc\")"
   ]
  },
  {
   "cell_type": "code",
   "execution_count": 9,
   "metadata": {},
   "outputs": [
    {
     "data": {
      "text/plain": [
       "['Engine',\n",
       " '__builtins__',\n",
       " '__cached__',\n",
       " '__doc__',\n",
       " '__file__',\n",
       " '__loader__',\n",
       " '__name__',\n",
       " '__package__',\n",
       " '__path__',\n",
       " '__spec__',\n",
       " '_activeEngines',\n",
       " 'driver',\n",
       " 'engine',\n",
       " 'init',\n",
       " 'speak',\n",
       " 'weakref']"
      ]
     },
     "execution_count": 9,
     "metadata": {},
     "output_type": "execute_result"
    }
   ],
   "source": [
    "import pyttsx3\n",
    "dir(pyttsx3)"
   ]
  },
  {
   "cell_type": "code",
   "execution_count": 10,
   "metadata": {},
   "outputs": [],
   "source": [
    "pyttsx3.speak(\"hello, welcome to my program\")"
   ]
  },
  {
   "cell_type": "code",
   "execution_count": 14,
   "metadata": {},
   "outputs": [
    {
     "name": "stdout",
     "output_type": "stream",
     "text": [
      "hi,\n",
      "monik here\n"
     ]
    }
   ],
   "source": [
    "print(\"hi,\\nmonik here\")"
   ]
  },
  {
   "cell_type": "code",
   "execution_count": 15,
   "metadata": {},
   "outputs": [
    {
     "name": "stdout",
     "output_type": "stream",
     "text": [
      "hi,\\nmonik here\n"
     ]
    }
   ],
   "source": [
    "print(r\"hi,\\nmonik here\") # after placing r before inverted commas it ignores the escape character"
   ]
  },
  {
   "cell_type": "code",
   "execution_count": 16,
   "metadata": {},
   "outputs": [
    {
     "name": "stdout",
     "output_type": "stream",
     "text": [
      "Help on built-in function print in module builtins:\n",
      "\n",
      "print(...)\n",
      "    print(value, ..., sep=' ', end='\\n', file=sys.stdout, flush=False)\n",
      "    \n",
      "    Prints the values to a stream, or to sys.stdout by default.\n",
      "    Optional keyword arguments:\n",
      "    file:  a file-like object (stream); defaults to the current sys.stdout.\n",
      "    sep:   string inserted between values, default a space.\n",
      "    end:   string appended after the last value, default a newline.\n",
      "    flush: whether to forcibly flush the stream.\n",
      "\n"
     ]
    }
   ],
   "source": [
    "help(print)"
   ]
  },
  {
   "cell_type": "code",
   "execution_count": 19,
   "metadata": {},
   "outputs": [
    {
     "name": "stdout",
     "output_type": "stream",
     "text": [
      "monik*garg \n"
     ]
    }
   ],
   "source": [
    "print(\"monik\", \"garg \",sep=\"*\")"
   ]
  },
  {
   "cell_type": "code",
   "execution_count": 20,
   "metadata": {},
   "outputs": [
    {
     "name": "stdout",
     "output_type": "stream",
     "text": [
      "Help on built-in function system in module nt:\n",
      "\n",
      "system(command)\n",
      "    Execute the command in a subshell.\n",
      "\n"
     ]
    }
   ],
   "source": [
    "help(os.system)"
   ]
  },
  {
   "cell_type": "code",
   "execution_count": 2,
   "metadata": {},
   "outputs": [
    {
     "name": "stdout",
     "output_type": "stream",
     "text": [
      "Help on module subprocess:\n",
      "\n",
      "NAME\n",
      "    subprocess - Subprocesses with accessible I/O streams\n",
      "\n",
      "DESCRIPTION\n",
      "    This module allows you to spawn processes, connect to their\n",
      "    input/output/error pipes, and obtain their return codes.\n",
      "    \n",
      "    For a complete description of this module see the Python documentation.\n",
      "    \n",
      "    Main API\n",
      "    ========\n",
      "    run(...): Runs a command, waits for it to complete, then returns a\n",
      "              CompletedProcess instance.\n",
      "    Popen(...): A class for flexibly executing a command in a new process\n",
      "    \n",
      "    Constants\n",
      "    ---------\n",
      "    DEVNULL: Special value that indicates that os.devnull should be used\n",
      "    PIPE:    Special value that indicates a pipe should be created\n",
      "    STDOUT:  Special value that indicates that stderr should go to stdout\n",
      "    \n",
      "    \n",
      "    Older API\n",
      "    =========\n",
      "    call(...): Runs a command, waits for it to complete, then returns\n",
      "        the return code.\n",
      "    check_call(...): Same as call() but raises CalledProcessError()\n",
      "        if return code is not 0\n",
      "    check_output(...): Same as check_call() but returns the contents of\n",
      "        stdout instead of a return code\n",
      "    getoutput(...): Runs a command in the shell, waits for it to complete,\n",
      "        then returns the output\n",
      "    getstatusoutput(...): Runs a command in the shell, waits for it to complete,\n",
      "        then returns a (exitcode, output) tuple\n",
      "\n",
      "CLASSES\n",
      "    builtins.Exception(builtins.BaseException)\n",
      "        SubprocessError\n",
      "            CalledProcessError\n",
      "            TimeoutExpired\n",
      "    builtins.object\n",
      "        CompletedProcess\n",
      "        Popen\n",
      "        STARTUPINFO\n",
      "    \n",
      "    class CalledProcessError(SubprocessError)\n",
      "     |  CalledProcessError(returncode, cmd, output=None, stderr=None)\n",
      "     |  \n",
      "     |  Raised when run() is called with check=True and the process\n",
      "     |  returns a non-zero exit status.\n",
      "     |  \n",
      "     |  Attributes:\n",
      "     |    cmd, returncode, stdout, stderr, output\n",
      "     |  \n",
      "     |  Method resolution order:\n",
      "     |      CalledProcessError\n",
      "     |      SubprocessError\n",
      "     |      builtins.Exception\n",
      "     |      builtins.BaseException\n",
      "     |      builtins.object\n",
      "     |  \n",
      "     |  Methods defined here:\n",
      "     |  \n",
      "     |  __init__(self, returncode, cmd, output=None, stderr=None)\n",
      "     |      Initialize self.  See help(type(self)) for accurate signature.\n",
      "     |  \n",
      "     |  __str__(self)\n",
      "     |      Return str(self).\n",
      "     |  \n",
      "     |  ----------------------------------------------------------------------\n",
      "     |  Data descriptors defined here:\n",
      "     |  \n",
      "     |  stdout\n",
      "     |      Alias for output attribute, to match stderr\n",
      "     |  \n",
      "     |  ----------------------------------------------------------------------\n",
      "     |  Data descriptors inherited from SubprocessError:\n",
      "     |  \n",
      "     |  __weakref__\n",
      "     |      list of weak references to the object (if defined)\n",
      "     |  \n",
      "     |  ----------------------------------------------------------------------\n",
      "     |  Static methods inherited from builtins.Exception:\n",
      "     |  \n",
      "     |  __new__(*args, **kwargs) from builtins.type\n",
      "     |      Create and return a new object.  See help(type) for accurate signature.\n",
      "     |  \n",
      "     |  ----------------------------------------------------------------------\n",
      "     |  Methods inherited from builtins.BaseException:\n",
      "     |  \n",
      "     |  __delattr__(self, name, /)\n",
      "     |      Implement delattr(self, name).\n",
      "     |  \n",
      "     |  __getattribute__(self, name, /)\n",
      "     |      Return getattr(self, name).\n",
      "     |  \n",
      "     |  __reduce__(...)\n",
      "     |      Helper for pickle.\n",
      "     |  \n",
      "     |  __repr__(self, /)\n",
      "     |      Return repr(self).\n",
      "     |  \n",
      "     |  __setattr__(self, name, value, /)\n",
      "     |      Implement setattr(self, name, value).\n",
      "     |  \n",
      "     |  __setstate__(...)\n",
      "     |  \n",
      "     |  with_traceback(...)\n",
      "     |      Exception.with_traceback(tb) --\n",
      "     |      set self.__traceback__ to tb and return self.\n",
      "     |  \n",
      "     |  ----------------------------------------------------------------------\n",
      "     |  Data descriptors inherited from builtins.BaseException:\n",
      "     |  \n",
      "     |  __cause__\n",
      "     |      exception cause\n",
      "     |  \n",
      "     |  __context__\n",
      "     |      exception context\n",
      "     |  \n",
      "     |  __dict__\n",
      "     |  \n",
      "     |  __suppress_context__\n",
      "     |  \n",
      "     |  __traceback__\n",
      "     |  \n",
      "     |  args\n",
      "    \n",
      "    class CompletedProcess(builtins.object)\n",
      "     |  CompletedProcess(args, returncode, stdout=None, stderr=None)\n",
      "     |  \n",
      "     |  A process that has finished running.\n",
      "     |  \n",
      "     |  This is returned by run().\n",
      "     |  \n",
      "     |  Attributes:\n",
      "     |    args: The list or str args passed to run().\n",
      "     |    returncode: The exit code of the process, negative for signals.\n",
      "     |    stdout: The standard output (None if not captured).\n",
      "     |    stderr: The standard error (None if not captured).\n",
      "     |  \n",
      "     |  Methods defined here:\n",
      "     |  \n",
      "     |  __init__(self, args, returncode, stdout=None, stderr=None)\n",
      "     |      Initialize self.  See help(type(self)) for accurate signature.\n",
      "     |  \n",
      "     |  __repr__(self)\n",
      "     |      Return repr(self).\n",
      "     |  \n",
      "     |  check_returncode(self)\n",
      "     |      Raise CalledProcessError if the exit code is non-zero.\n",
      "     |  \n",
      "     |  ----------------------------------------------------------------------\n",
      "     |  Data descriptors defined here:\n",
      "     |  \n",
      "     |  __dict__\n",
      "     |      dictionary for instance variables (if defined)\n",
      "     |  \n",
      "     |  __weakref__\n",
      "     |      list of weak references to the object (if defined)\n",
      "    \n",
      "    class Popen(builtins.object)\n",
      "     |  Popen(args, bufsize=-1, executable=None, stdin=None, stdout=None, stderr=None, preexec_fn=None, close_fds=True, shell=False, cwd=None, env=None, universal_newlines=None, startupinfo=None, creationflags=0, restore_signals=True, start_new_session=False, pass_fds=(), *, encoding=None, errors=None, text=None)\n",
      "     |  \n",
      "     |  Execute a child program in a new process.\n",
      "     |  \n",
      "     |  For a complete description of the arguments see the Python documentation.\n",
      "     |  \n",
      "     |  Arguments:\n",
      "     |    args: A string, or a sequence of program arguments.\n",
      "     |  \n",
      "     |    bufsize: supplied as the buffering argument to the open() function when\n",
      "     |        creating the stdin/stdout/stderr pipe file objects\n",
      "     |  \n",
      "     |    executable: A replacement program to execute.\n",
      "     |  \n",
      "     |    stdin, stdout and stderr: These specify the executed programs' standard\n",
      "     |        input, standard output and standard error file handles, respectively.\n",
      "     |  \n",
      "     |    preexec_fn: (POSIX only) An object to be called in the child process\n",
      "     |        just before the child is executed.\n",
      "     |  \n",
      "     |    close_fds: Controls closing or inheriting of file descriptors.\n",
      "     |  \n",
      "     |    shell: If true, the command will be executed through the shell.\n",
      "     |  \n",
      "     |    cwd: Sets the current directory before the child is executed.\n",
      "     |  \n",
      "     |    env: Defines the environment variables for the new process.\n",
      "     |  \n",
      "     |    text: If true, decode stdin, stdout and stderr using the given encoding\n",
      "     |        (if set) or the system default otherwise.\n",
      "     |  \n",
      "     |    universal_newlines: Alias of text, provided for backwards compatibility.\n",
      "     |  \n",
      "     |    startupinfo and creationflags (Windows only)\n",
      "     |  \n",
      "     |    restore_signals (POSIX only)\n",
      "     |  \n",
      "     |    start_new_session (POSIX only)\n",
      "     |  \n",
      "     |    pass_fds (POSIX only)\n",
      "     |  \n",
      "     |    encoding and errors: Text mode encoding and error handling to use for\n",
      "     |        file objects stdin, stdout and stderr.\n",
      "     |  \n",
      "     |  Attributes:\n",
      "     |      stdin, stdout, stderr, pid, returncode\n",
      "     |  \n",
      "     |  Methods defined here:\n",
      "     |  \n",
      "     |  __del__(self, _maxsize=9223372036854775807, _warn=<built-in function warn>)\n",
      "     |  \n",
      "     |  __enter__(self)\n",
      "     |  \n",
      "     |  __exit__(self, exc_type, value, traceback)\n",
      "     |  \n",
      "     |  __init__(self, args, bufsize=-1, executable=None, stdin=None, stdout=None, stderr=None, preexec_fn=None, close_fds=True, shell=False, cwd=None, env=None, universal_newlines=None, startupinfo=None, creationflags=0, restore_signals=True, start_new_session=False, pass_fds=(), *, encoding=None, errors=None, text=None)\n",
      "     |      Create new Popen instance.\n",
      "     |  \n",
      "     |  communicate(self, input=None, timeout=None)\n",
      "     |      Interact with process: Send data to stdin and close it.\n",
      "     |      Read data from stdout and stderr, until end-of-file is\n",
      "     |      reached.  Wait for process to terminate.\n",
      "     |      \n",
      "     |      The optional \"input\" argument should be data to be sent to the\n",
      "     |      child process, or None, if no data should be sent to the child.\n",
      "     |      communicate() returns a tuple (stdout, stderr).\n",
      "     |      \n",
      "     |      By default, all communication is in bytes, and therefore any\n",
      "     |      \"input\" should be bytes, and the (stdout, stderr) will be bytes.\n",
      "     |      If in text mode (indicated by self.text_mode), any \"input\" should\n",
      "     |      be a string, and (stdout, stderr) will be strings decoded\n",
      "     |      according to locale encoding, or by \"encoding\" if set. Text mode\n",
      "     |      is triggered by setting any of text, encoding, errors or\n",
      "     |      universal_newlines.\n",
      "     |  \n",
      "     |  kill = terminate(self)\n",
      "     |  \n",
      "     |  poll(self)\n",
      "     |      Check if child process has terminated. Set and return returncode\n",
      "     |      attribute.\n",
      "     |  \n",
      "     |  send_signal(self, sig)\n",
      "     |      Send a signal to the process.\n",
      "     |  \n",
      "     |  terminate(self)\n",
      "     |      Terminates the process.\n",
      "     |  \n",
      "     |  wait(self, timeout=None)\n",
      "     |      Wait for child process to terminate; returns self.returncode.\n",
      "     |  \n",
      "     |  ----------------------------------------------------------------------\n",
      "     |  Data descriptors defined here:\n",
      "     |  \n",
      "     |  __dict__\n",
      "     |      dictionary for instance variables (if defined)\n",
      "     |  \n",
      "     |  __weakref__\n",
      "     |      list of weak references to the object (if defined)\n",
      "     |  \n",
      "     |  universal_newlines\n",
      "    \n",
      "    class STARTUPINFO(builtins.object)\n",
      "     |  STARTUPINFO(*, dwFlags=0, hStdInput=None, hStdOutput=None, hStdError=None, wShowWindow=0, lpAttributeList=None)\n",
      "     |  \n",
      "     |  Methods defined here:\n",
      "     |  \n",
      "     |  __init__(self, *, dwFlags=0, hStdInput=None, hStdOutput=None, hStdError=None, wShowWindow=0, lpAttributeList=None)\n",
      "     |      Initialize self.  See help(type(self)) for accurate signature.\n",
      "     |  \n",
      "     |  ----------------------------------------------------------------------\n",
      "     |  Data descriptors defined here:\n",
      "     |  \n",
      "     |  __dict__\n",
      "     |      dictionary for instance variables (if defined)\n",
      "     |  \n",
      "     |  __weakref__\n",
      "     |      list of weak references to the object (if defined)\n",
      "    \n",
      "    class SubprocessError(builtins.Exception)\n",
      "     |  Common base class for all non-exit exceptions.\n",
      "     |  \n",
      "     |  Method resolution order:\n",
      "     |      SubprocessError\n",
      "     |      builtins.Exception\n",
      "     |      builtins.BaseException\n",
      "     |      builtins.object\n",
      "     |  \n",
      "     |  Data descriptors defined here:\n",
      "     |  \n",
      "     |  __weakref__\n",
      "     |      list of weak references to the object (if defined)\n",
      "     |  \n",
      "     |  ----------------------------------------------------------------------\n",
      "     |  Methods inherited from builtins.Exception:\n",
      "     |  \n",
      "     |  __init__(self, /, *args, **kwargs)\n",
      "     |      Initialize self.  See help(type(self)) for accurate signature.\n",
      "     |  \n",
      "     |  ----------------------------------------------------------------------\n",
      "     |  Static methods inherited from builtins.Exception:\n",
      "     |  \n",
      "     |  __new__(*args, **kwargs) from builtins.type\n",
      "     |      Create and return a new object.  See help(type) for accurate signature.\n",
      "     |  \n",
      "     |  ----------------------------------------------------------------------\n",
      "     |  Methods inherited from builtins.BaseException:\n",
      "     |  \n",
      "     |  __delattr__(self, name, /)\n",
      "     |      Implement delattr(self, name).\n",
      "     |  \n",
      "     |  __getattribute__(self, name, /)\n",
      "     |      Return getattr(self, name).\n",
      "     |  \n",
      "     |  __reduce__(...)\n",
      "     |      Helper for pickle.\n",
      "     |  \n",
      "     |  __repr__(self, /)\n",
      "     |      Return repr(self).\n",
      "     |  \n",
      "     |  __setattr__(self, name, value, /)\n",
      "     |      Implement setattr(self, name, value).\n",
      "     |  \n",
      "     |  __setstate__(...)\n",
      "     |  \n",
      "     |  __str__(self, /)\n",
      "     |      Return str(self).\n",
      "     |  \n",
      "     |  with_traceback(...)\n",
      "     |      Exception.with_traceback(tb) --\n",
      "     |      set self.__traceback__ to tb and return self.\n",
      "     |  \n",
      "     |  ----------------------------------------------------------------------\n",
      "     |  Data descriptors inherited from builtins.BaseException:\n",
      "     |  \n",
      "     |  __cause__\n",
      "     |      exception cause\n",
      "     |  \n",
      "     |  __context__\n",
      "     |      exception context\n",
      "     |  \n",
      "     |  __dict__\n",
      "     |  \n",
      "     |  __suppress_context__\n",
      "     |  \n",
      "     |  __traceback__\n",
      "     |  \n",
      "     |  args\n",
      "    \n",
      "    class TimeoutExpired(SubprocessError)\n",
      "     |  TimeoutExpired(cmd, timeout, output=None, stderr=None)\n",
      "     |  \n",
      "     |  This exception is raised when the timeout expires while waiting for a\n",
      "     |  child process.\n",
      "     |  \n",
      "     |  Attributes:\n",
      "     |      cmd, output, stdout, stderr, timeout\n",
      "     |  \n",
      "     |  Method resolution order:\n",
      "     |      TimeoutExpired\n",
      "     |      SubprocessError\n",
      "     |      builtins.Exception\n",
      "     |      builtins.BaseException\n",
      "     |      builtins.object\n",
      "     |  \n",
      "     |  Methods defined here:\n",
      "     |  \n",
      "     |  __init__(self, cmd, timeout, output=None, stderr=None)\n",
      "     |      Initialize self.  See help(type(self)) for accurate signature.\n",
      "     |  \n",
      "     |  __str__(self)\n",
      "     |      Return str(self).\n",
      "     |  \n",
      "     |  ----------------------------------------------------------------------\n",
      "     |  Data descriptors defined here:\n",
      "     |  \n",
      "     |  stdout\n",
      "     |  \n",
      "     |  ----------------------------------------------------------------------\n",
      "     |  Data descriptors inherited from SubprocessError:\n",
      "     |  \n",
      "     |  __weakref__\n",
      "     |      list of weak references to the object (if defined)\n",
      "     |  \n",
      "     |  ----------------------------------------------------------------------\n",
      "     |  Static methods inherited from builtins.Exception:\n",
      "     |  \n",
      "     |  __new__(*args, **kwargs) from builtins.type\n",
      "     |      Create and return a new object.  See help(type) for accurate signature.\n",
      "     |  \n",
      "     |  ----------------------------------------------------------------------\n",
      "     |  Methods inherited from builtins.BaseException:\n",
      "     |  \n",
      "     |  __delattr__(self, name, /)\n",
      "     |      Implement delattr(self, name).\n",
      "     |  \n",
      "     |  __getattribute__(self, name, /)\n",
      "     |      Return getattr(self, name).\n",
      "     |  \n",
      "     |  __reduce__(...)\n",
      "     |      Helper for pickle.\n",
      "     |  \n",
      "     |  __repr__(self, /)\n",
      "     |      Return repr(self).\n",
      "     |  \n",
      "     |  __setattr__(self, name, value, /)\n",
      "     |      Implement setattr(self, name, value).\n",
      "     |  \n",
      "     |  __setstate__(...)\n",
      "     |  \n",
      "     |  with_traceback(...)\n",
      "     |      Exception.with_traceback(tb) --\n",
      "     |      set self.__traceback__ to tb and return self.\n",
      "     |  \n",
      "     |  ----------------------------------------------------------------------\n",
      "     |  Data descriptors inherited from builtins.BaseException:\n",
      "     |  \n",
      "     |  __cause__\n",
      "     |      exception cause\n",
      "     |  \n",
      "     |  __context__\n",
      "     |      exception context\n",
      "     |  \n",
      "     |  __dict__\n",
      "     |  \n",
      "     |  __suppress_context__\n",
      "     |  \n",
      "     |  __traceback__\n",
      "     |  \n",
      "     |  args\n",
      "\n",
      "FUNCTIONS\n",
      "    call(*popenargs, timeout=None, **kwargs)\n",
      "        Run command with arguments.  Wait for command to complete or\n",
      "        timeout, then return the returncode attribute.\n",
      "        \n",
      "        The arguments are the same as for the Popen constructor.  Example:\n",
      "        \n",
      "        retcode = call([\"ls\", \"-l\"])\n",
      "    \n",
      "    check_call(*popenargs, **kwargs)\n",
      "        Run command with arguments.  Wait for command to complete.  If\n",
      "        the exit code was zero then return, otherwise raise\n",
      "        CalledProcessError.  The CalledProcessError object will have the\n",
      "        return code in the returncode attribute.\n",
      "        \n",
      "        The arguments are the same as for the call function.  Example:\n",
      "        \n",
      "        check_call([\"ls\", \"-l\"])\n",
      "    \n",
      "    check_output(*popenargs, timeout=None, **kwargs)\n",
      "        Run command with arguments and return its output.\n",
      "        \n",
      "        If the exit code was non-zero it raises a CalledProcessError.  The\n",
      "        CalledProcessError object will have the return code in the returncode\n",
      "        attribute and output in the output attribute.\n",
      "        \n",
      "        The arguments are the same as for the Popen constructor.  Example:\n",
      "        \n",
      "        >>> check_output([\"ls\", \"-l\", \"/dev/null\"])\n",
      "        b'crw-rw-rw- 1 root root 1, 3 Oct 18  2007 /dev/null\\n'\n",
      "        \n",
      "        The stdout argument is not allowed as it is used internally.\n",
      "        To capture standard error in the result, use stderr=STDOUT.\n",
      "        \n",
      "        >>> check_output([\"/bin/sh\", \"-c\",\n",
      "        ...               \"ls -l non_existent_file ; exit 0\"],\n",
      "        ...              stderr=STDOUT)\n",
      "        b'ls: non_existent_file: No such file or directory\\n'\n",
      "        \n",
      "        There is an additional optional argument, \"input\", allowing you to\n",
      "        pass a string to the subprocess's stdin.  If you use this argument\n",
      "        you may not also use the Popen constructor's \"stdin\" argument, as\n",
      "        it too will be used internally.  Example:\n",
      "        \n",
      "        >>> check_output([\"sed\", \"-e\", \"s/foo/bar/\"],\n",
      "        ...              input=b\"when in the course of fooman events\\n\")\n",
      "        b'when in the course of barman events\\n'\n",
      "        \n",
      "        By default, all communication is in bytes, and therefore any \"input\"\n",
      "        should be bytes, and the return value wil be bytes.  If in text mode,\n",
      "        any \"input\" should be a string, and the return value will be a string\n",
      "        decoded according to locale encoding, or by \"encoding\" if set. Text mode\n",
      "        is triggered by setting any of text, encoding, errors or universal_newlines.\n",
      "    \n",
      "    getoutput(cmd)\n",
      "        Return output (stdout or stderr) of executing cmd in a shell.\n",
      "        \n",
      "        Like getstatusoutput(), except the exit status is ignored and the return\n",
      "        value is a string containing the command's output.  Example:\n",
      "        \n",
      "        >>> import subprocess\n",
      "        >>> subprocess.getoutput('ls /bin/ls')\n",
      "        '/bin/ls'\n",
      "    \n",
      "    getstatusoutput(cmd)\n",
      "        Return (exitcode, output) of executing cmd in a shell.\n",
      "        \n",
      "        Execute the string 'cmd' in a shell with 'check_output' and\n",
      "        return a 2-tuple (status, output). The locale encoding is used\n",
      "        to decode the output and process newlines.\n",
      "        \n",
      "        A trailing newline is stripped from the output.\n",
      "        The exit status for the command can be interpreted\n",
      "        according to the rules for the function 'wait'. Example:\n",
      "        \n",
      "        >>> import subprocess\n",
      "        >>> subprocess.getstatusoutput('ls /bin/ls')\n",
      "        (0, '/bin/ls')\n",
      "        >>> subprocess.getstatusoutput('cat /bin/junk')\n",
      "        (1, 'cat: /bin/junk: No such file or directory')\n",
      "        >>> subprocess.getstatusoutput('/bin/junk')\n",
      "        (127, 'sh: /bin/junk: not found')\n",
      "        >>> subprocess.getstatusoutput('/bin/kill $$')\n",
      "        (-15, '')\n",
      "    \n",
      "    run(*popenargs, input=None, capture_output=False, timeout=None, check=False, **kwargs)\n",
      "        Run command with arguments and return a CompletedProcess instance.\n",
      "        \n",
      "        The returned instance will have attributes args, returncode, stdout and\n",
      "        stderr. By default, stdout and stderr are not captured, and those attributes\n",
      "        will be None. Pass stdout=PIPE and/or stderr=PIPE in order to capture them.\n",
      "        \n",
      "        If check is True and the exit code was non-zero, it raises a\n",
      "        CalledProcessError. The CalledProcessError object will have the return code\n",
      "        in the returncode attribute, and output & stderr attributes if those streams\n",
      "        were captured.\n",
      "        \n",
      "        If timeout is given, and the process takes too long, a TimeoutExpired\n",
      "        exception will be raised.\n",
      "        \n",
      "        There is an optional argument \"input\", allowing you to\n",
      "        pass bytes or a string to the subprocess's stdin.  If you use this argument\n",
      "        you may not also use the Popen constructor's \"stdin\" argument, as\n",
      "        it will be used internally.\n",
      "        \n",
      "        By default, all communication is in bytes, and therefore any \"input\" should\n",
      "        be bytes, and the stdout and stderr will be bytes. If in text mode, any\n",
      "        \"input\" should be a string, and stdout and stderr will be strings decoded\n",
      "        according to locale encoding, or by \"encoding\" if set. Text mode is\n",
      "        triggered by setting any of text, encoding, errors or universal_newlines.\n",
      "        \n",
      "        The other arguments are the same as for the Popen constructor.\n",
      "\n",
      "DATA\n",
      "    ABOVE_NORMAL_PRIORITY_CLASS = 32768\n",
      "    BELOW_NORMAL_PRIORITY_CLASS = 16384\n",
      "    CREATE_BREAKAWAY_FROM_JOB = 16777216\n",
      "    CREATE_DEFAULT_ERROR_MODE = 67108864\n",
      "    CREATE_NEW_CONSOLE = 16\n",
      "    CREATE_NEW_PROCESS_GROUP = 512\n",
      "    CREATE_NO_WINDOW = 134217728\n",
      "    DETACHED_PROCESS = 8\n",
      "    DEVNULL = -3\n",
      "    HIGH_PRIORITY_CLASS = 128\n",
      "    IDLE_PRIORITY_CLASS = 64\n",
      "    NORMAL_PRIORITY_CLASS = 32\n",
      "    PIPE = -1\n",
      "    REALTIME_PRIORITY_CLASS = 256\n",
      "    STARTF_USESHOWWINDOW = 1\n",
      "    STARTF_USESTDHANDLES = 256\n",
      "    STDOUT = -2\n",
      "    STD_ERROR_HANDLE = 4294967284\n",
      "    STD_INPUT_HANDLE = 4294967286\n",
      "    STD_OUTPUT_HANDLE = 4294967285\n",
      "    SW_HIDE = 0\n",
      "    __all__ = ['Popen', 'PIPE', 'STDOUT', 'call', 'check_call', 'getstatus...\n",
      "\n",
      "FILE\n",
      "    c:\\users\\hp\\anaconda3\\lib\\subprocess.py\n",
      "\n",
      "\n"
     ]
    }
   ],
   "source": [
    "import subprocess\n",
    "help(subprocess)"
   ]
  },
  {
   "cell_type": "code",
   "execution_count": 14,
   "metadata": {},
   "outputs": [],
   "source": [
    "x = subprocess.getoutput(\"chrome\")"
   ]
  },
  {
   "cell_type": "code",
   "execution_count": 15,
   "metadata": {},
   "outputs": [
    {
     "data": {
      "text/plain": [
       "''"
      ]
     },
     "execution_count": 15,
     "metadata": {},
     "output_type": "execute_result"
    }
   ],
   "source": [
    "x"
   ]
  },
  {
   "cell_type": "markdown",
   "metadata": {},
   "source": [
    "### os.system vs subprocess.getoutput vs subprocess.getstatusoutput <br>\n",
    "![alt text](system.PNG)"
   ]
  },
  {
   "cell_type": "markdown",
   "metadata": {},
   "source": [
    "###### the system function returns the exit code but doesn't returns the output while function of subprocess both return output of function and only getstatusoutput returns the exit code also along with the output of command"
   ]
  },
  {
   "cell_type": "code",
   "execution_count": 23,
   "metadata": {},
   "outputs": [
    {
     "data": {
      "text/plain": [
       "'\\nPinging google.com [172.217.167.238] with 32 bytes of data:\\nReply from 172.217.167.238: bytes=32 time=9ms TTL=118\\nReply from 172.217.167.238: bytes=32 time=7ms TTL=118\\nReply from 172.217.167.238: bytes=32 time=7ms TTL=118\\nReply from 172.217.167.238: bytes=32 time=7ms TTL=118\\n\\nPing statistics for 172.217.167.238:\\n    Packets: Sent = 4, Received = 4, Lost = 0 (0% loss),\\nApproximate round trip times in milli-seconds:\\n    Minimum = 7ms, Maximum = 9ms, Average = 7ms'"
      ]
     },
     "execution_count": 23,
     "metadata": {},
     "output_type": "execute_result"
    }
   ],
   "source": [
    "subprocess.getoutput(\"ping google.com\")"
   ]
  },
  {
   "cell_type": "code",
   "execution_count": 19,
   "metadata": {},
   "outputs": [
    {
     "data": {
      "text/plain": [
       "0"
      ]
     },
     "execution_count": 19,
     "metadata": {},
     "output_type": "execute_result"
    }
   ],
   "source": [
    "#this is because in the code of this function the output is printed so it doesn't returns the value and can't be stored\n",
    "#in variable\n",
    "#although will print in the CLI \n",
    "os.system(\"ping google.com\")"
   ]
  },
  {
   "cell_type": "code",
   "execution_count": 20,
   "metadata": {},
   "outputs": [
    {
     "data": {
      "text/plain": [
       "(0,\n",
       " '\\nPinging google.com [172.217.167.238] with 32 bytes of data:\\nReply from 172.217.167.238: bytes=32 time=7ms TTL=118\\nReply from 172.217.167.238: bytes=32 time=8ms TTL=118\\nReply from 172.217.167.238: bytes=32 time=8ms TTL=118\\nReply from 172.217.167.238: bytes=32 time=9ms TTL=118\\n\\nPing statistics for 172.217.167.238:\\n    Packets: Sent = 4, Received = 4, Lost = 0 (0% loss),\\nApproximate round trip times in milli-seconds:\\n    Minimum = 7ms, Maximum = 9ms, Average = 8ms')"
      ]
     },
     "execution_count": 20,
     "metadata": {},
     "output_type": "execute_result"
    }
   ],
   "source": [
    "subprocess.getstatusoutput(\"ping google.com\")"
   ]
  },
  {
   "cell_type": "code",
   "execution_count": 26,
   "metadata": {},
   "outputs": [
    {
     "name": "stdout",
     "output_type": "stream",
     "text": [
      "monik\n",
      "None\n"
     ]
    }
   ],
   "source": [
    "b = print(\"monik\")\n",
    "print(b) #can't store value to be printed in variable"
   ]
  },
  {
   "cell_type": "code",
   "execution_count": 28,
   "metadata": {},
   "outputs": [
    {
     "name": "stdout",
     "output_type": "stream",
     "text": [
      "\n",
      "Pinging google.com [172.217.167.238] with 32 bytes of data:\n",
      "Reply from 172.217.167.238: bytes=32 time=8ms TTL=118\n",
      "Reply from 172.217.167.238: bytes=32 time=8ms TTL=118\n",
      "Reply from 172.217.167.238: bytes=32 time=8ms TTL=118\n",
      "Reply from 172.217.167.238: bytes=32 time=8ms TTL=118\n",
      "\n",
      "Ping statistics for 172.217.167.238:\n",
      "    Packets: Sent = 4, Received = 4, Lost = 0 (0% loss),\n",
      "Approximate round trip times in milli-seconds:\n",
      "    Minimum = 8ms, Maximum = 8ms, Average = 8ms\n"
     ]
    }
   ],
   "source": [
    "#this is how the printed output looks like\n",
    "print(subprocess.getoutput(\"ping google.com\"))"
   ]
  },
  {
   "cell_type": "code",
   "execution_count": null,
   "metadata": {},
   "outputs": [],
   "source": []
  }
 ],
 "metadata": {
  "kernelspec": {
   "display_name": "Python 3",
   "language": "python",
   "name": "python3"
  },
  "language_info": {
   "codemirror_mode": {
    "name": "ipython",
    "version": 3
   },
   "file_extension": ".py",
   "mimetype": "text/x-python",
   "name": "python",
   "nbconvert_exporter": "python",
   "pygments_lexer": "ipython3",
   "version": "3.7.3"
  }
 },
 "nbformat": 4,
 "nbformat_minor": 2
}
