{
 "cells": [
  {
   "cell_type": "markdown",
   "metadata": {},
   "source": [
    "# python expection handling \n",
    "\n",
    "An exception is an error that occurs during the execution of code. This error causes the code to raise an exception and if not prepared to handle it will halt the execution of the code"
   ]
  },
  {
   "cell_type": "code",
   "execution_count": 7,
   "metadata": {},
   "outputs": [
    {
     "name": "stdout",
     "output_type": "stream",
     "text": [
      "Please enter a number to divide a- 0\n",
      "Something went wrong\n",
      "\n",
      "Please enter a number to divide a- ad\n",
      "Something went wrong\n",
      "\n",
      "Please enter a number to divide a- 12\n",
      "Success a= 0.08333333333333333 \n",
      "\n",
      "Please enter a number to divide a- 111\n"
     ]
    }
   ],
   "source": [
    "# to specify the type of expection to be handled\n",
    "a= 1\n",
    "while 1:\n",
    "    try:\n",
    "        b = int(input(\"Please enter a number to divide a- \"))\n",
    "        if b == 111:\n",
    "            break\n",
    "        a = a/b\n",
    "        print(\"Success a=\",a,\"\\n\")\n",
    "    except (ZeroDivisionError, ValueError):\n",
    "        print(\"Something went wrong\\n\")"
   ]
  },
  {
   "cell_type": "code",
   "execution_count": 3,
   "metadata": {},
   "outputs": [
    {
     "name": "stdout",
     "output_type": "stream",
     "text": [
      "Please enter a number to divide a- 0\n",
      "The number you provided cant divide 1 because it is 0\n",
      "Please enter a number to divide a- er\n",
      "You did not provide a number\n",
      "Please enter a number to divide a- 10\n",
      "Success a= 0.1\n",
      "Please enter a number to divide a- 111\n"
     ]
    }
   ],
   "source": [
    "# it handles different expection differently\n",
    "a= 1\n",
    "while 1:\n",
    "    try:\n",
    "        b = int(input(\"Please enter a number to divide a- \"))\n",
    "        if b == 111:\n",
    "            break\n",
    "        a = a/b\n",
    "        print(\"Success a=\",a)\n",
    "    except ZeroDivisionError:\n",
    "        print(\"The number you provided cant divide 1 because it is 0\")\n",
    "    except ValueError:\n",
    "        print(\"You did not provide a number\")\n",
    "    except:\n",
    "        print(\"Something went wrong\")"
   ]
  },
  {
   "cell_type": "markdown",
   "metadata": {},
   "source": [
    "### try - else\n",
    "<code>else</code> block is only executed if <code>try</code> statement is executed, if <code>except</code> statement is executed <code>else</code> is skipped<br>\n",
    "In other words <code>else</code> is executed only when their is no expection"
   ]
  },
  {
   "cell_type": "code",
   "execution_count": 1,
   "metadata": {},
   "outputs": [
    {
     "name": "stdout",
     "output_type": "stream",
     "text": [
      "2\n",
      "it's an integer 2 \n",
      "\n",
      "as\n",
      "please enter a integer\n",
      "\n",
      "break\n"
     ]
    }
   ],
   "source": [
    "while 1:\n",
    "    i = input()\n",
    "    if i == \"break\":\n",
    "        break\n",
    "    try:\n",
    "        i = int(i)\n",
    "    except:\n",
    "        print(\"please enter a integer\\n\")\n",
    "    else:\n",
    "        print(\"it's an integer\",i,\"\\n\")"
   ]
  },
  {
   "cell_type": "markdown",
   "metadata": {},
   "source": [
    "### try - finally\n",
    "<code>finally</code> is executed at the end of the try expect no matter what"
   ]
  },
  {
   "cell_type": "code",
   "execution_count": 1,
   "metadata": {},
   "outputs": [
    {
     "name": "stdout",
     "output_type": "stream",
     "text": [
      "Please enter a number to divide a- 12\n",
      "success a= 0.08333333333333333\n",
      "Processing Complete\n",
      "\n",
      "Please enter a number to divide a- fsf\n",
      "You did not provide a number\n",
      "Processing Complete\n",
      "\n",
      "Please enter a number to divide a- 0\n",
      "The number you provided cant divide 1 because it is 0\n",
      "Processing Complete\n",
      "\n",
      "Please enter a number to divide a- break\n"
     ]
    }
   ],
   "source": [
    "while 1:    \n",
    "    a = 1\n",
    "    b = input(\"Please enter a number to divide a- \")\n",
    "    if b == \"break\":\n",
    "        break\n",
    "    try:\n",
    "        b = int(b)\n",
    "        a = a/b\n",
    "    except ZeroDivisionError:\n",
    "        print(\"The number you provided cant divide 1 because it is 0\")\n",
    "    except ValueError:\n",
    "        print(\"You did not provide a number\")\n",
    "    except:\n",
    "        print(\"Something went wrong\")\n",
    "    else:\n",
    "        print(\"success a=\",a)\n",
    "    finally:\n",
    "        print(\"Processing Complete\\n\")"
   ]
  },
  {
   "cell_type": "markdown",
   "metadata": {},
   "source": [
    "# go to w3 schools will find there"
   ]
  },
  {
   "cell_type": "code",
   "execution_count": 2,
   "metadata": {
    "scrolled": false
   },
   "outputs": [
    {
     "ename": "ValueError",
     "evalue": "minlen must be at least more than 1",
     "output_type": "error",
     "traceback": [
      "\u001b[1;31m---------------------------------------------------------------------------\u001b[0m",
      "\u001b[1;31mValueError\u001b[0m                                Traceback (most recent call last)",
      "\u001b[1;32m<ipython-input-2-fde670bf566b>\u001b[0m in \u001b[0;36m<module>\u001b[1;34m\u001b[0m\n\u001b[0;32m      9\u001b[0m     \u001b[1;32mreturn\u001b[0m \u001b[1;32mTrue\u001b[0m\u001b[1;33m\u001b[0m\u001b[1;33m\u001b[0m\u001b[0m\n\u001b[0;32m     10\u001b[0m \u001b[1;33m\u001b[0m\u001b[0m\n\u001b[1;32m---> 11\u001b[1;33m \u001b[0mvalidate_user\u001b[0m\u001b[1;33m(\u001b[0m\u001b[1;34m\"garg\"\u001b[0m\u001b[1;33m,\u001b[0m\u001b[1;36m0\u001b[0m\u001b[1;33m)\u001b[0m\u001b[1;33m\u001b[0m\u001b[1;33m\u001b[0m\u001b[0m\n\u001b[0m",
      "\u001b[1;32m<ipython-input-2-fde670bf566b>\u001b[0m in \u001b[0;36mvalidate_user\u001b[1;34m(username, minlen)\u001b[0m\n\u001b[0;32m      2\u001b[0m     \u001b[1;32massert\u001b[0m \u001b[0mtype\u001b[0m\u001b[1;33m(\u001b[0m\u001b[0musername\u001b[0m\u001b[1;33m)\u001b[0m \u001b[1;33m==\u001b[0m \u001b[0mstr\u001b[0m\u001b[1;33m,\u001b[0m \u001b[1;34m\"username must be a string\"\u001b[0m\u001b[1;33m\u001b[0m\u001b[1;33m\u001b[0m\u001b[0m\n\u001b[0;32m      3\u001b[0m     \u001b[1;32mif\u001b[0m \u001b[0mminlen\u001b[0m \u001b[1;33m<\u001b[0m \u001b[1;36m1\u001b[0m\u001b[1;33m:\u001b[0m\u001b[1;33m\u001b[0m\u001b[1;33m\u001b[0m\u001b[0m\n\u001b[1;32m----> 4\u001b[1;33m         \u001b[1;32mraise\u001b[0m \u001b[0mValueError\u001b[0m\u001b[1;33m(\u001b[0m\u001b[1;34m\"minlen must be at least more than 1\"\u001b[0m\u001b[1;33m)\u001b[0m \u001b[1;31m# raises ValueError with custom message\u001b[0m\u001b[1;33m\u001b[0m\u001b[1;33m\u001b[0m\u001b[0m\n\u001b[0m\u001b[0;32m      5\u001b[0m     \u001b[1;32mif\u001b[0m \u001b[0mlen\u001b[0m\u001b[1;33m(\u001b[0m\u001b[0musername\u001b[0m\u001b[1;33m)\u001b[0m \u001b[1;33m<\u001b[0m \u001b[0mminlen\u001b[0m\u001b[1;33m:\u001b[0m\u001b[1;33m\u001b[0m\u001b[1;33m\u001b[0m\u001b[0m\n\u001b[0;32m      6\u001b[0m         \u001b[1;32mreturn\u001b[0m \u001b[1;32mFalse\u001b[0m\u001b[1;33m\u001b[0m\u001b[1;33m\u001b[0m\u001b[0m\n",
      "\u001b[1;31mValueError\u001b[0m: minlen must be at least more than 1"
     ]
    }
   ],
   "source": [
    "def validate_user(username, minlen):\n",
    "    assert type(username) == str, \"username must be a string\"\n",
    "    if minlen < 1:\n",
    "        raise ValueError(\"minlen must be at least more than 1\") # raises ValueError with custom message\n",
    "    if len(username) < minlen:\n",
    "        return False \n",
    "    if not username.isalnum():\n",
    "        return False\n",
    "    return True\n",
    "\n",
    "validate_user(\"garg\",0)"
   ]
  },
  {
   "cell_type": "code",
   "execution_count": 6,
   "metadata": {},
   "outputs": [
    {
     "ename": "AssertionError",
     "evalue": "username must be a string",
     "output_type": "error",
     "traceback": [
      "\u001b[1;31m---------------------------------------------------------------------------\u001b[0m",
      "\u001b[1;31mAssertionError\u001b[0m                            Traceback (most recent call last)",
      "\u001b[1;32m<ipython-input-6-f1b1075b762c>\u001b[0m in \u001b[0;36m<module>\u001b[1;34m\u001b[0m\n\u001b[1;32m----> 1\u001b[1;33m \u001b[0mvalidate_user\u001b[0m\u001b[1;33m(\u001b[0m\u001b[1;33m[\u001b[0m\u001b[1;33m]\u001b[0m\u001b[1;33m,\u001b[0m\u001b[1;36m1\u001b[0m\u001b[1;33m)\u001b[0m\u001b[1;33m\u001b[0m\u001b[1;33m\u001b[0m\u001b[0m\n\u001b[0m",
      "\u001b[1;32m<ipython-input-2-fde670bf566b>\u001b[0m in \u001b[0;36mvalidate_user\u001b[1;34m(username, minlen)\u001b[0m\n\u001b[0;32m      1\u001b[0m \u001b[1;32mdef\u001b[0m \u001b[0mvalidate_user\u001b[0m\u001b[1;33m(\u001b[0m\u001b[0musername\u001b[0m\u001b[1;33m,\u001b[0m \u001b[0mminlen\u001b[0m\u001b[1;33m)\u001b[0m\u001b[1;33m:\u001b[0m\u001b[1;33m\u001b[0m\u001b[1;33m\u001b[0m\u001b[0m\n\u001b[1;32m----> 2\u001b[1;33m     \u001b[1;32massert\u001b[0m \u001b[0mtype\u001b[0m\u001b[1;33m(\u001b[0m\u001b[0musername\u001b[0m\u001b[1;33m)\u001b[0m \u001b[1;33m==\u001b[0m \u001b[0mstr\u001b[0m\u001b[1;33m,\u001b[0m \u001b[1;34m\"username must be a string\"\u001b[0m\u001b[1;33m\u001b[0m\u001b[1;33m\u001b[0m\u001b[0m\n\u001b[0m\u001b[0;32m      3\u001b[0m     \u001b[1;32mif\u001b[0m \u001b[0mminlen\u001b[0m \u001b[1;33m<\u001b[0m \u001b[1;36m1\u001b[0m\u001b[1;33m:\u001b[0m\u001b[1;33m\u001b[0m\u001b[1;33m\u001b[0m\u001b[0m\n\u001b[0;32m      4\u001b[0m         \u001b[1;32mraise\u001b[0m \u001b[0mValueError\u001b[0m\u001b[1;33m(\u001b[0m\u001b[1;34m\"minlen must be at least more than 1\"\u001b[0m\u001b[1;33m)\u001b[0m \u001b[1;31m# raises ValueError with custom message\u001b[0m\u001b[1;33m\u001b[0m\u001b[1;33m\u001b[0m\u001b[0m\n\u001b[0;32m      5\u001b[0m     \u001b[1;32mif\u001b[0m \u001b[0mlen\u001b[0m\u001b[1;33m(\u001b[0m\u001b[0musername\u001b[0m\u001b[1;33m)\u001b[0m \u001b[1;33m<\u001b[0m \u001b[0mminlen\u001b[0m\u001b[1;33m:\u001b[0m\u001b[1;33m\u001b[0m\u001b[1;33m\u001b[0m\u001b[0m\n",
      "\u001b[1;31mAssertionError\u001b[0m: username must be a string"
     ]
    }
   ],
   "source": [
    "validate_user([],1)"
   ]
  },
  {
   "cell_type": "code",
   "execution_count": 12,
   "metadata": {},
   "outputs": [
    {
     "ename": "NameError",
     "evalue": "name 'ChildProcessErrorustomError' is not defined",
     "output_type": "error",
     "traceback": [
      "\u001b[1;31m---------------------------------------------------------------------------\u001b[0m",
      "\u001b[1;31mNameError\u001b[0m                                 Traceback (most recent call last)",
      "\u001b[1;32m<ipython-input-12-0f0e8b02c4b0>\u001b[0m in \u001b[0;36m<module>\u001b[1;34m\u001b[0m\n\u001b[0;32m     16\u001b[0m     \u001b[1;32mreturn\u001b[0m \u001b[1;32mTrue\u001b[0m\u001b[1;33m\u001b[0m\u001b[1;33m\u001b[0m\u001b[0m\n\u001b[0;32m     17\u001b[0m \u001b[1;33m\u001b[0m\u001b[0m\n\u001b[1;32m---> 18\u001b[1;33m \u001b[0mvalidate_user\u001b[0m\u001b[1;33m(\u001b[0m\u001b[1;34m\"garg\"\u001b[0m\u001b[1;33m,\u001b[0m\u001b[1;36m0\u001b[0m\u001b[1;33m)\u001b[0m\u001b[1;33m\u001b[0m\u001b[1;33m\u001b[0m\u001b[0m\n\u001b[0m",
      "\u001b[1;32m<ipython-input-12-0f0e8b02c4b0>\u001b[0m in \u001b[0;36mvalidate_user\u001b[1;34m(username, minlen)\u001b[0m\n\u001b[0;32m      9\u001b[0m     \u001b[1;32massert\u001b[0m \u001b[0mtype\u001b[0m\u001b[1;33m(\u001b[0m\u001b[0musername\u001b[0m\u001b[1;33m)\u001b[0m \u001b[1;33m==\u001b[0m \u001b[0mstr\u001b[0m\u001b[1;33m,\u001b[0m \u001b[1;34m\"username must be a string\"\u001b[0m\u001b[1;33m\u001b[0m\u001b[1;33m\u001b[0m\u001b[0m\n\u001b[0;32m     10\u001b[0m     \u001b[1;32mif\u001b[0m \u001b[0mminlen\u001b[0m \u001b[1;33m<\u001b[0m \u001b[1;36m1\u001b[0m\u001b[1;33m:\u001b[0m\u001b[1;33m\u001b[0m\u001b[1;33m\u001b[0m\u001b[0m\n\u001b[1;32m---> 11\u001b[1;33m         \u001b[1;32mraise\u001b[0m \u001b[0mChildProcessErrorustomError\u001b[0m\u001b[1;33m(\u001b[0m\u001b[1;34m\"minlen must be at least more than 1\"\u001b[0m\u001b[1;33m)\u001b[0m \u001b[1;31m# raises ValueError with custom message\u001b[0m\u001b[1;33m\u001b[0m\u001b[1;33m\u001b[0m\u001b[0m\n\u001b[0m\u001b[0;32m     12\u001b[0m     \u001b[1;32mif\u001b[0m \u001b[0mlen\u001b[0m\u001b[1;33m(\u001b[0m\u001b[0musername\u001b[0m\u001b[1;33m)\u001b[0m \u001b[1;33m<\u001b[0m \u001b[0mminlen\u001b[0m\u001b[1;33m:\u001b[0m\u001b[1;33m\u001b[0m\u001b[1;33m\u001b[0m\u001b[0m\n\u001b[0;32m     13\u001b[0m         \u001b[1;32mreturn\u001b[0m \u001b[1;32mFalse\u001b[0m\u001b[1;33m\u001b[0m\u001b[1;33m\u001b[0m\u001b[0m\n",
      "\u001b[1;31mNameError\u001b[0m: name 'ChildProcessErrorustomError' is not defined"
     ]
    }
   ],
   "source": [
    "# we can create custom errors derived from base exception class\n",
    "# same as above but now we create are on exception\n",
    "\n",
    "class CustomError(Exception):\n",
    "    def __init__(self, value):\n",
    "        self.value = value\n",
    "    def __str__(self):\n",
    "        return str(self.value)\n",
    "    \n",
    "def validate_user(username, minlen):\n",
    "    assert type(username) == str, \"username must be a string\"\n",
    "    if minlen < 1:\n",
    "        raise ChildProcessErrorustomError(\"minlen must be at least more than 1\") # raises ValueError with custom message\n",
    "    if len(username) < minlen:\n",
    "        return False \n",
    "    if not username.isalnum():\n",
    "        return False\n",
    "    return True\n",
    "\n",
    "validate_user(\"garg\",0)"
   ]
  },
  {
   "cell_type": "code",
   "execution_count": null,
   "metadata": {},
   "outputs": [],
   "source": []
  }
 ],
 "metadata": {
  "kernelspec": {
   "display_name": "Python 3",
   "language": "python",
   "name": "python3"
  },
  "language_info": {
   "codemirror_mode": {
    "name": "ipython",
    "version": 3
   },
   "file_extension": ".py",
   "mimetype": "text/x-python",
   "name": "python",
   "nbconvert_exporter": "python",
   "pygments_lexer": "ipython3",
   "version": "3.8.3"
  }
 },
 "nbformat": 4,
 "nbformat_minor": 4
}
