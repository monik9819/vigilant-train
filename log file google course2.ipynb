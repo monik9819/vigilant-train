{
 "cells": [
  {
   "cell_type": "markdown",
   "metadata": {},
   "source": [
    "## process log file"
   ]
  },
  {
   "cell_type": "code",
   "execution_count": 19,
   "metadata": {},
   "outputs": [
    {
     "name": "stdout",
     "output_type": "stream",
     "text": [
      "Jul 6 14:01:23 computer.name CRON[ 29440]: USER (good_user)\n",
      "Jul 6 14:02:08 computer.name jam_tag=psim[29187]: (UUID: 006)\n",
      "Jul 6 14:02:09 computer.name jam_tag=psim[29187]: (UUID: 007)\n",
      "Jul 6 14:03:01 computer.name CRON[ 29440]: USER (naughty_user)\n",
      "Jul 6 14:03:40 computer.name cacheclient[29807]: start syncing from \"OXDEADBEEF\"\n",
      "Jul 6 14:04:01 computer.name CRON[29440]: USER (naughty_user)\n",
      "Jul 6 14:05:01 computer.name CRON[29440]: USER (naughty_user)\n"
     ]
    }
   ],
   "source": [
    "x  = '''Jul 6 14:01:23 computer.name CRON[ 29440]: USER (good_user)\\nJul 6 14:02:08 computer.name jam_tag=psim[29187]: (UUID: 006)\\nJul 6 14:02:09 computer.name jam_tag=psim[29187]: (UUID: 007)\\nJul 6 14:03:01 computer.name CRON[ 29440]: USER (naughty_user)\\nJul 6 14:03:40 computer.name cacheclient[29807]: start syncing from \"OXDEADBEEF\"\\nJul 6 14:04:01 computer.name CRON[29440]: USER (naughty_user)\\nJul 6 14:05:01 computer.name CRON[29440]: USER (naughty_user)'''\n",
    "fh = open(\"syslog\",\"w\")\n",
    "fh.write(x)\n",
    "fh.close\n",
    "with open(\"syslog\",\"r\") as f1:\n",
    "    print(f1.read())"
   ]
  },
  {
   "cell_type": "code",
   "execution_count": 20,
   "metadata": {},
   "outputs": [
    {
     "name": "stdout",
     "output_type": "stream",
     "text": [
      "{'good_user': 1, 'naughty_user': 3}\n"
     ]
    }
   ],
   "source": [
    "import re\n",
    "\n",
    "usernames = {}\n",
    "with open(\"syslog\",\"r\") as f:\n",
    "    for line in f:\n",
    "        if \"CRON\" not in line:\n",
    "            continue\n",
    "        pattern = r\"USER \\((\\w+)\\)$\"\n",
    "        result = re.search(pattern, line)\n",
    "        if result is None:\n",
    "            continue\n",
    "        name = result[1]\n",
    "        usernames [name] = usernames.get(name, 0) + 1\n",
    "print(usernames)"
   ]
  },
  {
   "cell_type": "markdown",
   "metadata": {},
   "source": [
    "\n",
    "\n",
    "\n",
    "#### made one more program in drive C>Users>hp\n",
    "#### program name <code>log_process_code.py</code> and log file name <code>syslog</code> can directly run this one from command line as follows in windows<code>python log_process_code.py syslog</code>  and in linux (make the file executable first) <code>./fileName.py log_file_name</code>"
   ]
  },
  {
   "cell_type": "markdown",
   "metadata": {},
   "source": [
    " "
   ]
  },
  {
   "cell_type": "markdown",
   "metadata": {},
   "source": []
  },
  {
   "cell_type": "code",
   "execution_count": null,
   "metadata": {},
   "outputs": [],
   "source": [
    "import sys\n",
    "import os\n",
    "import re\n",
    "\n",
    "\n",
    "def error_search(log_file):\n",
    "    error = input(\"What is the error? \")\n",
    "    returned_errors = []\n",
    "    with open(log_file, mode='r',encoding='UTF-8') as file:\n",
    "    for log in  file.readlines():\n",
    "        error_patterns = [\"error\"]\n",
    "        for i in range(len(error.split(' '))):\n",
    "        error_patterns.append(r\"{}\".format(error.split(' ')[i].lower()))\n",
    "        if all(re.search(error_pattern, log.lower()) for error_pattern in error_patterns):\n",
    "        returned_errors.append(log)\n",
    "    file.close()\n",
    "    return returned_errors\n",
    "\n",
    "  \n",
    "def file_output(returned_errors):\n",
    "    with open(os.path.expanduser('~') + '/data/errors_found.log', 'w') as file:\n",
    "    for error in returned_errors:\n",
    "        file.write(error)\n",
    "    file.close()\n",
    "if __name__ == \"__main__\":\n",
    "    log_file = sys.argv[1]\n",
    "    returned_errors = error_search(log_file)\n",
    "    file_output(returned_errors)\n",
    "    sys.exit(0)"
   ]
  },
  {
   "cell_type": "code",
   "execution_count": null,
   "metadata": {},
   "outputs": [],
   "source": [
    "#!/usr/bin/env  python3\n",
    "\n",
    "import sys\n",
    "import subprocess\n",
    "\n",
    "with open(sys.argv[1],\"rt\") as fh:\n",
    "    for line in fh:\n",
    "        line = line.rstrip()\n",
    "        newline = line.replace(\"jane\",\"jdoe\")\n",
    "        line = \"..\"+line\n",
    "        newline = \"..\" + newline\n",
    "        print(newline)\n",
    "        subprocess.run([\"mv\",line,newline])"
   ]
  },
  {
   "cell_type": "code",
   "execution_count": null,
   "metadata": {},
   "outputs": [],
   "source": [
    "#!/usr/bin/env python3\n",
    "\n",
    "import unittest\n",
    "from emails import find_email\n",
    "\n",
    "\n",
    "class EmailsTest(unittest.TestCase):\n",
    "\n",
    "    def test_basic(self):\n",
    "        testcase = [None, \"Bree\", \"Campbell\"]\n",
    "        expected = \"breee@abc.edu\"\n",
    "        self.assertEqual(find_email(testcase), expected)\n",
    "\n",
    "    def test_one_name(self):\n",
    "        testcase = [None, \"John\"]\n",
    "        expected = \"Missing parameters\"\n",
    "        self.assertEqual(find_email(testcase), expected)\n",
    "\n",
    "    def test_two_name(self):\n",
    "        testcase = [None, \"Roy\",\"Cooper\"]\n",
    "        expected = \"No email address found\"\n",
    "        self.assertEqual(find_email(testcase), expected)\n",
    "\n",
    "if __name__ == '__main__':\n",
    "    unittest.main()"
   ]
  },
  {
   "cell_type": "code",
   "execution_count": null,
   "metadata": {},
   "outputs": [],
   "source": [
    "#!/usr/bin/env python3\n",
    "\n",
    "import sys\n",
    "import csv\n",
    "\n",
    "def populate_dictionary(filename):\n",
    "    \"\"\"Populate a dictionary with name/email pairs for easy lookup.\"\"\"\n",
    "    email_dict = {}\n",
    "    with open(filename) as csvfile:\n",
    "        lines = csv.reader(csvfile, delimiter = ',')\n",
    "        for row in lines:\n",
    "            name = str(row[0].lower())\n",
    "            email_dict[name] = row[1]\n",
    "        return email_dict\n",
    "\n",
    "def find_email(argv):\n",
    "    \"\"\" Return an email address based on the username given.\"\"\"\n",
    "    # Create the username based on the command line input.\n",
    "    try:\n",
    "        fullname = str(argv[1] + \" \" + argv[2])\n",
    "        # Preprocess the data\n",
    "        email_dict = populate_dictionary('/home/student-04-3f2183ac9b4e/data/user_emails.csv')\n",
    "        # Find and print the email\n",
    "        if email_dict.get(fullname.lower()):\n",
    "            return email_dict.get(fullname.lower())\n",
    "        return \"No email address found\"\n",
    "    except IndexError:\n",
    "            return \"Missing parameters\"\n",
    "\n",
    "\n",
    "\n",
    "def main():\n",
    "    print(find_email(sys.argv))\n",
    "\n",
    "if __name__ == \"__main__\":\n",
    "    main()"
   ]
  }
 ],
 "metadata": {
  "kernelspec": {
   "display_name": "Python 3",
   "language": "python",
   "name": "python3"
  },
  "language_info": {
   "codemirror_mode": {
    "name": "ipython",
    "version": 3
   },
   "file_extension": ".py",
   "mimetype": "text/x-python",
   "name": "python",
   "nbconvert_exporter": "python",
   "pygments_lexer": "ipython3",
   "version": "3.8.3"
  }
 },
 "nbformat": 4,
 "nbformat_minor": 4
}
