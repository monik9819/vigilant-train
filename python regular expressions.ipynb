{
 "cells": [
  {
   "cell_type": "markdown",
   "metadata": {},
   "source": [
    "# Regular expressions "
   ]
  },
  {
   "cell_type": "markdown",
   "metadata": {},
   "source": [
    "<h6>To work with regular expressions need to import a module</h6> <br>\n",
    "<code>import re</code>"
   ]
  },
  {
   "cell_type": "markdown",
   "metadata": {},
   "source": [
    "![alt text](regex.PNG)"
   ]
  },
  {
   "cell_type": "markdown",
   "metadata": {},
   "source": [
    "<code>\\w</code> matches any alpha-numeric charatcer including underscore....but not whitespace<br>\n",
    "<code>\\d</code> matches any digit<br>\n",
    "<code>\\s</code> matches whitespaces like space, tab or new line<br>\n",
    "<code>\\b</code> matches word boundaries"
   ]
  },
  {
   "cell_type": "markdown",
   "metadata": {},
   "source": [
    "<br><br>\n",
    "### resources\n",
    "https://regex101.com/  <strong>to understand any regex use it.....regex tester and debugger </strong><br>\n",
    "https://www.programiz.com/python-programming/regex   <strong>example of every special character</strong>"
   ]
  },
  {
   "cell_type": "code",
   "execution_count": 2,
   "metadata": {},
   "outputs": [],
   "source": [
    "import re\n",
    "dir(re)"
   ]
  },
  {
   "cell_type": "markdown",
   "metadata": {},
   "source": [
    "######  using re.search() similar to str.find()"
   ]
  },
  {
   "cell_type": "code",
   "execution_count": 2,
   "metadata": {
    "collapsed": true
   },
   "outputs": [
    {
     "name": "stdout",
     "output_type": "stream",
     "text": [
      "From: stephen.marquard@uct.ac.za\n",
      "From: louis@media.berkeley.edu\n",
      "From: zqian@umich.edu\n",
      "From: rjlowe@iupui.edu\n",
      "From: zqian@umich.edu\n",
      "From: rjlowe@iupui.edu\n",
      "From: cwen@iupui.edu\n",
      "From: cwen@iupui.edu\n",
      "From: gsilver@umich.edu\n",
      "From: gsilver@umich.edu\n",
      "From: zqian@umich.edu\n",
      "From: gsilver@umich.edu\n",
      "From: wagnermr@iupui.edu\n",
      "From: zqian@umich.edu\n",
      "From: antranig@caret.cam.ac.uk\n",
      "From: gopal.ramasammycook@gmail.com\n",
      "From: david.horwitz@uct.ac.za\n",
      "From: david.horwitz@uct.ac.za\n",
      "From: david.horwitz@uct.ac.za\n",
      "From: david.horwitz@uct.ac.za\n",
      "From: stephen.marquard@uct.ac.za\n",
      "From: louis@media.berkeley.edu\n",
      "From: louis@media.berkeley.edu\n",
      "From: ray@media.berkeley.edu\n",
      "From: cwen@iupui.edu\n",
      "From: cwen@iupui.edu\n",
      "From: cwen@iupui.edu\n"
     ]
    }
   ],
   "source": [
    "with open(\"mbox-short.txt\",\"r\") as handle:\n",
    "    for line in handle:\n",
    "        line = line.rstrip()\n",
    "        if line.find(\"From:\") >= 0:\n",
    "            print(line)"
   ]
  },
  {
   "cell_type": "code",
   "execution_count": 3,
   "metadata": {
    "collapsed": true
   },
   "outputs": [
    {
     "name": "stdout",
     "output_type": "stream",
     "text": [
      "From: stephen.marquard@uct.ac.za\n",
      "From: louis@media.berkeley.edu\n",
      "From: zqian@umich.edu\n",
      "From: rjlowe@iupui.edu\n",
      "From: zqian@umich.edu\n",
      "From: rjlowe@iupui.edu\n",
      "From: cwen@iupui.edu\n",
      "From: cwen@iupui.edu\n",
      "From: gsilver@umich.edu\n",
      "From: gsilver@umich.edu\n",
      "From: zqian@umich.edu\n",
      "From: gsilver@umich.edu\n",
      "From: wagnermr@iupui.edu\n",
      "From: zqian@umich.edu\n",
      "From: antranig@caret.cam.ac.uk\n",
      "From: gopal.ramasammycook@gmail.com\n",
      "From: david.horwitz@uct.ac.za\n",
      "From: david.horwitz@uct.ac.za\n",
      "From: david.horwitz@uct.ac.za\n",
      "From: david.horwitz@uct.ac.za\n",
      "From: stephen.marquard@uct.ac.za\n",
      "From: louis@media.berkeley.edu\n",
      "From: louis@media.berkeley.edu\n",
      "From: ray@media.berkeley.edu\n",
      "From: cwen@iupui.edu\n",
      "From: cwen@iupui.edu\n",
      "From: cwen@iupui.edu\n"
     ]
    }
   ],
   "source": [
    "import re\n",
    "with open(\"mbox-short.txt\",\"r\") as hand:\n",
    "    for line in hand:\n",
    "        line = line.rstrip()\n",
    "        if re.search(\"From:\",line):\n",
    "            print(line)"
   ]
  },
  {
   "cell_type": "markdown",
   "metadata": {},
   "source": [
    "###### using re.search()"
   ]
  },
  {
   "cell_type": "code",
   "execution_count": 6,
   "metadata": {
    "collapsed": true
   },
   "outputs": [
    {
     "name": "stdout",
     "output_type": "stream",
     "text": [
      "From: stephen.marquard@uct.ac.za\n",
      "From: louis@media.berkeley.edu\n",
      "From: zqian@umich.edu\n",
      "From: rjlowe@iupui.edu\n",
      "From: zqian@umich.edu\n",
      "From: rjlowe@iupui.edu\n",
      "From: cwen@iupui.edu\n",
      "From: cwen@iupui.edu\n",
      "From: gsilver@umich.edu\n",
      "From: gsilver@umich.edu\n",
      "From: zqian@umich.edu\n",
      "From: gsilver@umich.edu\n",
      "From: wagnermr@iupui.edu\n",
      "From: zqian@umich.edu\n",
      "From: antranig@caret.cam.ac.uk\n",
      "From: gopal.ramasammycook@gmail.com\n",
      "From: david.horwitz@uct.ac.za\n",
      "From: david.horwitz@uct.ac.za\n",
      "From: david.horwitz@uct.ac.za\n",
      "From: david.horwitz@uct.ac.za\n",
      "From: stephen.marquard@uct.ac.za\n",
      "From: louis@media.berkeley.edu\n",
      "From: louis@media.berkeley.edu\n",
      "From: ray@media.berkeley.edu\n",
      "From: cwen@iupui.edu\n",
      "From: cwen@iupui.edu\n",
      "From: cwen@iupui.edu\n"
     ]
    }
   ],
   "source": [
    "with open(\"mbox-short.txt\",\"r\") as handle:\n",
    "    for line in handle:\n",
    "        line = line.rstrip()\n",
    "        if line.startswith(\"From:\"):\n",
    "            print(line)"
   ]
  },
  {
   "cell_type": "code",
   "execution_count": 8,
   "metadata": {
    "collapsed": true
   },
   "outputs": [
    {
     "name": "stdout",
     "output_type": "stream",
     "text": [
      "From: stephen.marquard@uct.ac.za\n",
      "From: louis@media.berkeley.edu\n",
      "From: zqian@umich.edu\n",
      "From: rjlowe@iupui.edu\n",
      "From: zqian@umich.edu\n",
      "From: rjlowe@iupui.edu\n",
      "From: cwen@iupui.edu\n",
      "From: cwen@iupui.edu\n",
      "From: gsilver@umich.edu\n",
      "From: gsilver@umich.edu\n",
      "From: zqian@umich.edu\n",
      "From: gsilver@umich.edu\n",
      "From: wagnermr@iupui.edu\n",
      "From: zqian@umich.edu\n",
      "From: antranig@caret.cam.ac.uk\n",
      "From: gopal.ramasammycook@gmail.com\n",
      "From: david.horwitz@uct.ac.za\n",
      "From: david.horwitz@uct.ac.za\n",
      "From: david.horwitz@uct.ac.za\n",
      "From: david.horwitz@uct.ac.za\n",
      "From: stephen.marquard@uct.ac.za\n",
      "From: louis@media.berkeley.edu\n",
      "From: louis@media.berkeley.edu\n",
      "From: ray@media.berkeley.edu\n",
      "From: cwen@iupui.edu\n",
      "From: cwen@iupui.edu\n",
      "From: cwen@iupui.edu\n"
     ]
    }
   ],
   "source": [
    "import re\n",
    "with open(\"mbox-short.txt\",\"r\") as hand:\n",
    "    for line in hand:\n",
    "        line = line.rstrip()\n",
    "        if re.search(\"^From:\",line): #wildcard character added before \"From:\", it indicates match the begining of line\n",
    "            print(line)"
   ]
  },
  {
   "cell_type": "code",
   "execution_count": 20,
   "metadata": {
    "collapsed": true
   },
   "outputs": [
    {
     "name": "stdout",
     "output_type": "stream",
     "text": [
      "X-Sieve: CMU Sieve 2.3\n",
      "X-Authentication-Warning: nakamura.uits.iupui.edu: apache set sender to stephen.marquard@uct.ac.za using -f\n",
      "X-Content-Type-Outer-Envelope: text/plain; charset=UTF-8\n",
      "X-Content-Type-Message-Body: text/plain; charset=UTF-8\n",
      "X-DSPAM-Result: Innocent\n",
      "X-DSPAM-Processed: Sat Jan  5 09:14:16 2008\n",
      "X-DSPAM-Confidence: 0.8475\n",
      "X-DSPAM-Probability: 0.0000\n",
      "X-Sieve: CMU Sieve 2.3\n",
      "X-Authentication-Warning: nakamura.uits.iupui.edu: apache set sender to louis@media.berkeley.edu using -f\n",
      "X-Content-Type-Outer-Envelope: text/plain; charset=UTF-8\n",
      "X-Content-Type-Message-Body: text/plain; charset=UTF-8\n",
      "X-DSPAM-Result: Innocent\n",
      "X-DSPAM-Processed: Fri Jan  4 18:10:48 2008\n",
      "X-DSPAM-Confidence: 0.6178\n",
      "X-DSPAM-Probability: 0.0000\n",
      "X-Sieve: CMU Sieve 2.3\n",
      "X-Authentication-Warning: nakamura.uits.iupui.edu: apache set sender to zqian@umich.edu using -f\n",
      "X-Content-Type-Outer-Envelope: text/plain; charset=UTF-8\n",
      "X-Content-Type-Message-Body: text/plain; charset=UTF-8\n",
      "X-DSPAM-Result: Innocent\n",
      "X-DSPAM-Processed: Fri Jan  4 16:10:39 2008\n",
      "X-DSPAM-Confidence: 0.6961\n",
      "X-DSPAM-Probability: 0.0000\n",
      "X-Sieve: CMU Sieve 2.3\n",
      "X-Authentication-Warning: nakamura.uits.iupui.edu: apache set sender to rjlowe@iupui.edu using -f\n",
      "X-Content-Type-Outer-Envelope: text/plain; charset=UTF-8\n",
      "X-Content-Type-Message-Body: text/plain; charset=UTF-8\n",
      "X-DSPAM-Result: Innocent\n",
      "X-DSPAM-Processed: Fri Jan  4 15:46:24 2008\n",
      "X-DSPAM-Confidence: 0.7565\n",
      "X-DSPAM-Probability: 0.0000\n",
      "X-Sieve: CMU Sieve 2.3\n",
      "X-Authentication-Warning: nakamura.uits.iupui.edu: apache set sender to zqian@umich.edu using -f\n",
      "X-Content-Type-Outer-Envelope: text/plain; charset=UTF-8\n",
      "X-Content-Type-Message-Body: text/plain; charset=UTF-8\n",
      "X-DSPAM-Result: Innocent\n",
      "X-DSPAM-Processed: Fri Jan  4 15:03:18 2008\n",
      "X-DSPAM-Confidence: 0.7626\n",
      "X-DSPAM-Probability: 0.0000\n",
      "X-Sieve: CMU Sieve 2.3\n",
      "X-Authentication-Warning: nakamura.uits.iupui.edu: apache set sender to rjlowe@iupui.edu using -f\n",
      "X-Content-Type-Outer-Envelope: text/plain; charset=UTF-8\n",
      "X-Content-Type-Message-Body: text/plain; charset=UTF-8\n",
      "X-DSPAM-Result: Innocent\n",
      "X-DSPAM-Processed: Fri Jan  4 14:50:18 2008\n",
      "X-DSPAM-Confidence: 0.7556\n",
      "X-DSPAM-Probability: 0.0000\n",
      "X-Sieve: CMU Sieve 2.3\n",
      "X-Authentication-Warning: nakamura.uits.iupui.edu: apache set sender to cwen@iupui.edu using -f\n",
      "X-Content-Type-Outer-Envelope: text/plain; charset=UTF-8\n",
      "X-Content-Type-Message-Body: text/plain; charset=UTF-8\n",
      "X-DSPAM-Result: Innocent\n",
      "X-DSPAM-Processed: Fri Jan  4 11:37:30 2008\n",
      "X-DSPAM-Confidence: 0.7002\n",
      "X-DSPAM-Probability: 0.0000\n",
      "X-Sieve: CMU Sieve 2.3\n",
      "X-Authentication-Warning: nakamura.uits.iupui.edu: apache set sender to cwen@iupui.edu using -f\n",
      "X-Content-Type-Outer-Envelope: text/plain; charset=UTF-8\n",
      "X-Content-Type-Message-Body: text/plain; charset=UTF-8\n",
      "X-DSPAM-Result: Innocent\n",
      "X-DSPAM-Processed: Fri Jan  4 11:35:08 2008\n",
      "X-DSPAM-Confidence: 0.7615\n",
      "X-DSPAM-Probability: 0.0000\n",
      "X-Sieve: CMU Sieve 2.3\n",
      "X-Authentication-Warning: nakamura.uits.iupui.edu: apache set sender to gsilver@umich.edu using -f\n",
      "X-Content-Type-Outer-Envelope: text/plain; charset=UTF-8\n",
      "X-Content-Type-Message-Body: text/plain; charset=UTF-8\n",
      "X-DSPAM-Result: Innocent\n",
      "X-DSPAM-Processed: Fri Jan  4 11:12:37 2008\n",
      "X-DSPAM-Confidence: 0.7601\n",
      "X-DSPAM-Probability: 0.0000\n",
      "X-Sieve: CMU Sieve 2.3\n",
      "X-Authentication-Warning: nakamura.uits.iupui.edu: apache set sender to gsilver@umich.edu using -f\n",
      "X-Content-Type-Outer-Envelope: text/plain; charset=UTF-8\n",
      "X-Content-Type-Message-Body: text/plain; charset=UTF-8\n",
      "X-DSPAM-Result: Innocent\n",
      "X-DSPAM-Processed: Fri Jan  4 11:11:52 2008\n",
      "X-DSPAM-Confidence: 0.7605\n",
      "X-DSPAM-Probability: 0.0000\n",
      "X-Sieve: CMU Sieve 2.3\n",
      "X-Authentication-Warning: nakamura.uits.iupui.edu: apache set sender to zqian@umich.edu using -f\n",
      "X-Content-Type-Outer-Envelope: text/plain; charset=UTF-8\n",
      "X-Content-Type-Message-Body: text/plain; charset=UTF-8\n",
      "X-DSPAM-Result: Innocent\n",
      "X-DSPAM-Processed: Fri Jan  4 11:11:03 2008\n",
      "X-DSPAM-Confidence: 0.6959\n",
      "X-DSPAM-Probability: 0.0000\n",
      "X-Sieve: CMU Sieve 2.3\n",
      "X-Authentication-Warning: nakamura.uits.iupui.edu: apache set sender to gsilver@umich.edu using -f\n",
      "X-Content-Type-Outer-Envelope: text/plain; charset=UTF-8\n",
      "X-Content-Type-Message-Body: text/plain; charset=UTF-8\n",
      "X-DSPAM-Result: Innocent\n",
      "X-DSPAM-Processed: Fri Jan  4 11:10:22 2008\n",
      "X-DSPAM-Confidence: 0.7606\n",
      "X-DSPAM-Probability: 0.0000\n",
      "X-Sieve: CMU Sieve 2.3\n",
      "X-Authentication-Warning: nakamura.uits.iupui.edu: apache set sender to wagnermr@iupui.edu using -f\n",
      "X-Content-Type-Outer-Envelope: text/plain; charset=UTF-8\n",
      "X-Content-Type-Message-Body: text/plain; charset=UTF-8\n",
      "X-DSPAM-Result: Innocent\n",
      "X-DSPAM-Processed: Fri Jan  4 10:38:42 2008\n",
      "X-DSPAM-Confidence: 0.7559\n",
      "X-DSPAM-Probability: 0.0000\n",
      "X-Sieve: CMU Sieve 2.3\n",
      "X-Authentication-Warning: nakamura.uits.iupui.edu: apache set sender to zqian@umich.edu using -f\n",
      "X-Content-Type-Outer-Envelope: text/plain; charset=UTF-8\n",
      "X-Content-Type-Message-Body: text/plain; charset=UTF-8\n",
      "X-DSPAM-Result: Innocent\n",
      "X-DSPAM-Processed: Fri Jan  4 10:17:42 2008\n",
      "X-DSPAM-Confidence: 0.7605\n",
      "X-DSPAM-Probability: 0.0000\n",
      "X-Sieve: CMU Sieve 2.3\n",
      "X-Authentication-Warning: nakamura.uits.iupui.edu: apache set sender to antranig@caret.cam.ac.uk using -f\n",
      "X-Content-Type-Outer-Envelope: text/plain; charset=UTF-8\n",
      "X-Content-Type-Message-Body: text/plain; charset=UTF-8\n",
      "X-DSPAM-Result: Innocent\n",
      "X-DSPAM-Processed: Fri Jan  4 10:04:14 2008\n",
      "X-DSPAM-Confidence: 0.6932\n",
      "X-DSPAM-Probability: 0.0000\n",
      "X-Sieve: CMU Sieve 2.3\n",
      "X-Authentication-Warning: nakamura.uits.iupui.edu: apache set sender to gopal.ramasammycook@gmail.com using -f\n",
      "X-Content-Type-Outer-Envelope: text/plain; charset=UTF-8\n",
      "X-Content-Type-Message-Body: text/plain; charset=UTF-8\n",
      "X-DSPAM-Result: Innocent\n",
      "X-DSPAM-Processed: Fri Jan  4 09:05:31 2008\n",
      "X-DSPAM-Confidence: 0.7558\n",
      "X-DSPAM-Probability: 0.0000\n",
      "X-Sieve: CMU Sieve 2.3\n",
      "X-Authentication-Warning: nakamura.uits.iupui.edu: apache set sender to david.horwitz@uct.ac.za using -f\n",
      "X-Content-Type-Outer-Envelope: text/plain; charset=UTF-8\n",
      "X-Content-Type-Message-Body: text/plain; charset=UTF-8\n",
      "X-DSPAM-Result: Innocent\n",
      "X-DSPAM-Processed: Fri Jan  4 07:02:32 2008\n",
      "X-DSPAM-Confidence: 0.6526\n",
      "X-DSPAM-Probability: 0.0000\n",
      "X-Sieve: CMU Sieve 2.3\n",
      "X-Authentication-Warning: nakamura.uits.iupui.edu: apache set sender to david.horwitz@uct.ac.za using -f\n",
      "X-Content-Type-Outer-Envelope: text/plain; charset=UTF-8\n",
      "X-Content-Type-Message-Body: text/plain; charset=UTF-8\n",
      "X-DSPAM-Result: Innocent\n",
      "X-DSPAM-Processed: Fri Jan  4 06:08:27 2008\n",
      "X-DSPAM-Confidence: 0.6948\n",
      "X-DSPAM-Probability: 0.0000\n",
      "X-Sieve: CMU Sieve 2.3\n",
      "X-Authentication-Warning: nakamura.uits.iupui.edu: apache set sender to david.horwitz@uct.ac.za using -f\n",
      "X-Content-Type-Outer-Envelope: text/plain; charset=UTF-8\n",
      "X-Content-Type-Message-Body: text/plain; charset=UTF-8\n",
      "X-DSPAM-Result: Innocent\n",
      "X-DSPAM-Processed: Fri Jan  4 04:49:08 2008\n",
      "X-DSPAM-Confidence: 0.6528\n",
      "X-DSPAM-Probability: 0.0000\n",
      "X-Sieve: CMU Sieve 2.3\n",
      "X-Authentication-Warning: nakamura.uits.iupui.edu: apache set sender to david.horwitz@uct.ac.za using -f\n",
      "X-Content-Type-Outer-Envelope: text/plain; charset=UTF-8\n",
      "X-Content-Type-Message-Body: text/plain; charset=UTF-8\n",
      "X-DSPAM-Result: Innocent\n",
      "X-DSPAM-Processed: Fri Jan  4 04:33:44 2008\n",
      "X-DSPAM-Confidence: 0.7002\n",
      "X-DSPAM-Probability: 0.0000\n",
      "X-Sieve: CMU Sieve 2.3\n",
      "X-Authentication-Warning: nakamura.uits.iupui.edu: apache set sender to stephen.marquard@uct.ac.za using -f\n",
      "X-Content-Type-Outer-Envelope: text/plain; charset=UTF-8\n",
      "X-Content-Type-Message-Body: text/plain; charset=UTF-8\n",
      "X-DSPAM-Result: Innocent\n",
      "X-DSPAM-Processed: Fri Jan  4 04:07:34 2008\n",
      "X-DSPAM-Confidence: 0.7554\n",
      "X-DSPAM-Probability: 0.0000\n",
      "X-Sieve: CMU Sieve 2.3\n",
      "X-Authentication-Warning: nakamura.uits.iupui.edu: apache set sender to louis@media.berkeley.edu using -f\n",
      "X-Content-Type-Outer-Envelope: text/plain; charset=UTF-8\n",
      "X-Content-Type-Message-Body: text/plain; charset=UTF-8\n",
      "X-DSPAM-Result: Innocent\n",
      "X-DSPAM-Processed: Thu Jan  3 19:51:20 2008\n",
      "X-DSPAM-Confidence: 0.6956\n",
      "X-DSPAM-Probability: 0.0000\n",
      "X-Sieve: CMU Sieve 2.3\n",
      "X-Authentication-Warning: nakamura.uits.iupui.edu: apache set sender to louis@media.berkeley.edu using -f\n",
      "X-Content-Type-Outer-Envelope: text/plain; charset=UTF-8\n",
      "X-Content-Type-Message-Body: text/plain; charset=UTF-8\n",
      "X-DSPAM-Result: Innocent\n",
      "X-DSPAM-Processed: Thu Jan  3 17:18:23 2008\n",
      "X-DSPAM-Confidence: 0.6959\n",
      "X-DSPAM-Probability: 0.0000\n",
      "X-Sieve: CMU Sieve 2.3\n",
      "X-Authentication-Warning: nakamura.uits.iupui.edu: apache set sender to ray@media.berkeley.edu using -f\n",
      "X-Content-Type-Outer-Envelope: text/plain; charset=UTF-8\n",
      "X-Content-Type-Message-Body: text/plain; charset=UTF-8\n",
      "X-DSPAM-Result: Innocent\n",
      "X-DSPAM-Processed: Thu Jan  3 17:07:00 2008\n",
      "X-DSPAM-Confidence: 0.7556\n",
      "X-DSPAM-Probability: 0.0000\n",
      "X-Sieve: CMU Sieve 2.3\n",
      "X-Authentication-Warning: nakamura.uits.iupui.edu: apache set sender to cwen@iupui.edu using -f\n",
      "X-Content-Type-Outer-Envelope: text/plain; charset=UTF-8\n",
      "X-Content-Type-Message-Body: text/plain; charset=UTF-8\n",
      "X-DSPAM-Result: Innocent\n",
      "X-DSPAM-Processed: Thu Jan  3 16:34:40 2008\n",
      "X-DSPAM-Confidence: 0.9846\n",
      "X-DSPAM-Probability: 0.0000\n",
      "X-Sieve: CMU Sieve 2.3\n",
      "X-Authentication-Warning: nakamura.uits.iupui.edu: apache set sender to cwen@iupui.edu using -f\n",
      "X-Content-Type-Outer-Envelope: text/plain; charset=UTF-8\n",
      "X-Content-Type-Message-Body: text/plain; charset=UTF-8\n",
      "X-DSPAM-Result: Innocent\n",
      "X-DSPAM-Processed: Thu Jan  3 16:29:07 2008\n",
      "X-DSPAM-Confidence: 0.8509\n",
      "X-DSPAM-Probability: 0.0000\n",
      "X-Sieve: CMU Sieve 2.3\n",
      "X-Authentication-Warning: nakamura.uits.iupui.edu: apache set sender to cwen@iupui.edu using -f\n",
      "X-Content-Type-Outer-Envelope: text/plain; charset=UTF-8\n",
      "X-Content-Type-Message-Body: text/plain; charset=UTF-8\n",
      "X-DSPAM-Result: Innocent\n",
      "X-DSPAM-Processed: Thu Jan  3 16:23:48 2008\n",
      "X-DSPAM-Confidence: 0.9907\n",
      "X-DSPAM-Probability: 0.0000\n"
     ]
    }
   ],
   "source": [
    "# if want to extract data staring with \" X \" followed by any charaters with no constrain to limit of characters could 0 or more\n",
    "# and ending with \" : \" \n",
    "import re\n",
    "with open(\"mbox-short.txt\",\"r\") as hand:\n",
    "    for line in hand:\n",
    "        line = line.rstrip()\n",
    "        if re.search(\"^X.*:\",line): # \" . \" match any character, \" * \" any number of times could be 0 or more\n",
    "            print(line)"
   ]
  },
  {
   "cell_type": "code",
   "execution_count": 23,
   "metadata": {
    "collapsed": true
   },
   "outputs": [
    {
     "name": "stdout",
     "output_type": "stream",
     "text": [
      "X-Sieve: CMU Sieve 2.3\n",
      "X-Authentication-Warning: nakamura.uits.iupui.edu: apache set sender to stephen.marquard@uct.ac.za using -f\n",
      "X-Content-Type-Outer-Envelope: text/plain; charset=UTF-8\n",
      "X-Content-Type-Message-Body: text/plain; charset=UTF-8\n",
      "X-DSPAM-Result: Innocent\n",
      "X-DSPAM-Processed: Sat Jan  5 09:14:16 2008\n",
      "X-DSPAM-Confidence: 0.8475\n",
      "X-DSPAM-Probability: 0.0000\n",
      "X-Sieve: CMU Sieve 2.3\n",
      "X-Authentication-Warning: nakamura.uits.iupui.edu: apache set sender to louis@media.berkeley.edu using -f\n",
      "X-Content-Type-Outer-Envelope: text/plain; charset=UTF-8\n",
      "X-Content-Type-Message-Body: text/plain; charset=UTF-8\n",
      "X-DSPAM-Result: Innocent\n",
      "X-DSPAM-Processed: Fri Jan  4 18:10:48 2008\n",
      "X-DSPAM-Confidence: 0.6178\n",
      "X-DSPAM-Probability: 0.0000\n",
      "X-Sieve: CMU Sieve 2.3\n",
      "X-Authentication-Warning: nakamura.uits.iupui.edu: apache set sender to zqian@umich.edu using -f\n",
      "X-Content-Type-Outer-Envelope: text/plain; charset=UTF-8\n",
      "X-Content-Type-Message-Body: text/plain; charset=UTF-8\n",
      "X-DSPAM-Result: Innocent\n",
      "X-DSPAM-Processed: Fri Jan  4 16:10:39 2008\n",
      "X-DSPAM-Confidence: 0.6961\n",
      "X-DSPAM-Probability: 0.0000\n",
      "X-Sieve: CMU Sieve 2.3\n",
      "X-Authentication-Warning: nakamura.uits.iupui.edu: apache set sender to rjlowe@iupui.edu using -f\n",
      "X-Content-Type-Outer-Envelope: text/plain; charset=UTF-8\n",
      "X-Content-Type-Message-Body: text/plain; charset=UTF-8\n",
      "X-DSPAM-Result: Innocent\n",
      "X-DSPAM-Processed: Fri Jan  4 15:46:24 2008\n",
      "X-DSPAM-Confidence: 0.7565\n",
      "X-DSPAM-Probability: 0.0000\n",
      "X-Sieve: CMU Sieve 2.3\n",
      "X-Authentication-Warning: nakamura.uits.iupui.edu: apache set sender to zqian@umich.edu using -f\n",
      "X-Content-Type-Outer-Envelope: text/plain; charset=UTF-8\n",
      "X-Content-Type-Message-Body: text/plain; charset=UTF-8\n",
      "X-DSPAM-Result: Innocent\n",
      "X-DSPAM-Processed: Fri Jan  4 15:03:18 2008\n",
      "X-DSPAM-Confidence: 0.7626\n",
      "X-DSPAM-Probability: 0.0000\n",
      "X-Sieve: CMU Sieve 2.3\n",
      "X-Authentication-Warning: nakamura.uits.iupui.edu: apache set sender to rjlowe@iupui.edu using -f\n",
      "X-Content-Type-Outer-Envelope: text/plain; charset=UTF-8\n",
      "X-Content-Type-Message-Body: text/plain; charset=UTF-8\n",
      "X-DSPAM-Result: Innocent\n",
      "X-DSPAM-Processed: Fri Jan  4 14:50:18 2008\n",
      "X-DSPAM-Confidence: 0.7556\n",
      "X-DSPAM-Probability: 0.0000\n",
      "X-Sieve: CMU Sieve 2.3\n",
      "X-Authentication-Warning: nakamura.uits.iupui.edu: apache set sender to cwen@iupui.edu using -f\n",
      "X-Content-Type-Outer-Envelope: text/plain; charset=UTF-8\n",
      "X-Content-Type-Message-Body: text/plain; charset=UTF-8\n",
      "X-DSPAM-Result: Innocent\n",
      "X-DSPAM-Processed: Fri Jan  4 11:37:30 2008\n",
      "X-DSPAM-Confidence: 0.7002\n",
      "X-DSPAM-Probability: 0.0000\n",
      "X-Sieve: CMU Sieve 2.3\n",
      "X-Authentication-Warning: nakamura.uits.iupui.edu: apache set sender to cwen@iupui.edu using -f\n",
      "X-Content-Type-Outer-Envelope: text/plain; charset=UTF-8\n",
      "X-Content-Type-Message-Body: text/plain; charset=UTF-8\n",
      "X-DSPAM-Result: Innocent\n",
      "X-DSPAM-Processed: Fri Jan  4 11:35:08 2008\n",
      "X-DSPAM-Confidence: 0.7615\n",
      "X-DSPAM-Probability: 0.0000\n",
      "X-Sieve: CMU Sieve 2.3\n",
      "X-Authentication-Warning: nakamura.uits.iupui.edu: apache set sender to gsilver@umich.edu using -f\n",
      "X-Content-Type-Outer-Envelope: text/plain; charset=UTF-8\n",
      "X-Content-Type-Message-Body: text/plain; charset=UTF-8\n",
      "X-DSPAM-Result: Innocent\n",
      "X-DSPAM-Processed: Fri Jan  4 11:12:37 2008\n",
      "X-DSPAM-Confidence: 0.7601\n",
      "X-DSPAM-Probability: 0.0000\n",
      "X-Sieve: CMU Sieve 2.3\n",
      "X-Authentication-Warning: nakamura.uits.iupui.edu: apache set sender to gsilver@umich.edu using -f\n",
      "X-Content-Type-Outer-Envelope: text/plain; charset=UTF-8\n",
      "X-Content-Type-Message-Body: text/plain; charset=UTF-8\n",
      "X-DSPAM-Result: Innocent\n",
      "X-DSPAM-Processed: Fri Jan  4 11:11:52 2008\n",
      "X-DSPAM-Confidence: 0.7605\n",
      "X-DSPAM-Probability: 0.0000\n",
      "X-Sieve: CMU Sieve 2.3\n",
      "X-Authentication-Warning: nakamura.uits.iupui.edu: apache set sender to zqian@umich.edu using -f\n",
      "X-Content-Type-Outer-Envelope: text/plain; charset=UTF-8\n",
      "X-Content-Type-Message-Body: text/plain; charset=UTF-8\n",
      "X-DSPAM-Result: Innocent\n",
      "X-DSPAM-Processed: Fri Jan  4 11:11:03 2008\n",
      "X-DSPAM-Confidence: 0.6959\n",
      "X-DSPAM-Probability: 0.0000\n",
      "X-Sieve: CMU Sieve 2.3\n",
      "X-Authentication-Warning: nakamura.uits.iupui.edu: apache set sender to gsilver@umich.edu using -f\n",
      "X-Content-Type-Outer-Envelope: text/plain; charset=UTF-8\n",
      "X-Content-Type-Message-Body: text/plain; charset=UTF-8\n",
      "X-DSPAM-Result: Innocent\n",
      "X-DSPAM-Processed: Fri Jan  4 11:10:22 2008\n",
      "X-DSPAM-Confidence: 0.7606\n",
      "X-DSPAM-Probability: 0.0000\n",
      "X-Sieve: CMU Sieve 2.3\n",
      "X-Authentication-Warning: nakamura.uits.iupui.edu: apache set sender to wagnermr@iupui.edu using -f\n",
      "X-Content-Type-Outer-Envelope: text/plain; charset=UTF-8\n",
      "X-Content-Type-Message-Body: text/plain; charset=UTF-8\n",
      "X-DSPAM-Result: Innocent\n",
      "X-DSPAM-Processed: Fri Jan  4 10:38:42 2008\n",
      "X-DSPAM-Confidence: 0.7559\n",
      "X-DSPAM-Probability: 0.0000\n",
      "X-Sieve: CMU Sieve 2.3\n",
      "X-Authentication-Warning: nakamura.uits.iupui.edu: apache set sender to zqian@umich.edu using -f\n",
      "X-Content-Type-Outer-Envelope: text/plain; charset=UTF-8\n",
      "X-Content-Type-Message-Body: text/plain; charset=UTF-8\n",
      "X-DSPAM-Result: Innocent\n",
      "X-DSPAM-Processed: Fri Jan  4 10:17:42 2008\n",
      "X-DSPAM-Confidence: 0.7605\n",
      "X-DSPAM-Probability: 0.0000\n",
      "X-Sieve: CMU Sieve 2.3\n",
      "X-Authentication-Warning: nakamura.uits.iupui.edu: apache set sender to antranig@caret.cam.ac.uk using -f\n",
      "X-Content-Type-Outer-Envelope: text/plain; charset=UTF-8\n",
      "X-Content-Type-Message-Body: text/plain; charset=UTF-8\n",
      "X-DSPAM-Result: Innocent\n",
      "X-DSPAM-Processed: Fri Jan  4 10:04:14 2008\n",
      "X-DSPAM-Confidence: 0.6932\n",
      "X-DSPAM-Probability: 0.0000\n",
      "X-Sieve: CMU Sieve 2.3\n",
      "X-Authentication-Warning: nakamura.uits.iupui.edu: apache set sender to gopal.ramasammycook@gmail.com using -f\n",
      "X-Content-Type-Outer-Envelope: text/plain; charset=UTF-8\n",
      "X-Content-Type-Message-Body: text/plain; charset=UTF-8\n",
      "X-DSPAM-Result: Innocent\n",
      "X-DSPAM-Processed: Fri Jan  4 09:05:31 2008\n",
      "X-DSPAM-Confidence: 0.7558\n",
      "X-DSPAM-Probability: 0.0000\n",
      "X-Sieve: CMU Sieve 2.3\n",
      "X-Authentication-Warning: nakamura.uits.iupui.edu: apache set sender to david.horwitz@uct.ac.za using -f\n",
      "X-Content-Type-Outer-Envelope: text/plain; charset=UTF-8\n",
      "X-Content-Type-Message-Body: text/plain; charset=UTF-8\n",
      "X-DSPAM-Result: Innocent\n",
      "X-DSPAM-Processed: Fri Jan  4 07:02:32 2008\n",
      "X-DSPAM-Confidence: 0.6526\n",
      "X-DSPAM-Probability: 0.0000\n",
      "X-Sieve: CMU Sieve 2.3\n",
      "X-Authentication-Warning: nakamura.uits.iupui.edu: apache set sender to david.horwitz@uct.ac.za using -f\n",
      "X-Content-Type-Outer-Envelope: text/plain; charset=UTF-8\n",
      "X-Content-Type-Message-Body: text/plain; charset=UTF-8\n",
      "X-DSPAM-Result: Innocent\n",
      "X-DSPAM-Processed: Fri Jan  4 06:08:27 2008\n",
      "X-DSPAM-Confidence: 0.6948\n",
      "X-DSPAM-Probability: 0.0000\n",
      "X-Sieve: CMU Sieve 2.3\n",
      "X-Authentication-Warning: nakamura.uits.iupui.edu: apache set sender to david.horwitz@uct.ac.za using -f\n",
      "X-Content-Type-Outer-Envelope: text/plain; charset=UTF-8\n",
      "X-Content-Type-Message-Body: text/plain; charset=UTF-8\n",
      "X-DSPAM-Result: Innocent\n",
      "X-DSPAM-Processed: Fri Jan  4 04:49:08 2008\n",
      "X-DSPAM-Confidence: 0.6528\n",
      "X-DSPAM-Probability: 0.0000\n",
      "X-Sieve: CMU Sieve 2.3\n",
      "X-Authentication-Warning: nakamura.uits.iupui.edu: apache set sender to david.horwitz@uct.ac.za using -f\n",
      "X-Content-Type-Outer-Envelope: text/plain; charset=UTF-8\n",
      "X-Content-Type-Message-Body: text/plain; charset=UTF-8\n",
      "X-DSPAM-Result: Innocent\n",
      "X-DSPAM-Processed: Fri Jan  4 04:33:44 2008\n",
      "X-DSPAM-Confidence: 0.7002\n",
      "X-DSPAM-Probability: 0.0000\n",
      "X-Sieve: CMU Sieve 2.3\n",
      "X-Authentication-Warning: nakamura.uits.iupui.edu: apache set sender to stephen.marquard@uct.ac.za using -f\n",
      "X-Content-Type-Outer-Envelope: text/plain; charset=UTF-8\n",
      "X-Content-Type-Message-Body: text/plain; charset=UTF-8\n",
      "X-DSPAM-Result: Innocent\n",
      "X-DSPAM-Processed: Fri Jan  4 04:07:34 2008\n",
      "X-DSPAM-Confidence: 0.7554\n",
      "X-DSPAM-Probability: 0.0000\n",
      "X-Sieve: CMU Sieve 2.3\n",
      "X-Authentication-Warning: nakamura.uits.iupui.edu: apache set sender to louis@media.berkeley.edu using -f\n",
      "X-Content-Type-Outer-Envelope: text/plain; charset=UTF-8\n",
      "X-Content-Type-Message-Body: text/plain; charset=UTF-8\n",
      "X-DSPAM-Result: Innocent\n",
      "X-DSPAM-Processed: Thu Jan  3 19:51:20 2008\n",
      "X-DSPAM-Confidence: 0.6956\n",
      "X-DSPAM-Probability: 0.0000\n",
      "X-Sieve: CMU Sieve 2.3\n",
      "X-Authentication-Warning: nakamura.uits.iupui.edu: apache set sender to louis@media.berkeley.edu using -f\n",
      "X-Content-Type-Outer-Envelope: text/plain; charset=UTF-8\n",
      "X-Content-Type-Message-Body: text/plain; charset=UTF-8\n",
      "X-DSPAM-Result: Innocent\n",
      "X-DSPAM-Processed: Thu Jan  3 17:18:23 2008\n",
      "X-DSPAM-Confidence: 0.6959\n",
      "X-DSPAM-Probability: 0.0000\n",
      "X-Sieve: CMU Sieve 2.3\n",
      "X-Authentication-Warning: nakamura.uits.iupui.edu: apache set sender to ray@media.berkeley.edu using -f\n",
      "X-Content-Type-Outer-Envelope: text/plain; charset=UTF-8\n",
      "X-Content-Type-Message-Body: text/plain; charset=UTF-8\n",
      "X-DSPAM-Result: Innocent\n",
      "X-DSPAM-Processed: Thu Jan  3 17:07:00 2008\n",
      "X-DSPAM-Confidence: 0.7556\n",
      "X-DSPAM-Probability: 0.0000\n",
      "X-Sieve: CMU Sieve 2.3\n",
      "X-Authentication-Warning: nakamura.uits.iupui.edu: apache set sender to cwen@iupui.edu using -f\n",
      "X-Content-Type-Outer-Envelope: text/plain; charset=UTF-8\n",
      "X-Content-Type-Message-Body: text/plain; charset=UTF-8\n",
      "X-DSPAM-Result: Innocent\n",
      "X-DSPAM-Processed: Thu Jan  3 16:34:40 2008\n",
      "X-DSPAM-Confidence: 0.9846\n",
      "X-DSPAM-Probability: 0.0000\n",
      "X-Sieve: CMU Sieve 2.3\n",
      "X-Authentication-Warning: nakamura.uits.iupui.edu: apache set sender to cwen@iupui.edu using -f\n",
      "X-Content-Type-Outer-Envelope: text/plain; charset=UTF-8\n",
      "X-Content-Type-Message-Body: text/plain; charset=UTF-8\n",
      "X-DSPAM-Result: Innocent\n",
      "X-DSPAM-Processed: Thu Jan  3 16:29:07 2008\n",
      "X-DSPAM-Confidence: 0.8509\n",
      "X-DSPAM-Probability: 0.0000\n",
      "X-Sieve: CMU Sieve 2.3\n",
      "X-Authentication-Warning: nakamura.uits.iupui.edu: apache set sender to cwen@iupui.edu using -f\n",
      "X-Content-Type-Outer-Envelope: text/plain; charset=UTF-8\n",
      "X-Content-Type-Message-Body: text/plain; charset=UTF-8\n",
      "X-DSPAM-Result: Innocent\n",
      "X-DSPAM-Processed: Thu Jan  3 16:23:48 2008\n",
      "X-DSPAM-Confidence: 0.9907\n",
      "X-DSPAM-Probability: 0.0000\n"
     ]
    }
   ],
   "source": [
    "# find lines starting with \" X- \" and shouldn't have whiteapces in between \" X- \" and \" : \" number of characters between them\n",
    "# can be one or more than one can't have zero characters between \" X- \" and \" : \"\n",
    "import re\n",
    "with open(\"mbox-short.txt\",\"r\") as hand:\n",
    "    for line in hand:\n",
    "        line = line.rstrip()\n",
    "        if re.search(\"^X-\\S+:\",line): # \n",
    "            print(line)"
   ]
  },
  {
   "cell_type": "markdown",
   "metadata": {},
   "source": [
    "###### using re.findall() "
   ]
  },
  {
   "cell_type": "code",
   "execution_count": 2,
   "metadata": {},
   "outputs": [
    {
     "data": {
      "text/plain": [
       "['3', '1999', '10', '2015']"
      ]
     },
     "execution_count": 2,
     "metadata": {},
     "output_type": "execute_result"
    }
   ],
   "source": [
    "# finds all the numbers in the string and returns it in a list\n",
    "import re\n",
    "txt = \"hi name is monik DOB 3 dec 1999, i did my 10 from MSBSS in 2015\"\n",
    "re.findall(\"[0-9]+\",txt)"
   ]
  },
  {
   "cell_type": "code",
   "execution_count": 29,
   "metadata": {},
   "outputs": [
    {
     "data": {
      "text/plain": [
       "['3', '1999', '1', '2', '15']"
      ]
     },
     "execution_count": 29,
     "metadata": {},
     "output_type": "execute_result"
    }
   ],
   "source": [
    "# as 0 was not included in the range of numbers so omiting 0 rest numbers where retuned in a list\n",
    "re.findall(\"[1-9]+\",txt)"
   ]
  },
  {
   "cell_type": "code",
   "execution_count": 30,
   "metadata": {},
   "outputs": [
    {
     "data": {
      "text/plain": [
       "[]"
      ]
     },
     "execution_count": 30,
     "metadata": {},
     "output_type": "execute_result"
    }
   ],
   "source": [
    "# as no numbers represent it returns empty list\n",
    "txt1 = \"hi monik here\"\n",
    "re.findall(\"[0-9]+\",txt1)"
   ]
  },
  {
   "cell_type": "code",
   "execution_count": 33,
   "metadata": {},
   "outputs": [
    {
     "data": {
      "text/plain": [
       "['From: using the:']"
      ]
     },
     "execution_count": 33,
     "metadata": {},
     "output_type": "execute_result"
    }
   ],
   "source": [
    "# it is greedy matching will return the largest possible substring\n",
    "# the \" * \" and \" + \" pushout as much as they can to find the biggest substring according to the parameters given\n",
    "\n",
    "x = \"From: using the: character\"\n",
    "re.findall(\"^F.+:\",x) \n",
    "\n",
    "# didn't return \" From: \", but continue the search the found a larger string so returned the as any character\n",
    "# where allowed so went ahead we after \" : \" encountering first colon"
   ]
  },
  {
   "cell_type": "code",
   "execution_count": 34,
   "metadata": {},
   "outputs": [
    {
     "data": {
      "text/plain": [
       "['From:']"
      ]
     },
     "execution_count": 34,
     "metadata": {},
     "output_type": "execute_result"
    }
   ],
   "source": [
    "# to make is not greedy use \" ? \" in it\n",
    "\n",
    "re.findall(\"^F.+?:\",x)"
   ]
  },
  {
   "cell_type": "code",
   "execution_count": 33,
   "metadata": {
    "collapsed": true
   },
   "outputs": [
    {
     "name": "stdout",
     "output_type": "stream",
     "text": [
      "['gopal.ramasammycook@gmail.com']\n",
      "['gopal.ramasammycook@gmail.com']\n",
      "['gopal.ramasammycook@gmail.com']\n",
      "['gopal.ramasammycook@gmail.com']\n"
     ]
    }
   ],
   "source": [
    "# to extract email ending with only \" .com \" \n",
    "\n",
    "import re\n",
    "with open(\"mbox-short.txt\",\"r\") as hand:\n",
    "    for line in hand:\n",
    "        line = line.rstrip()\n",
    "        if re.findall(\"\\S+@\\S+com\",line): \n",
    "            print(re.findall(\"\\S+@\\S+com\",line))"
   ]
  },
  {
   "cell_type": "code",
   "execution_count": 42,
   "metadata": {
    "collapsed": true
   },
   "outputs": [
    {
     "name": "stdout",
     "output_type": "stream",
     "text": [
      "['stephen.marquard@uct.ac.za']\n",
      "['<postmaster@collab.sakaiproject.org>']\n",
      "['<200801051412.m05ECIaH010327@nakamura.uits.iupui.edu>']\n",
      "['<source@collab.sakaiproject.org>;']\n",
      "['<source@collab.sakaiproject.org>;']\n",
      "['<source@collab.sakaiproject.org>;']\n",
      "['apache@localhost)']\n",
      "['source@collab.sakaiproject.org;']\n",
      "['stephen.marquard@uct.ac.za']\n",
      "['source@collab.sakaiproject.org']\n",
      "['stephen.marquard@uct.ac.za']\n",
      "['stephen.marquard@uct.ac.za']\n",
      "['louis@media.berkeley.edu']\n",
      "['<postmaster@collab.sakaiproject.org>']\n",
      "['<200801042308.m04N8v6O008125@nakamura.uits.iupui.edu>']\n",
      "['<source@collab.sakaiproject.org>;']\n",
      "['<source@collab.sakaiproject.org>;']\n",
      "['<source@collab.sakaiproject.org>;']\n",
      "['apache@localhost)']\n",
      "['source@collab.sakaiproject.org;']\n",
      "['louis@media.berkeley.edu']\n",
      "['source@collab.sakaiproject.org']\n",
      "['louis@media.berkeley.edu']\n",
      "['louis@media.berkeley.edu']\n",
      "['zqian@umich.edu']\n",
      "['<postmaster@collab.sakaiproject.org>']\n",
      "['<200801042109.m04L92hb007923@nakamura.uits.iupui.edu>']\n",
      "['<source@collab.sakaiproject.org>;']\n",
      "['<source@collab.sakaiproject.org>;']\n",
      "['<source@collab.sakaiproject.org>;']\n",
      "['apache@localhost)']\n",
      "['source@collab.sakaiproject.org;']\n",
      "['zqian@umich.edu']\n",
      "['source@collab.sakaiproject.org']\n",
      "['zqian@umich.edu']\n",
      "['zqian@umich.edu']\n",
      "['rjlowe@iupui.edu']\n",
      "['<postmaster@collab.sakaiproject.org>']\n",
      "['<200801042044.m04Kiem3007881@nakamura.uits.iupui.edu>']\n",
      "['<source@collab.sakaiproject.org>;']\n",
      "['<source@collab.sakaiproject.org>;']\n",
      "['<source@collab.sakaiproject.org>;']\n",
      "['apache@localhost)']\n",
      "['source@collab.sakaiproject.org;']\n",
      "['rjlowe@iupui.edu']\n",
      "['source@collab.sakaiproject.org']\n",
      "['rjlowe@iupui.edu']\n",
      "['rjlowe@iupui.edu']\n",
      "['zqian@umich.edu']\n",
      "['<postmaster@collab.sakaiproject.org>']\n",
      "['<200801042001.m04K1cO0007738@nakamura.uits.iupui.edu>']\n",
      "['<source@collab.sakaiproject.org>;']\n",
      "['<source@collab.sakaiproject.org>;']\n",
      "['<source@collab.sakaiproject.org>;']\n",
      "['apache@localhost)']\n",
      "['source@collab.sakaiproject.org;']\n",
      "['zqian@umich.edu']\n",
      "['source@collab.sakaiproject.org']\n",
      "['zqian@umich.edu']\n",
      "['zqian@umich.edu']\n",
      "['zqian@umich.edu']\n",
      "['rjlowe@iupui.edu']\n",
      "['<postmaster@collab.sakaiproject.org>']\n",
      "['<200801041948.m04JmdwO007705@nakamura.uits.iupui.edu>']\n",
      "['<source@collab.sakaiproject.org>;']\n",
      "['<source@collab.sakaiproject.org>;']\n",
      "['<source@collab.sakaiproject.org>;']\n",
      "['apache@localhost)']\n",
      "['source@collab.sakaiproject.org;']\n",
      "['rjlowe@iupui.edu']\n",
      "['source@collab.sakaiproject.org']\n",
      "['rjlowe@iupui.edu']\n",
      "['rjlowe@iupui.edu']\n",
      "['cwen@iupui.edu']\n",
      "['<postmaster@collab.sakaiproject.org>']\n",
      "['<200801041635.m04GZQGZ007313@nakamura.uits.iupui.edu>']\n",
      "['<source@collab.sakaiproject.org>;']\n",
      "['<source@collab.sakaiproject.org>;']\n",
      "['<source@collab.sakaiproject.org>;']\n",
      "['apache@localhost)']\n",
      "['source@collab.sakaiproject.org;']\n",
      "['cwen@iupui.edu']\n",
      "['source@collab.sakaiproject.org']\n",
      "['cwen@iupui.edu']\n",
      "['cwen@iupui.edu']\n",
      "['hu2@iupui.edu']\n",
      "['cwen@iupui.edu']\n",
      "['<postmaster@collab.sakaiproject.org>']\n",
      "['<200801041633.m04GX6eG007292@nakamura.uits.iupui.edu>']\n",
      "['<source@collab.sakaiproject.org>;']\n",
      "['<source@collab.sakaiproject.org>;']\n",
      "['<source@collab.sakaiproject.org>;']\n",
      "['apache@localhost)']\n",
      "['source@collab.sakaiproject.org;']\n",
      "['cwen@iupui.edu']\n",
      "['source@collab.sakaiproject.org']\n",
      "['cwen@iupui.edu']\n",
      "['cwen@iupui.edu']\n",
      "['hu2@iupui.edu']\n",
      "['gsilver@umich.edu']\n",
      "['<postmaster@collab.sakaiproject.org>']\n",
      "['<200801041611.m04GB1Lb007221@nakamura.uits.iupui.edu>']\n",
      "['<source@collab.sakaiproject.org>;']\n",
      "['<source@collab.sakaiproject.org>;']\n",
      "['<source@collab.sakaiproject.org>;']\n",
      "['apache@localhost)']\n",
      "['source@collab.sakaiproject.org;']\n",
      "['gsilver@umich.edu']\n",
      "['source@collab.sakaiproject.org']\n",
      "['gsilver@umich.edu']\n",
      "['gsilver@umich.edu']\n",
      "['gsilver@umich.edu']\n",
      "['<postmaster@collab.sakaiproject.org>']\n",
      "['<200801041610.m04GA5KP007209@nakamura.uits.iupui.edu>']\n",
      "['<source@collab.sakaiproject.org>;']\n",
      "['<source@collab.sakaiproject.org>;']\n",
      "['<source@collab.sakaiproject.org>;']\n",
      "['apache@localhost)']\n",
      "['source@collab.sakaiproject.org;']\n",
      "['gsilver@umich.edu']\n",
      "['source@collab.sakaiproject.org']\n",
      "['gsilver@umich.edu']\n",
      "['gsilver@umich.edu']\n",
      "['zqian@umich.edu']\n",
      "['<postmaster@collab.sakaiproject.org>']\n",
      "['<200801041609.m04G9EuX007197@nakamura.uits.iupui.edu>']\n",
      "['<source@collab.sakaiproject.org>;']\n",
      "['<source@collab.sakaiproject.org>;']\n",
      "['<source@collab.sakaiproject.org>;']\n",
      "['apache@localhost)']\n",
      "['source@collab.sakaiproject.org;']\n",
      "['zqian@umich.edu']\n",
      "['source@collab.sakaiproject.org']\n",
      "['zqian@umich.edu']\n",
      "['zqian@umich.edu']\n",
      "['gsilver@umich.edu']\n",
      "['<postmaster@collab.sakaiproject.org>']\n",
      "['<200801041608.m04G8d7w007184@nakamura.uits.iupui.edu>']\n",
      "['<source@collab.sakaiproject.org>;']\n",
      "['<source@collab.sakaiproject.org>;']\n",
      "['<source@collab.sakaiproject.org>;']\n",
      "['apache@localhost)']\n",
      "['source@collab.sakaiproject.org;']\n",
      "['gsilver@umich.edu']\n",
      "['source@collab.sakaiproject.org']\n",
      "['gsilver@umich.edu']\n",
      "['gsilver@umich.edu']\n",
      "['wagnermr@iupui.edu']\n",
      "['<postmaster@collab.sakaiproject.org>']\n",
      "['<200801041537.m04Fb6Ci007092@nakamura.uits.iupui.edu>']\n",
      "['<source@collab.sakaiproject.org>;']\n",
      "['<source@collab.sakaiproject.org>;']\n",
      "['<source@collab.sakaiproject.org>;']\n",
      "['apache@localhost)']\n",
      "['source@collab.sakaiproject.org;']\n",
      "['wagnermr@iupui.edu']\n",
      "['source@collab.sakaiproject.org']\n",
      "['wagnermr@iupui.edu']\n",
      "['wagnermr@iupui.edu']\n",
      "['zqian@umich.edu']\n",
      "['<postmaster@collab.sakaiproject.org>']\n",
      "['<200801041515.m04FFv42007050@nakamura.uits.iupui.edu>']\n",
      "['<source@collab.sakaiproject.org>;']\n",
      "['<source@collab.sakaiproject.org>;']\n",
      "['<source@collab.sakaiproject.org>;']\n",
      "['apache@localhost)']\n",
      "['source@collab.sakaiproject.org;']\n",
      "['zqian@umich.edu']\n",
      "['source@collab.sakaiproject.org']\n",
      "['zqian@umich.edu']\n",
      "['zqian@umich.edu']\n",
      "['antranig@caret.cam.ac.uk']\n",
      "['<postmaster@collab.sakaiproject.org>']\n",
      "['<200801041502.m04F21Jo007031@nakamura.uits.iupui.edu>']\n",
      "['<source@collab.sakaiproject.org>;']\n",
      "['<source@collab.sakaiproject.org>;']\n",
      "['<source@collab.sakaiproject.org>;']\n",
      "['apache@localhost)']\n",
      "['source@collab.sakaiproject.org;']\n",
      "['antranig@caret.cam.ac.uk']\n",
      "['source@collab.sakaiproject.org']\n",
      "['antranig@caret.cam.ac.uk']\n",
      "['antranig@caret.cam.ac.uk']\n",
      "['gopal.ramasammycook@gmail.com']\n",
      "['<postmaster@collab.sakaiproject.org>']\n",
      "['<200801041403.m04E3psW006926@nakamura.uits.iupui.edu>']\n",
      "['<source@collab.sakaiproject.org>;']\n",
      "['<source@collab.sakaiproject.org>;']\n",
      "['<source@collab.sakaiproject.org>;']\n",
      "['apache@localhost)']\n",
      "['source@collab.sakaiproject.org;']\n",
      "['gopal.ramasammycook@gmail.com']\n",
      "['source@collab.sakaiproject.org']\n",
      "['gopal.ramasammycook@gmail.com']\n",
      "['gopal.ramasammycook@gmail.com']\n",
      "['david.horwitz@uct.ac.za']\n",
      "['<postmaster@collab.sakaiproject.org>']\n",
      "['<200801041200.m04C0gfK006793@nakamura.uits.iupui.edu>']\n",
      "['<source@collab.sakaiproject.org>;']\n",
      "['<source@collab.sakaiproject.org>;']\n",
      "['<source@collab.sakaiproject.org>;']\n",
      "['apache@localhost)']\n",
      "['source@collab.sakaiproject.org;']\n",
      "['david.horwitz@uct.ac.za']\n",
      "['source@collab.sakaiproject.org']\n",
      "['david.horwitz@uct.ac.za']\n",
      "['david.horwitz@uct.ac.za']\n",
      "['david.horwitz@uct.ac.za']\n",
      "['dhorwitz@david-horwitz-6:~/branchManagemnt/sakai_2-5-x>']\n",
      "['dhorwitz@david-horwitz-6:~/branchManagemnt/sakai_2-5-x>']\n",
      "['david.horwitz@uct.ac.za']\n",
      "['<postmaster@collab.sakaiproject.org>']\n",
      "['<200801041106.m04B6lK3006677@nakamura.uits.iupui.edu>']\n",
      "['<source@collab.sakaiproject.org>;']\n",
      "['<source@collab.sakaiproject.org>;']\n",
      "['<source@collab.sakaiproject.org>;']\n",
      "['apache@localhost)']\n",
      "['source@collab.sakaiproject.org;']\n",
      "['david.horwitz@uct.ac.za']\n",
      "['source@collab.sakaiproject.org']\n",
      "['david.horwitz@uct.ac.za']\n",
      "['david.horwitz@uct.ac.za']\n",
      "['david.horwitz@uct.ac.za']\n",
      "['<postmaster@collab.sakaiproject.org>']\n",
      "['<200801040947.m049lUxo006517@nakamura.uits.iupui.edu>']\n",
      "['<source@collab.sakaiproject.org>;']\n",
      "['<source@collab.sakaiproject.org>;']\n",
      "['<source@collab.sakaiproject.org>;']\n",
      "['apache@localhost)']\n",
      "['source@collab.sakaiproject.org;']\n",
      "['david.horwitz@uct.ac.za']\n",
      "['source@collab.sakaiproject.org']\n",
      "['david.horwitz@uct.ac.za']\n",
      "['david.horwitz@uct.ac.za']\n",
      "['josrodri@iupui.edu']\n",
      "['dhorwitz@david-horwitz-6:~/branchManagemnt/sakai_2-5-x>']\n",
      "['david.horwitz@uct.ac.za']\n",
      "['<postmaster@collab.sakaiproject.org>']\n",
      "['<200801040932.m049W2i5006493@nakamura.uits.iupui.edu>']\n",
      "['<source@collab.sakaiproject.org>;']\n",
      "['<source@collab.sakaiproject.org>;']\n",
      "['<source@collab.sakaiproject.org>;']\n",
      "['apache@localhost)']\n",
      "['source@collab.sakaiproject.org;']\n",
      "['david.horwitz@uct.ac.za']\n",
      "['source@collab.sakaiproject.org']\n",
      "['david.horwitz@uct.ac.za']\n",
      "['david.horwitz@uct.ac.za']\n",
      "['josrodri@iupui.edu']\n",
      "['dhorwitz@david-horwitz-6:~/branchManagemnt/sakai_2-5-x>']\n",
      "['stephen.marquard@uct.ac.za']\n",
      "['<postmaster@collab.sakaiproject.org>']\n",
      "['<200801040905.m0495rWB006420@nakamura.uits.iupui.edu>']\n",
      "['<source@collab.sakaiproject.org>;']\n",
      "['<source@collab.sakaiproject.org>;']\n",
      "['<source@collab.sakaiproject.org>;']\n",
      "['apache@localhost)']\n",
      "['source@collab.sakaiproject.org;']\n",
      "['stephen.marquard@uct.ac.za']\n",
      "['source@collab.sakaiproject.org']\n",
      "['stephen.marquard@uct.ac.za']\n",
      "['stephen.marquard@uct.ac.za']\n",
      "['louis@media.berkeley.edu']\n",
      "['<postmaster@collab.sakaiproject.org>']\n",
      "['<200801040023.m040NpCc005473@nakamura.uits.iupui.edu>']\n",
      "['<source@collab.sakaiproject.org>;']\n",
      "['<source@collab.sakaiproject.org>;']\n",
      "['<source@collab.sakaiproject.org>;']\n",
      "['apache@localhost)']\n",
      "['source@collab.sakaiproject.org;']\n",
      "['louis@media.berkeley.edu']\n",
      "['source@collab.sakaiproject.org']\n",
      "['louis@media.berkeley.edu']\n",
      "['louis@media.berkeley.edu']\n",
      "['louis@media.berkeley.edu']\n",
      "['<postmaster@collab.sakaiproject.org>']\n",
      "['<200801032216.m03MGhDa005292@nakamura.uits.iupui.edu>']\n",
      "['<source@collab.sakaiproject.org>;']\n",
      "['<source@collab.sakaiproject.org>;']\n",
      "['<source@collab.sakaiproject.org>;']\n",
      "['apache@localhost)']\n",
      "['source@collab.sakaiproject.org;']\n",
      "['louis@media.berkeley.edu']\n",
      "['source@collab.sakaiproject.org']\n",
      "['louis@media.berkeley.edu']\n",
      "['louis@media.berkeley.edu']\n",
      "['ray@media.berkeley.edu']\n",
      "['<postmaster@collab.sakaiproject.org>']\n",
      "['<200801032205.m03M5Ea7005273@nakamura.uits.iupui.edu>']\n",
      "['<source@collab.sakaiproject.org>;']\n",
      "['<source@collab.sakaiproject.org>;']\n",
      "['<source@collab.sakaiproject.org>;']\n",
      "['apache@localhost)']\n",
      "['source@collab.sakaiproject.org;']\n",
      "['ray@media.berkeley.edu']\n",
      "['source@collab.sakaiproject.org']\n",
      "['ray@media.berkeley.edu']\n",
      "['ray@media.berkeley.edu']\n",
      "['cwen@iupui.edu']\n",
      "['<postmaster@collab.sakaiproject.org>']\n",
      "['<200801032133.m03LX3gG005191@nakamura.uits.iupui.edu>']\n",
      "['<source@collab.sakaiproject.org>;']\n",
      "['<source@collab.sakaiproject.org>;']\n",
      "['<source@collab.sakaiproject.org>;']\n",
      "['apache@localhost)']\n",
      "['source@collab.sakaiproject.org;']\n",
      "['cwen@iupui.edu']\n",
      "['source@collab.sakaiproject.org']\n",
      "['cwen@iupui.edu']\n",
      "['cwen@iupui.edu']\n",
      "['cwen@iupui.edu']\n",
      "['<postmaster@collab.sakaiproject.org>']\n",
      "['<200801032127.m03LRUqH005177@nakamura.uits.iupui.edu>']\n",
      "['<source@collab.sakaiproject.org>;']\n",
      "['<source@collab.sakaiproject.org>;']\n",
      "['<source@collab.sakaiproject.org>;']\n",
      "['apache@localhost)']\n",
      "['source@collab.sakaiproject.org;']\n",
      "['cwen@iupui.edu']\n",
      "['source@collab.sakaiproject.org']\n",
      "['cwen@iupui.edu']\n",
      "['cwen@iupui.edu']\n",
      "['wagnermr@iupui.edu']\n",
      "['cwen@iupui.edu']\n",
      "['<postmaster@collab.sakaiproject.org>']\n",
      "['<200801032122.m03LMFo4005148@nakamura.uits.iupui.edu>']\n",
      "['<source@collab.sakaiproject.org>;']\n",
      "['<source@collab.sakaiproject.org>;']\n",
      "['<source@collab.sakaiproject.org>;']\n",
      "['apache@localhost)']\n",
      "['source@collab.sakaiproject.org;']\n",
      "['cwen@iupui.edu']\n",
      "['source@collab.sakaiproject.org']\n",
      "['cwen@iupui.edu']\n",
      "['cwen@iupui.edu']\n",
      "['wagnermr@iupui.edu']\n"
     ]
    }
   ],
   "source": [
    "import re\n",
    "with open(\"mbox-short.txt\",\"r\") as hand:\n",
    "    for line in hand:\n",
    "        line = line.rstrip()\n",
    "        if re.findall(\"\\S+@\\S+\",line): \n",
    "            print(re.findall(\"\\S+@\\S+\",line))"
   ]
  },
  {
   "cell_type": "code",
   "execution_count": 44,
   "metadata": {},
   "outputs": [
    {
     "data": {
      "text/plain": [
       "['A', 'A', 'O', 'I', 'E']"
      ]
     },
     "execution_count": 44,
     "metadata": {},
     "output_type": "execute_result"
    }
   ],
   "source": [
    "text = \"Hey An Aeroplane Over There IE\"\n",
    "re.findall(\"[AEIOU]\",text) # returned all the vowels in caps"
   ]
  },
  {
   "cell_type": "code",
   "execution_count": 14,
   "metadata": {
    "collapsed": true
   },
   "outputs": [
    {
     "name": "stdout",
     "output_type": "stream",
     "text": [
      "['louis@media.berkeley.edu']\n",
      "['zqian@umich.edu']\n",
      "['rjlowe@iupui.edu']\n",
      "['zqian@umich.edu']\n",
      "['rjlowe@iupui.edu']\n",
      "['cwen@iupui.edu']\n",
      "['cwen@iupui.edu']\n",
      "['gsilver@umich.edu']\n",
      "['gsilver@umich.edu']\n",
      "['zqian@umich.edu']\n",
      "['gsilver@umich.edu']\n",
      "['wagnermr@iupui.edu']\n",
      "['zqian@umich.edu']\n",
      "['louis@media.berkeley.edu']\n",
      "['louis@media.berkeley.edu']\n",
      "['ray@media.berkeley.edu']\n",
      "['cwen@iupui.edu']\n",
      "['cwen@iupui.edu']\n",
      "['cwen@iupui.edu']\n"
     ]
    }
   ],
   "source": [
    "# if want to match substring with certain text but extract something specfic from it use parentheses will extract according\n",
    "# to parameters provided in parentheses\n",
    "\n",
    "import re\n",
    "with open(\"mbox-short.txt\",\"r\") as hand:\n",
    "    for line in hand:\n",
    "        line = line.rstrip()\n",
    "        \n",
    "        regex = re.findall(\"^From (\\S+@\\S+edu)\",line)\n",
    "        if regex:\n",
    "            print(regex)\n",
    "\n",
    "            \n",
    "# matching lines starting by \" From \" but extracting non whitespace characters with \" @ \" in between and non whitespace\n",
    "# character ending with \" edu \""
   ]
  },
  {
   "cell_type": "code",
   "execution_count": 63,
   "metadata": {
    "scrolled": true
   },
   "outputs": [
    {
     "data": {
      "text/plain": [
       "['uct.ac.za']"
      ]
     },
     "execution_count": 63,
     "metadata": {},
     "output_type": "execute_result"
    }
   ],
   "source": [
    "z = \"From stephen.marquard@uct.ac.za sat jan\"\n",
    "re.findall(\"@(\\S+)\",z)"
   ]
  },
  {
   "cell_type": "code",
   "execution_count": 67,
   "metadata": {},
   "outputs": [
    {
     "data": {
      "text/plain": [
       "['uct.ac.za']"
      ]
     },
     "execution_count": 67,
     "metadata": {},
     "output_type": "execute_result"
    }
   ],
   "source": [
    "re.findall(\"@([^ ]*)\",z)\n",
    "# \" [^ ]\" means match non-blank character...\" ^ \" refers to not here and \" \" to the whitespace character"
   ]
  },
  {
   "cell_type": "code",
   "execution_count": 69,
   "metadata": {},
   "outputs": [
    {
     "data": {
      "text/plain": [
       "['uct.ac.za']"
      ]
     },
     "execution_count": 69,
     "metadata": {},
     "output_type": "execute_result"
    }
   ],
   "source": [
    "re.findall(\"From .*@([^ ]*)\",z)"
   ]
  },
  {
   "cell_type": "code",
   "execution_count": 14,
   "metadata": {},
   "outputs": [
    {
     "data": {
      "text/plain": [
       "['7', '3', '8', '6', '7', '7', '6', '8', '5']"
      ]
     },
     "execution_count": 14,
     "metadata": {},
     "output_type": "execute_result"
    }
   ],
   "source": [
    "xyz = \"i scored a 7.38 this sem and my gpa is now icreased from 6.77 to 6.85\"\n",
    "re.findall(\"[0-9]\",xyz) # just looks for one character form the given range"
   ]
  },
  {
   "cell_type": "code",
   "execution_count": 11,
   "metadata": {},
   "outputs": [
    {
     "data": {
      "text/plain": [
       "['7', '38', '6', '77', '6', '85']"
      ]
     },
     "execution_count": 11,
     "metadata": {},
     "output_type": "execute_result"
    }
   ],
   "source": [
    "re.findall(\"[0-9]+\",xyz) # just looks for one or more character form the given range"
   ]
  },
  {
   "cell_type": "code",
   "execution_count": 12,
   "metadata": {},
   "outputs": [
    {
     "data": {
      "text/plain": [
       "['7.38', '6.77', '6.85']"
      ]
     },
     "execution_count": 12,
     "metadata": {},
     "output_type": "execute_result"
    }
   ],
   "source": [
    "re.findall(\"[0-9.]+\",xyz) # even looks for \" . \" rest is similar to above one"
   ]
  },
  {
   "cell_type": "code",
   "execution_count": 27,
   "metadata": {},
   "outputs": [
    {
     "data": {
      "text/plain": [
       "['13', '35scs']"
      ]
     },
     "execution_count": 27,
     "metadata": {},
     "output_type": "execute_result"
    }
   ],
   "source": [
    "abc = \"ADSFG13VFV35scs\"\n",
    "re.findall(\"[0-9a-z]+\",abc)"
   ]
  },
  {
   "cell_type": "code",
   "execution_count": 51,
   "metadata": {},
   "outputs": [
    {
     "data": {
      "text/plain": [
       "['gmail']"
      ]
     },
     "execution_count": 51,
     "metadata": {},
     "output_type": "execute_result"
    }
   ],
   "source": [
    "mail = \"i have mailed the data to you by monikgarg1999@gmail.com and wired the money\"\n",
    "re.findall(\"@(.+)\\.\",mail) #escape character used with \" . \" to stop extracting at \" . \" and start from \" @ \""
   ]
  },
  {
   "cell_type": "markdown",
   "metadata": {},
   "source": [
    "###### Ques. extract all the numbers from the file and find it's sum "
   ]
  },
  {
   "cell_type": "code",
   "execution_count": 73,
   "metadata": {},
   "outputs": [
    {
     "name": "stdout",
     "output_type": "stream",
     "text": [
      "418462\n"
     ]
    }
   ],
   "source": [
    "# way 1\n",
    "import re\n",
    "x = list()\n",
    "with open(\"regex1.txt\",\"r\") as hand:\n",
    "    for line in hand:\n",
    "        if re.findall(\"[0-9]+\",line):\n",
    "            x.append(list(map(int,re.findall(\"[0-9]+\",line))))\n",
    "\n",
    "summa = 0\n",
    "for i in x:\n",
    "    for j in i:\n",
    "        summa+=int(j)\n",
    "\n",
    "print(summa)\n",
    "\n",
    "# x #to view the list uncomment it"
   ]
  },
  {
   "cell_type": "code",
   "execution_count": 1,
   "metadata": {},
   "outputs": [
    {
     "data": {
      "text/plain": [
       "418462"
      ]
     },
     "execution_count": 1,
     "metadata": {},
     "output_type": "execute_result"
    }
   ],
   "source": [
    "# way2\n",
    "import re\n",
    "summa = 0\n",
    "with open(\"regex1.txt\",\"r\") as hand:\n",
    "    for line in hand:\n",
    "        summa += sum([int(i) for i in re.findall(\"[0-9]+\",line)])\n",
    "        \n",
    "summa"
   ]
  },
  {
   "cell_type": "code",
   "execution_count": 77,
   "metadata": {},
   "outputs": [
    {
     "data": {
      "text/plain": [
       "'h%ll%'"
      ]
     },
     "execution_count": 77,
     "metadata": {},
     "output_type": "execute_result"
    }
   ],
   "source": [
    "s = \"hello\"\n",
    "x = re.sub(r\"[aieou]\",\"%\",s)\n",
    "x"
   ]
  },
  {
   "cell_type": "code",
   "execution_count": 78,
   "metadata": {},
   "outputs": [
    {
     "data": {
      "text/plain": [
       "'%e%%o'"
      ]
     },
     "execution_count": 78,
     "metadata": {},
     "output_type": "execute_result"
    }
   ],
   "source": [
    "x = re.sub(r\"[^aieou]\",\"%\",s)\n",
    "x"
   ]
  },
  {
   "cell_type": "markdown",
   "metadata": {},
   "source": [
    "###### using re.search"
   ]
  },
  {
   "cell_type": "code",
   "execution_count": 3,
   "metadata": {},
   "outputs": [
    {
     "data": {
      "text/plain": [
       "<re.Match object; span=(2, 5), match='aza'>"
      ]
     },
     "execution_count": 3,
     "metadata": {},
     "output_type": "execute_result"
    }
   ],
   "source": [
    "import re\n",
    "re.search(r\"aza\",\"plaza\") #span tell the position of raw string in main string "
   ]
  },
  {
   "cell_type": "code",
   "execution_count": 7,
   "metadata": {},
   "outputs": [
    {
     "name": "stdout",
     "output_type": "stream",
     "text": [
      "None\n"
     ]
    }
   ],
   "source": [
    "# if doesn't matches then returns None\n",
    "a = re.search(r\"aza\",\"maze\")\n",
    "print(a)"
   ]
  },
  {
   "cell_type": "code",
   "execution_count": 12,
   "metadata": {},
   "outputs": [
    {
     "name": "stdout",
     "output_type": "stream",
     "text": [
      "None\n",
      "<re.Match object; span=(3, 5), match='as'>\n",
      "<re.Match object; span=(4, 6), match='as'>\n"
     ]
    }
   ],
   "source": [
    "li = [\"afsfrgdag\",\"sdgasDASD\",\"fadfasfa\"]\n",
    "for i in li:\n",
    "    print(re.search(r\"as\",i))"
   ]
  },
  {
   "cell_type": "code",
   "execution_count": 12,
   "metadata": {},
   "outputs": [],
   "source": [
    "s=re.search(r\"aza\",\"plaza\")\n",
    "#dir(s)"
   ]
  },
  {
   "cell_type": "code",
   "execution_count": 66,
   "metadata": {},
   "outputs": [
    {
     "name": "stdout",
     "output_type": "stream",
     "text": [
      "(2, 5)\n",
      "2\n",
      "5\n",
      "plaza\n"
     ]
    }
   ],
   "source": [
    "print(s.span()) # can slice the data\n",
    "print(s.start())\n",
    "print(s.end())\n",
    "print(s.string)"
   ]
  },
  {
   "cell_type": "code",
   "execution_count": 65,
   "metadata": {},
   "outputs": [
    {
     "name": "stdout",
     "output_type": "stream",
     "text": [
      "<re.Match object; span=(0, 1), match='x'>\n",
      "<re.Match object; span=(0, 4), match='xexo'>\n"
     ]
    }
   ],
   "source": [
    "print(re.search(r\"^x\",\"xexon\"))\n",
    "print(re.search(r\"x.xo\",\"xexon\"))"
   ]
  },
  {
   "cell_type": "code",
   "execution_count": 68,
   "metadata": {},
   "outputs": [
    {
     "name": "stdout",
     "output_type": "stream",
     "text": [
      "None\n",
      "<re.Match object; span=(0, 5), match='xexon'>\n",
      "<re.Match object; span=(2, 5), match='xon'>\n"
     ]
    }
   ],
   "source": [
    "print(re.search(r\"x.on\",\"xexon\"))\n",
    "print(re.search(r\"x.*on\",\"xexon\"))\n",
    "print(re.search(r\"x*.on\",\"xexon\"))"
   ]
  },
  {
   "cell_type": "code",
   "execution_count": 73,
   "metadata": {},
   "outputs": [
    {
     "name": "stdout",
     "output_type": "stream",
     "text": [
      "None \n",
      "\n",
      "<re.Match object; span=(0, 4), match='Pang'>\n"
     ]
    }
   ],
   "source": [
    "print(re.search(r\"p.ng\", \"Pangea\"),\"\\n\")\n",
    "print(re.search(r\"p.ng\", \"Pangea\", re.IGNORECASE)) # to make it case insensitive"
   ]
  },
  {
   "cell_type": "code",
   "execution_count": 80,
   "metadata": {},
   "outputs": [
    {
     "name": "stdout",
     "output_type": "stream",
     "text": [
      "<re.Match object; span=(14, 18), match='hway'>\n",
      "None\n"
     ]
    }
   ],
   "source": [
    "print(re.search(r\"[a-z]way\", \"the end of highway\"))\n",
    "print(re.search(r\"[a-z]way\", \"that's your way to the right\"))"
   ]
  },
  {
   "cell_type": "code",
   "execution_count": 81,
   "metadata": {},
   "outputs": [
    {
     "name": "stdout",
     "output_type": "stream",
     "text": [
      "\\n\n",
      "\n",
      "\n",
      "\\n\n"
     ]
    }
   ],
   "source": [
    "# even compile with escape sequence notes\n",
    "print(r\"\\n\")\n",
    "print(\"\\n\")\n",
    "print(\"\\\\n\")"
   ]
  },
  {
   "cell_type": "code",
   "execution_count": 97,
   "metadata": {},
   "outputs": [
    {
     "name": "stdout",
     "output_type": "stream",
     "text": [
      "[]\n"
     ]
    }
   ],
   "source": [
    "print(re.findall(r\"[a-z]way\", \"that's your way to the right\"))"
   ]
  },
  {
   "cell_type": "code",
   "execution_count": 102,
   "metadata": {},
   "outputs": [
    {
     "name": "stdout",
     "output_type": "stream",
     "text": [
      "<re.Match object; span=(7, 10), match='cat'>\n",
      "<re.Match object; span=(7, 10), match='dog'>\n",
      "<re.Match object; span=(12, 15), match='dog'>\n",
      "['dog', 'cat']\n"
     ]
    }
   ],
   "source": [
    "print (re.search(r\"cat|dog\", \"I like cats.\"))\n",
    "print(re.search(r\"cat|dog\", \"I like dogs.\"))\n",
    "print(re.search(r\"cat|dog\", \"I like both dogs and cats.\"))\n",
    "print(re.findall(r\"cat|dog\", \"I like both dogs and cats.\"))"
   ]
  },
  {
   "cell_type": "code",
   "execution_count": 83,
   "metadata": {},
   "outputs": [
    {
     "name": "stdout",
     "output_type": "stream",
     "text": [
      "<re.Match object; span=(0, 17), match='python programmin'>\n",
      "<re.Match object; span=(0, 6), match='python'>\n"
     ]
    }
   ],
   "source": [
    "print(re.search(\"p.*n\", \"python programming\")) # greedy\n",
    "print(re.search(\"p.*?n\", \"python programming\"))"
   ]
  },
  {
   "cell_type": "code",
   "execution_count": 84,
   "metadata": {},
   "outputs": [
    {
     "name": "stdout",
     "output_type": "stream",
     "text": [
      "<re.Match object; span=(0, 6), match='python'>\n",
      "<re.Match object; span=(0, 2), match='pn'>\n"
     ]
    }
   ],
   "source": [
    "print(re.search(\"p[a-z]*n\", \"python programming\"))\n",
    "print(re.search(\"p[a-z]*n\", \"pn\"))"
   ]
  },
  {
   "cell_type": "code",
   "execution_count": 19,
   "metadata": {},
   "outputs": [
    {
     "name": "stdout",
     "output_type": "stream",
     "text": [
      "None\n",
      "<re.Match object; span=(0, 4), match='mooo'>\n",
      "<re.Match object; span=(3, 6), match='nnn'>\n"
     ]
    }
   ],
   "source": [
    "print(re.search(r\"m+n+\",\"monik\"))\n",
    "print(re.search(r\"m+o+\",\"mooonik\"))\n",
    "print(re.search(r\"m*n+\",\"mmonnnik\"))"
   ]
  },
  {
   "cell_type": "code",
   "execution_count": 55,
   "metadata": {},
   "outputs": [
    {
     "name": "stdout",
     "output_type": "stream",
     "text": [
      "<re.Match object; span=(0, 4), match='mooo'>\n",
      "<re.Match object; span=(0, 3), match='ooo'>\n"
     ]
    }
   ],
   "source": [
    "print(re.search(\"m?o+\",\"mooonik\"))\n",
    "print(re.search(\"m?o+\",\"ooonik\"))"
   ]
  },
  {
   "cell_type": "code",
   "execution_count": 87,
   "metadata": {},
   "outputs": [
    {
     "name": "stdout",
     "output_type": "stream",
     "text": [
      "<re.Match object; span=(27, 30), match='.ai'>\n",
      "<re.Match object; span=(27, 30), match='.ai'>\n"
     ]
    }
   ],
   "source": [
    "print(re.search(r\"\\..[a-z]?\",\"hello this is my site monik.ai\"))\n",
    "print(re.search(\"\\..[a-z]?\",\"hello this is my site monik.ai\"))"
   ]
  },
  {
   "cell_type": "code",
   "execution_count": 88,
   "metadata": {},
   "outputs": [
    {
     "name": "stdout",
     "output_type": "stream",
     "text": [
      "<re.Match object; span=(0, 5), match='this1'>\n",
      "<re.Match object; span=(0, 6), match='this1_'>\n",
      "<re.Match object; span=(0, 13), match='this1_good_ex'>\n"
     ]
    }
   ],
   "source": [
    "print(re.search(r\"\\w*\", \"this1 good example\"))\n",
    "print(re.search(r\"\\w*\", \"this1_@good_example\"))\n",
    "print(re.search(r\"\\w*\", \"this1_good_ex\\ample\"))"
   ]
  },
  {
   "cell_type": "code",
   "execution_count": 90,
   "metadata": {},
   "outputs": [
    {
     "name": "stdout",
     "output_type": "stream",
     "text": [
      "<re.Match object; span=(0, 16), match='username user_01'>\n"
     ]
    }
   ],
   "source": [
    "print(re.search(r\"\\w*\\s\\w*\", \"username user_01\"))"
   ]
  },
  {
   "cell_type": "markdown",
   "metadata": {},
   "source": [
    "###### Fill in the code to check if the text passed has at least 2 groups of alphanumeric characters (including letters, numbers, and underscores) separated by one or more whitespace characters."
   ]
  },
  {
   "cell_type": "code",
   "execution_count": 142,
   "metadata": {},
   "outputs": [
    {
     "name": "stdout",
     "output_type": "stream",
     "text": [
      "False\n",
      "True\n",
      "True\n",
      "False\n"
     ]
    }
   ],
   "source": [
    "import re\n",
    "def check_character_groups(text):\n",
    "  result = re.search(r\"\\w*\\b\\s\\w*\", text)\n",
    "  return result != None\n",
    "\n",
    "print(check_character_groups(\"One\"))\n",
    "print(check_character_groups(\"123  Ready Set GO\"))\n",
    "print(check_character_groups(\"username user_01\"))\n",
    "print(check_character_groups(\"shopping_list: milk, bread, eggs.\"))"
   ]
  },
  {
   "cell_type": "code",
   "execution_count": 148,
   "metadata": {},
   "outputs": [
    {
     "name": "stdout",
     "output_type": "stream",
     "text": [
      "<re.Match object; span=(0, 13), match='shopping_list'>\n"
     ]
    }
   ],
   "source": [
    "print(re.search(r\"\\w*\\b\", \"shopping_list: milk\")) # \\b just extarcts the word "
   ]
  },
  {
   "cell_type": "markdown",
   "metadata": {},
   "source": [
    "###### create a regular expression which tells whether the given name is valid variable name or not in python"
   ]
  },
  {
   "cell_type": "code",
   "execution_count": null,
   "metadata": {},
   "outputs": [
    {
     "name": "stdout",
     "output_type": "stream",
     "text": [
      "enter number of test cases: 5\n",
      "daf_fss2_24\n",
      "True\n",
      "_3wcsdf\n",
      "True\n",
      "3sdadf_fsdgvzc\n",
      "False\n",
      "df fgsrs5c\n",
      "False\n"
     ]
    }
   ],
   "source": [
    "def check_variable_name(var_name):\n",
    "    pattern = \"^[a-zA-Z_]\\w*$\"\n",
    "    flag = re.search(pattern, var_name)\n",
    "    return flag != None\n",
    "\n",
    "for _ in range(int(input(\"enter number of test cases: \"))):\n",
    "        print(check_variable_name(input()))"
   ]
  },
  {
   "cell_type": "markdown",
   "metadata": {},
   "source": [
    "###### Fill in the code to check if the text passed looks like a standard sentence, meaning that it starts with an uppercase letter, followed by at least some lowercase letters or a space, and ends with a period, question mark, or exclamation point. "
   ]
  },
  {
   "cell_type": "code",
   "execution_count": 50,
   "metadata": {},
   "outputs": [
    {
     "name": "stdout",
     "output_type": "stream",
     "text": [
      "True\n",
      "False\n",
      "False\n",
      "False\n",
      "True\n"
     ]
    }
   ],
   "source": [
    "def check_sentence(text):\n",
    "    result = re.search(r\"^[A-Z][a-z ]*[.?]$\", text)\n",
    "    return result != None\n",
    "\n",
    "print(check_sentence(\"Is this is a sentence?\")) # True\n",
    "print(check_sentence(\"is this is a sentence?\")) # False\n",
    "print(check_sentence(\"Hello\")) # False\n",
    "print(check_sentence(\"1-2-3-GO!\")) # False\n",
    "print(check_sentence(\"A star is born.\")) # True"
   ]
  },
  {
   "cell_type": "markdown",
   "metadata": {},
   "source": [
    "def check_zip_code (text):\n",
    "  result = re.search(r\" \\d{5}(-\\d{4})?\", text)\n",
    "  return result != None\n",
    "\n",
    "print(check_zip_code(\"The zip codes for New York are 10001 thru 11104.\")) # True\n",
    "print(check_zip_code(\"90210 is a TV show\")) # False\n",
    "print(check_zip_code(\"Their address is: 123 Main Street, Anytown, AZ 85258-0001.\")) # True\n",
    "print(check_zip_code(\"The Parliament of Canada is at 111 Wellington St, Ottawa, ON K1A0A9.\")) # False"
   ]
  },
  {
   "cell_type": "markdown",
   "metadata": {},
   "source": [
    "###### Fill in the code to check if the text passed includes a possible U.S. zip code, formatted as follows: exactly 5 digits, and sometimes, but not always, followed by a dash with 4 more digits. The zip code needs to be preceded by at least one space, and cannot be at the start of the text."
   ]
  },
  {
   "cell_type": "code",
   "execution_count": 92,
   "metadata": {},
   "outputs": [
    {
     "name": "stdout",
     "output_type": "stream",
     "text": [
      "True\n",
      "False\n",
      "True\n",
      "False\n"
     ]
    }
   ],
   "source": [
    "import re\n",
    "\n",
    "def check_zip_code (text):\n",
    "    result = re.search(r\" \\d{5}(\\d{4}-)?\", text)\n",
    "    return result != None\n",
    "\n",
    "print(check_zip_code(\"The zip codes for New York are 10001 thru 11104.\")) # True\n",
    "print(check_zip_code(\"90210 is a TV show\")) # False\n",
    "print(check_zip_code(\"Their address is: 123 Main Street, Anytown, AZ 85258-0001.\")) # True\n",
    "print(check_zip_code(\"The Parliament of Canada is at 111 Wellington St, Ottawa, ON K1A0A9.\")) # False"
   ]
  },
  {
   "cell_type": "markdown",
   "metadata": {},
   "source": [
    "###### The check_time function checks for the time format of a 12-hour clock, as follows: the hour is between 1 and 12, with no leading zero, followed by a colon, then minutes between 00 and 59, then an optional space, and then AM or PM, in upper or lower case. Fill in the regular expression to do that. How many of the concepts that you just learned can you use here?"
   ]
  },
  {
   "cell_type": "code",
   "execution_count": 94,
   "metadata": {},
   "outputs": [
    {
     "name": "stdout",
     "output_type": "stream",
     "text": [
      "True\n",
      "True\n",
      "False\n",
      "False\n"
     ]
    }
   ],
   "source": [
    "def check_time(text):\n",
    "  pattern = r\"[1-9][0-2]?:[0-5][0-9]\\s?am|pm\"\n",
    "  result = re.search(pattern, text, re.IGNORECASE)\n",
    "  return result != None\n",
    "\n",
    "print(check_time(\"12:45pm\")) # True\n",
    "print(check_time(\"9:59 AM\")) # True\n",
    "print(check_time(\"6:60am\")) # False\n",
    "print(check_time(\"five o'clock\")) # False"
   ]
  },
  {
   "cell_type": "markdown",
   "metadata": {},
   "source": [
    "###### The check_web_address function checks if the text passed qualifies as a top-level web address, meaning that it contains alphanumeric characters (which includes letters, numbers, and underscores), as well as periods, dashes, and a plus sign, followed by a period and a character-only top-level domain such as \".com\", \".info\", \".edu\", etc. Fill in the regular expression to do that, using escape characters, wildcards, repetition qualifiers, beginning and end-of-line characters, and character classes. "
   ]
  },
  {
   "cell_type": "code",
   "execution_count": 10,
   "metadata": {},
   "outputs": [
    {
     "name": "stdout",
     "output_type": "stream",
     "text": [
      "True\n",
      "False\n",
      "True\n",
      "False\n",
      "True\n",
      "True\n"
     ]
    }
   ],
   "source": [
    "def check_web_address(text):\n",
    "    pattern = r\"^(w{3}\\.)?([\\w\\-+]+)\\.[a-zA-Z]+$\"\n",
    "    result = re.search(pattern, text)\n",
    "    return result != None\n",
    "\n",
    "print(check_web_address(\"gmail.com\")) # True\n",
    "print(check_web_address(\"www@google\")) # False\n",
    "print(check_web_address(\"www.Coursera.org\")) # True\n",
    "print(check_web_address(\"web-address.com/homepage\")) # False\n",
    "print(check_web_address(\"My_Favorite-Blog.US\")) # True\n",
    "print(check_web_address(\"www.mfjad+.US\")) # True"
   ]
  },
  {
   "cell_type": "markdown",
   "metadata": {},
   "source": [
    "##### capturing groups "
   ]
  },
  {
   "cell_type": "markdown",
   "metadata": {},
   "source": [
    "###### print first name followed space and last name extracted from string contains last name and first name separated by comma"
   ]
  },
  {
   "cell_type": "code",
   "execution_count": 105,
   "metadata": {},
   "outputs": [
    {
     "name": "stdout",
     "output_type": "stream",
     "text": [
      "John F. Kennedy\n",
      "John Kennedy\n"
     ]
    }
   ],
   "source": [
    "def rearrange_name(name):\n",
    "    result = re.search(r\"^([a-zA-Z]*), ([ a-zA-Z\\.\\-]*)$\", name)\n",
    "    if result == None:\n",
    "        return name\n",
    "    return \"{} {}\".format(result[2], result[1])\n",
    "\n",
    "print(rearrange_name(\"Kennedy, John F.\"))\n",
    "print(rearrange_name(\"Kennedy, John\"))"
   ]
  },
  {
   "cell_type": "code",
   "execution_count": 104,
   "metadata": {},
   "outputs": [
    {
     "name": "stdout",
     "output_type": "stream",
     "text": [
      "<re.Match object; span=(0, 11), match='garg, monik'>\n",
      "('garg', 'monik')\n",
      "monik garg\n"
     ]
    }
   ],
   "source": [
    "# stores all captures groups in tuple\n",
    "res = re.search(\"^([a-zA-Z]*), ([ a-zA-Z\\.\\-]*)$\", \"garg, monik\")\n",
    "print(res)\n",
    "\n",
    "print(res.groups())\n",
    "print(res.groups()[1], res.groups()[0])"
   ]
  },
  {
   "cell_type": "code",
   "execution_count": 106,
   "metadata": {},
   "outputs": [
    {
     "name": "stdout",
     "output_type": "stream",
     "text": [
      "garg, monik\n"
     ]
    },
    {
     "data": {
      "text/plain": [
       "'rg, monik'"
      ]
     },
     "execution_count": 106,
     "metadata": {},
     "output_type": "execute_result"
    }
   ],
   "source": [
    "# stores all groups in string form together\n",
    "print(res.group())\n",
    "res.group()[2:]"
   ]
  },
  {
   "cell_type": "markdown",
   "metadata": {},
   "source": [
    "##### repetition qualifires "
   ]
  },
  {
   "cell_type": "code",
   "execution_count": 109,
   "metadata": {},
   "outputs": [
    {
     "name": "stdout",
     "output_type": "stream",
     "text": [
      "<re.Match object; span=(2, 7), match='scary'>\n",
      "['scary', 'ghost', 'appea']\n",
      "['scary', 'ghost']\n",
      "['really', 'strawberri']\n",
      "['really', 'strawberries']\n",
      "<re.Match object; span=(14, 26), match='strawberries'>\n"
     ]
    }
   ],
   "source": [
    "print(re.search(r\"[a-zA-Z]{5}\", \"a scary ghost appeared\"))\n",
    "print(re.findall(r\"[a-zA-Z]{5}\", \"a scary ghost appeared\"))\n",
    "print(re.findall(r\"\\b[a-zA-Z]{5}\\b\", \"A scary ghost appeared\")) # limit of exactly 5 and word boundary both at starting and end\n",
    "print(re.findall(r\"\\w{5,10}\", \"I really like strawberries\")) # from 5 to 10 limit\n",
    "print(re.findall(r\"\\w{5,}\", \"I really like strawberries\")) # 5 or more than no upper limit\n",
    "print(re.search(r\"s\\w{,20}\", \"I really like strawberries\")) # 0 till 20 character limit"
   ]
  },
  {
   "cell_type": "code",
   "execution_count": 126,
   "metadata": {},
   "outputs": [
    {
     "name": "stdout",
     "output_type": "stream",
     "text": [
      "<re.Match object; span=(39, 46), match='[12345]'> | 12345 | ('12345',)\n"
     ]
    }
   ],
   "source": [
    "# matching process ids from log enteries\n",
    "\n",
    "log = \"July 31 07:51:48 mycomputer bad_process[12345]: ERROR Performing package upgrade\"\n",
    "pattern = r\"\\[(\\d+)\\]\"\n",
    "res = re.search(pattern, log)\n",
    "print(res, res[1], res.groups(),sep=\" | \") # as capturing groups thats why indexing"
   ]
  },
  {
   "cell_type": "markdown",
   "metadata": {},
   "source": [
    "###### Add to the regular expression used in the extract_pid function, to return the uppercase message in parenthesis, after the process id.  "
   ]
  },
  {
   "cell_type": "code",
   "execution_count": 127,
   "metadata": {},
   "outputs": [
    {
     "name": "stdout",
     "output_type": "stream",
     "text": [
      "12345 (ERROR)\n",
      "None\n",
      "None\n",
      "67890 (RUNNING)\n"
     ]
    }
   ],
   "source": [
    "def extract_pid(log_line):\n",
    "    regex = r\"\\[(\\d+)\\]: ([A-Z]+)\"\n",
    "    result = re.search(regex, log_line)\n",
    "    if result is None:\n",
    "        return None\n",
    "    return \"{} ({})\".format(result[1], result[2])\n",
    "\n",
    "print(extract_pid(\"July 31 07:51:48 mycomputer bad_process[12345]: ERROR Performing package upgrade\")) # 12345 (ERROR)\n",
    "print(extract_pid(\"99 elephants in a [cage]\")) # None\n",
    "print(extract_pid(\"A string that also has numbers [34567] but no uppercase message\")) # None\n",
    "print(extract_pid(\"July 31 08:08:08 mycomputer new_process[67890]: RUNNING Performing backup\")) # 67890 (RUNNING)"
   ]
  },
  {
   "cell_type": "markdown",
   "metadata": {},
   "source": [
    "###### Matching Anything But a Newline. user will provide a test string containing sequence of 3 characters separated by dot and the character can be anything dot it self apart form whitespace (\\n, \\t, \\r, \\f)"
   ]
  },
  {
   "cell_type": "code",
   "execution_count": 133,
   "metadata": {},
   "outputs": [
    {
     "name": "stdout",
     "output_type": "stream",
     "text": [
      "123.fsf.4w5\n",
      "True\n"
     ]
    }
   ],
   "source": [
    "test_string = input()\n",
    "\n",
    "regex_pattern1 = r\"^([^ ]{3}\\.)+([^ ]{3})$\"\n",
    "\n",
    "match = re.match(regex_pattern1, test_string) is not None\n",
    "print(match)"
   ]
  },
  {
   "cell_type": "markdown",
   "metadata": {},
   "source": [
    "###### Matching Same Text Again & Again. You have a test string. Your task is to write a regex that will match  with the following conditions: must be of length: 20<br>first 10 character should following characterstics respectively<br>lowercase letter, word character, whitespace character, non word character, digit, non digit, uppercase letter, letter (both lowercase and uppercase), vowels (both lowercase and uppercase), non whitespace character.<br>next 10 will have same characteristics as first 10 in same order"
   ]
  },
  {
   "cell_type": "code",
   "execution_count": 135,
   "metadata": {},
   "outputs": [
    {
     "name": "stdout",
     "output_type": "stream",
     "text": [
      "ab #1?AZa$ab #1?AZa$\n",
      "True\n"
     ]
    }
   ],
   "source": [
    "# concept of BACK REFERENCE is used here \n",
    "Regex_Pattern = r'^([a-z])(\\w)(\\s)(\\W)(\\d)(\\D)([A-Z])([A-Za-z])([aeiouAEIOU])(\\S)\\1\\2\\3\\4\\5\\6\\7\\8\\9\\10'\n",
    "\n",
    "print(bool(re.search(Regex_Pattern, input())))"
   ]
  },
  {
   "cell_type": "code",
   "execution_count": 147,
   "metadata": {},
   "outputs": [
    {
     "data": {
      "text/plain": [
       "<re.Match object; span=(0, 1), match='a'>"
      ]
     },
     "execution_count": 147,
     "metadata": {},
     "output_type": "execute_result"
    }
   ],
   "source": [
    "# b was optional so capture group got nothing to capture, so it was empty that's why matched\n",
    "re.match(r\"(b?)a\\1\", \"aa\") "
   ]
  },
  {
   "cell_type": "code",
   "execution_count": 149,
   "metadata": {},
   "outputs": [
    {
     "data": {
      "text/plain": [
       "True"
      ]
     },
     "execution_count": 149,
     "metadata": {},
     "output_type": "execute_result"
    }
   ],
   "source": [
    "# but, here the capture group was optional and was called upon using back reference so didn't match\n",
    "re.match(r\"(b)?a\\1\", \"aa\") is None"
   ]
  },
  {
   "cell_type": "markdown",
   "metadata": {},
   "source": [
    "#### to create a non-capturing group. It is useful if we do not need the group to capture its match."
   ]
  },
  {
   "cell_type": "code",
   "execution_count": 95,
   "metadata": {},
   "outputs": [
    {
     "name": "stdout",
     "output_type": "stream",
     "text": [
      "<re.Match object; span=(0, 7), match='this is'> | ()\n"
     ]
    }
   ],
   "source": [
    "a = re.match(r\"(?:this )([a-z]*)\", \"this is not your fault\")\n",
    "print(a, a.groups(), sep=\" | \") # if ?: used in brackets make them non-capturing groups\n",
    "\n",
    "# read more about non-capturing group and how do that in middle of string"
   ]
  },
  {
   "cell_type": "markdown",
   "metadata": {},
   "source": [
    "######  Your task is to write a regex which will match S, with following condition(s):<br> S consists of 8 digits.<br>S may have \"-\" separator such that string  gets divided in  parts, with each part having exactly two digits."
   ]
  },
  {
   "cell_type": "code",
   "execution_count": 202,
   "metadata": {
    "scrolled": true
   },
   "outputs": [
    {
     "name": "stdout",
     "output_type": "stream",
     "text": [
      "True\n",
      "True\n",
      "False\n",
      "False\n",
      "False\n"
     ]
    }
   ],
   "source": [
    "def check(S):\n",
    "    Regex_Pattern = r\"^((\\d{8})|(\\d{2}-){3}\\d{2})$\"\n",
    "    return bool(re.search(Regex_Pattern, S))\n",
    "\n",
    "print(check(\"12-34-56-78\"))\n",
    "print(check(\"12345678\"))\n",
    "print(check(\"12-34-56-78-88\"))\n",
    "print(check(\"12-45-7810\"))\n",
    "print(check(\"-12-45-78-10\"))"
   ]
  },
  {
   "cell_type": "markdown",
   "metadata": {},
   "source": [
    "#### positive lookhead\n",
    "<code>regex1(?=regex2)</code>\n",
    "\n",
    "Doesn't matches regex2 but if regex1 is immediately followed by regex2 then matches regex1"
   ]
  },
  {
   "cell_type": "code",
   "execution_count": 9,
   "metadata": {},
   "outputs": [
    {
     "name": "stdout",
     "output_type": "stream",
     "text": [
      "Number of matches: 3\n",
      "Number of matches: 0\n"
     ]
    }
   ],
   "source": [
    "Regex_Pattern = r'o(?=oo)'\n",
    "\n",
    "print(\"Number of matches:\", len(re.findall(Regex_Pattern, \"gooooo!\")))\n",
    "print(\"Number of matches:\", len(re.findall(Regex_Pattern, \"googoogoogoo\")))"
   ]
  },
  {
   "cell_type": "markdown",
   "metadata": {},
   "source": [
    "#### negative lookhead\n",
    "<code>regex1(?!regex2)</code>\n",
    "\n",
    "Doesn't matches regex2 but if regex1 is not immediately followed by regex2 then matches regex1"
   ]
  },
  {
   "cell_type": "code",
   "execution_count": 11,
   "metadata": {},
   "outputs": [
    {
     "name": "stdout",
     "output_type": "stream",
     "text": [
      "Number of matches : 5\n",
      "Number of matches : 2\n",
      "Number of matches : 4\n",
      "Number of matches : 2\n"
     ]
    }
   ],
   "source": [
    "def check(txt):\n",
    "    Regex_Pattern = r\"(.)(?!\\1)\"\n",
    "    return re.findall(Regex_Pattern, txt)\n",
    "\n",
    "print(\"Number of matches :\", len(check(\"goluo\")))   # all matched\n",
    "print(\"Number of matches :\", len(check(\"###$$$$\"))) # 2,last index matched \n",
    "print(\"Number of matches :\", len(check(\"gooloo\")))  # 0,2,3 and last index matched\n",
    "print(\"Number of matches :\", len(check(\"gooooo\")))  # 0 and last index matched"
   ]
  },
  {
   "cell_type": "code",
   "execution_count": null,
   "metadata": {},
   "outputs": [],
   "source": [
    "def contains_domain(address, domain):\n",
    "    domain_pattern = r'[\\w\\.-]+@'+domain+'$'\n",
    "    if re.match(domain_pattern, address):\n",
    "        return True\n",
    "    return False\n",
    "\n",
    "def replace_domain(address, old_domain, new_domain):\n",
    "    old_domain_pattern = r'' + old_domain + '$'\n",
    "    address = re.sub(old_domain_pattern, new_domain, address)\n",
    "    return address\n",
    "\n",
    "def main():\n",
    "    old_domain, new_domain = 'abc.edu', 'xyz.edu'\n",
    "    csv_file_location = '/home/student-01-5c9499789901/data/user_emails.csv'\n",
    "    report_file = '/home/student-01-5c9499789901/data' + '/updated_user_emails.csv'\n",
    "    user_email_list = []\n",
    "    old_domain_email_list = []\n",
    "    new_domain_email_list = []\n",
    "    with open(csv_file_location, 'r') as f:\n",
    "        user_data_list = list(csv.reader(f))\n",
    "        user_email_list = [data[1].strip() for data in user_data_list[1:]]\n",
    "        for email_address in user_email_list:\n",
    "            if contains_domain(email_address, old_domain):\n",
    "                old_domain_email_list.append(email_address)\n",
    "                replaced_email = replace_domain(email_address,old_domain,new_domain)\n",
    "                new_domain_email_list.append(replaced_email)\n",
    "\n",
    "        email_key = ' ' + 'Email Address'\n",
    "        email_index = user_data_list[0].index(email_key)\n",
    "        for user in user_data_list[1:]:\n",
    "            for old_domain, new_domain in zip(old_domain_email_list, new_domain_email_list):\n",
    "                if user[email_index] == ' ' + old_domain:\n",
    "                    user[email_index] = ' ' + new_domain\n",
    "    with open(report_file, 'w+') as output_file:\n",
    "        writer = csv.writer(output_file)\n",
    "        writer.writerows(user_data_list)\n",
    "\n",
    "main()"
   ]
  },
  {
   "cell_type": "code",
   "execution_count": 12,
   "metadata": {},
   "outputs": [
    {
     "name": "stdout",
     "output_type": "stream",
     "text": [
      "Jul 6 14:01:23 pid:29440\n",
      "Jul 6 14:02:08 pid:29187\n",
      "Jul 6 14:02:09 pid:29187\n",
      "Jul 6 14:03:01 pid:29440\n",
      "Jul 6 14:03:40 pid:29807\n",
      "Jul 6 14:04:01 pid:29440\n",
      "Jul 6 14:05:01 pid:29440\n"
     ]
    }
   ],
   "source": [
    "import re\n",
    "def show_time_of_pid(line):\n",
    "    pattern = r\"^([\\w\\s:]{14,15}) computer.name [\\w=]+\\[(\\d+)\\]\"\n",
    "    result = re.search(pattern, line)\n",
    "    return f\"{result[1]} pid:{result[2]}\"\n",
    "\n",
    "print(show_time_of_pid(\"Jul 6 14:01:23 computer.name CRON[29440]: USER (good_user)\")) # Jul 6 14:01:23 pid:29440\n",
    "\n",
    "print(show_time_of_pid(\"Jul 6 14:02:08 computer.name jam_tag=psim[29187]: (UUID:006)\")) # Jul 6 14:02:08 pid:29187\n",
    "\n",
    "print(show_time_of_pid(\"Jul 6 14:02:09 computer.name jam_tag=psim[29187]: (UUID:007)\")) # Jul 6 14:02:09 pid:29187\n",
    "\n",
    "print(show_time_of_pid(\"Jul 6 14:03:01 computer.name CRON[29440]: USER (naughty_user)\")) # Jul 6 14:03:01 pid:29440\n",
    "\n",
    "print(show_time_of_pid(\"Jul 6 14:03:40 computer.name cacheclient[29807]: start syncing from \\\"0xDEADBEEF\\\"\")) # Jul 6 14:03:40 pid:29807\n",
    "\n",
    "print(show_time_of_pid(\"Jul 6 14:04:01 computer.name CRON[29440]: USER (naughty_user)\")) # Jul 6 14:04:01 pid:29440\n",
    "\n",
    "print(show_time_of_pid(\"Jul 6 14:05:01 computer.name CRON[29440]: USER (naughty_user)\")) # Jul 6 14:05:01 pid:29440"
   ]
  },
  {
   "cell_type": "code",
   "execution_count": null,
   "metadata": {},
   "outputs": [],
   "source": []
  }
 ],
 "metadata": {
  "kernelspec": {
   "display_name": "Python 3",
   "language": "python",
   "name": "python3"
  },
  "language_info": {
   "codemirror_mode": {
    "name": "ipython",
    "version": 3
   },
   "file_extension": ".py",
   "mimetype": "text/x-python",
   "name": "python",
   "nbconvert_exporter": "python",
   "pygments_lexer": "ipython3",
   "version": "3.8.3"
  }
 },
 "nbformat": 4,
 "nbformat_minor": 4
}
