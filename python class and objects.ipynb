{
 "cells": [
  {
   "cell_type": "markdown",
   "metadata": {},
   "source": [
    "# python classes and objects"
   ]
  },
  {
   "cell_type": "markdown",
   "metadata": {},
   "source": [
    "instances,attribute,function,class,method write their defination"
   ]
  },
  {
   "cell_type": "markdown",
   "metadata": {},
   "source": [
    "## object \n",
    "\n",
    "Every data type in python is an object as <code>int</code>, <code>string</code>, <code>boolean</code>, <code>dictionary</code>, etc.\n",
    "\n",
    "Every object has :- \n",
    "<ul><li>Type</li>\n",
    "    <li>Internal data representation</li>\n",
    "    <li>Set of precedures for interacting with object (methods)</li></ul>"
   ]
  },
  {
   "cell_type": "code",
   "execution_count": 1,
   "metadata": {},
   "outputs": [],
   "source": [
    "# object is an instance of a particular type\n",
    "\n",
    "x = 5 # x is an integer object or say an instance of type integer"
   ]
  },
  {
   "cell_type": "markdown",
   "metadata": {},
   "source": [
    "## methods\n",
    "A class or type's methods are function that every instance of that class or type provides<br>\n",
    "method have atleast one argument <code>self</code>, unlike functions may have zero arguments"
   ]
  },
  {
   "cell_type": "code",
   "execution_count": 5,
   "metadata": {},
   "outputs": [
    {
     "data": {
      "text/plain": [
       "[1, 1, 1, 2, 3, 4, 5, 5, 5, 6, 32]"
      ]
     },
     "execution_count": 5,
     "metadata": {},
     "output_type": "execute_result"
    }
   ],
   "source": [
    "num = [3,1,4,5,1,5,2,6,5,32,1]\n",
    "num.sort() # sort the the method of list object\n",
    "num"
   ]
  },
  {
   "cell_type": "markdown",
   "metadata": {},
   "source": [
    "## class\n",
    "It consists of methods and data attributes.<br>\n",
    "Data attributes defines the class, example to form a rectangle we need length and breadth so these two are its data attributes<br><br>\n",
    "methods with starting and ending with double underscore are special methods"
   ]
  },
  {
   "cell_type": "code",
   "execution_count": 4,
   "metadata": {},
   "outputs": [],
   "source": [
    "import matplotlib.pyplot as plt\n",
    "%matplotlib inline\n",
    "\n",
    "# make a circle class with attributes as colour and radius\n",
    "# better to start a class first word in caps\n",
    "class Circle(object): # parent class is an object\n",
    "    '''this class is used to create circle and takes 2 parameters for it radius and colour, has default color black'''\n",
    "    # __init__ is the class constructor or special method, used to initialize data attributes\n",
    "    def __init__(self, radius, color=\"black\"):\n",
    "        # radius and color are parameters\n",
    "        # self parameters refers to newly createt instance of class\n",
    "        \n",
    "        # data attribute used to initialize each instance of the class\n",
    "        self.radius = radius\n",
    "        self.color = color\n",
    "    \n",
    "    def addRadius(self,r):\n",
    "        '''it adds the input radius in the instances radius'''\n",
    "        self.radius = self.radius + r\n",
    "        \n",
    "    def drawCircle(self):\n",
    "        '''visual representation of circle in graph using matplotlib'''\n",
    "        plt.gca().add_patch(plt.Circle((0, 0), radius=self.radius, fc=self.color))\n",
    "        plt.axis('scaled')\n",
    "        plt.show()"
   ]
  },
  {
   "cell_type": "code",
   "execution_count": 69,
   "metadata": {},
   "outputs": [
    {
     "name": "stdout",
     "output_type": "stream",
     "text": [
      "5\n",
      "red\n",
      "<class '__main__.Circle'>\n"
     ]
    },
    {
     "data": {
      "text/plain": [
       "<__main__.Circle at 0x1cf38629bb0>"
      ]
     },
     "execution_count": 69,
     "metadata": {},
     "output_type": "execute_result"
    }
   ],
   "source": [
    "# self parameter contains all the data attributes\n",
    "red5 = Circle(5,\"red\")\n",
    "print(red5.radius)\n",
    "print(red5.color)\n",
    "print(type(red5))\n",
    "red5 # prints the objects location in computer's memory"
   ]
  },
  {
   "cell_type": "code",
   "execution_count": 70,
   "metadata": {},
   "outputs": [
    {
     "name": "stdout",
     "output_type": "stream",
     "text": [
      "blood-red\n"
     ]
    },
    {
     "data": {
      "text/plain": [
       "<__main__.Circle at 0x1cf38629bb0>"
      ]
     },
     "execution_count": 70,
     "metadata": {},
     "output_type": "execute_result"
    }
   ],
   "source": [
    "# directly can change value of data attribute\n",
    "red5.color = \"blood-red\"\n",
    "print(red5.color)\n",
    "red5"
   ]
  },
  {
   "cell_type": "code",
   "execution_count": 71,
   "metadata": {},
   "outputs": [
    {
     "name": "stdout",
     "output_type": "stream",
     "text": [
      "4\n"
     ]
    },
    {
     "data": {
      "text/plain": [
       "8"
      ]
     },
     "execution_count": 71,
     "metadata": {},
     "output_type": "execute_result"
    }
   ],
   "source": [
    "# change value of data attribute by calling a function\n",
    "cir1 = Circle(4,\"blue\")\n",
    "print(cir1.radius)\n",
    "\n",
    "cir1.addRadius(4)\n",
    "cir1.radius"
   ]
  },
  {
   "cell_type": "code",
   "execution_count": 72,
   "metadata": {},
   "outputs": [
    {
     "data": {
      "image/png": "[encoded data removed]",
      "text/plain": [
       "<Figure size 432x288 with 1 Axes>"
      ]
     },
     "metadata": {
      "needs_background": "light"
     },
     "output_type": "display_data"
    }
   ],
   "source": [
    "cir1.drawCircle()"
   ]
  },
  {
   "cell_type": "code",
   "execution_count": 73,
   "metadata": {},
   "outputs": [
    {
     "data": {
      "image/png": "[encoded data removed]",
      "text/plain": [
       "<Figure size 432x288 with 1 Axes>"
      ]
     },
     "metadata": {
      "needs_background": "light"
     },
     "output_type": "display_data"
    }
   ],
   "source": [
    "# as default color is balck so if no color specified black will be taken \n",
    "cir2 = circle(20)\n",
    "cir2.drawCircle()"
   ]
  },
  {
   "cell_type": "code",
   "execution_count": 1,
   "metadata": {},
   "outputs": [],
   "source": [
    "class rect(object):\n",
    "    # class variable\n",
    "    z = 10\n",
    "    def __init__(self,lenght,breadth,colour):\n",
    "        self.lenght = lenght\n",
    "        self.breadth = breadth\n",
    "        self.colour = colour\n",
    "        \n",
    "    # now if you print the instance of this class then will not provide the location but will return the the below statement\n",
    "    def __str__(self):\n",
    "        return \"the rectangle is of {}m * {}m, lenght and breadth respectively and is of colour {}\".format(self.lenght, \\\n",
    "                                                                                                self.breadth,self.colour)"
   ]
  },
  {
   "cell_type": "code",
   "execution_count": 2,
   "metadata": {},
   "outputs": [
    {
     "name": "stdout",
     "output_type": "stream",
     "text": [
      "the rectangle is of 3m * 4m, lenght and breadth respectively and is of colour red\n"
     ]
    }
   ],
   "source": [
    "print(rect(3,4,\"red\"))"
   ]
  },
  {
   "cell_type": "code",
   "execution_count": 5,
   "metadata": {},
   "outputs": [
    {
     "name": "stdout",
     "output_type": "stream",
     "text": [
      "<__main__.Circle object at 0x000001C96B50D370>\n"
     ]
    }
   ],
   "source": [
    "print(Circle(5,\"red\"))"
   ]
  },
  {
   "cell_type": "code",
   "execution_count": 60,
   "metadata": {},
   "outputs": [],
   "source": [
    "dir(cir1) # gives methods aplicable to this object and it's data attributes"
   ]
  },
  {
   "cell_type": "code",
   "execution_count": 67,
   "metadata": {},
   "outputs": [],
   "source": [
    "dir(Circle) # gives the methods aviable in this class"
   ]
  },
  {
   "cell_type": "markdown",
   "metadata": {},
   "source": [
    "## class and instance variable\n",
    "\n",
    "class variable:- they are defined within the class as are owned by the class itself, they are shared by all class instances<br>\n",
    "instance variable:- they are owned by instance of the class, each instance can have different instance variable it means. generally these are saved in the constructor."
   ]
  },
  {
   "cell_type": "code",
   "execution_count": 9,
   "metadata": {},
   "outputs": [
    {
     "name": "stdout",
     "output_type": "stream",
     "text": [
      "10\n",
      "10\n",
      "True\n"
     ]
    }
   ],
   "source": [
    "# class variable\n",
    "rec1 = rect(3,4,\"red\")\n",
    "rec2 = rect(1,2,\"blue\")\n",
    "print(rec1.z,rec2.z,sep=\"\\n\")\n",
    "print(rec1.z == rec2.z)"
   ]
  },
  {
   "cell_type": "code",
   "execution_count": 10,
   "metadata": {},
   "outputs": [
    {
     "name": "stdout",
     "output_type": "stream",
     "text": [
      "7\n",
      "5\n"
     ]
    }
   ],
   "source": [
    "# instance variable\n",
    "rec1.x = 7\n",
    "rec2.x = 5\n",
    "print(rec1.x,rec2.x,sep=\"\\n\")"
   ]
  },
  {
   "cell_type": "code",
   "execution_count": 28,
   "metadata": {},
   "outputs": [
    {
     "name": "stdout",
     "output_type": "stream",
     "text": [
      "True\n"
     ]
    }
   ],
   "source": [
    "rec2.x = 7\n",
    "print(rec1.x is rec2.x)"
   ]
  },
  {
   "cell_type": "code",
   "execution_count": 24,
   "metadata": {},
   "outputs": [
    {
     "name": "stdout",
     "output_type": "stream",
     "text": [
      "7\n"
     ]
    }
   ],
   "source": [
    "# instance variable\n",
    "class Point():\n",
    "    def get_num(self):\n",
    "        return self.x # which method returns the instance variable x \n",
    "    \n",
    "p1 = Point()\n",
    "p2 = Point()\n",
    "p1.x = 7\n",
    "p2.y = 4\n",
    "print(p1.get_num())"
   ]
  },
  {
   "cell_type": "code",
   "execution_count": 22,
   "metadata": {},
   "outputs": [],
   "source": [
    "print(p2.get_num()) # will give as p2.x doesn't have a value assigned"
   ]
  },
  {
   "cell_type": "code",
   "execution_count": 27,
   "metadata": {},
   "outputs": [
    {
     "name": "stdout",
     "output_type": "stream",
     "text": [
      "4\n"
     ]
    }
   ],
   "source": [
    "print(p2.y)"
   ]
  },
  {
   "cell_type": "markdown",
   "metadata": {},
   "source": [
    "###### instance from data "
   ]
  },
  {
   "cell_type": "code",
   "execution_count": 35,
   "metadata": {},
   "outputs": [
    {
     "name": "stdout",
     "output_type": "stream",
     "text": [
      "[<__main__.City object at 0x000001C96D6AAD60>, <__main__.City object at 0x000001C96D6AAF40>, <__main__.City object at 0x000001C96D6AAFA0>, <__main__.City object at 0x000001C96D6AADC0>, <__main__.City object at 0x000001C96B5174C0>]\n",
      "\n",
      "Detroit 680250 (population: MI)\n",
      "Ann Arbor 117070 (population: MI)\n",
      "Pittsburgh 304391 (population: PA)\n",
      "Mars 1683 (population: PA)\n",
      "New York 8406000 (population: NY)\n"
     ]
    }
   ],
   "source": [
    "cityNames = ['Detroit', 'Ann Arbor', 'Pittsburgh', 'Mars', 'New York']\n",
    "populations = [680250, 117070, 304391, 1683, 8406000]\n",
    "states = ['MI', 'MI', 'PA', 'PA', 'NY']\n",
    "\n",
    "class City:\n",
    "    def __init__(self, n, p, s):\n",
    "        self.name = n\n",
    "        self.popu = p\n",
    "        self.state = s\n",
    "    def __str__(self):\n",
    "        return \"{} {} (population: {})\".format(self.name, self.popu, self.state)\n",
    "    \n",
    "cities = [City(*x) for x in zip(cityNames, populations, states)] # *takes all the items of the tupple and passes it to the class\n",
    "print(cities,end=\"\\n\\n\")\n",
    "\n",
    "for i in cities:\n",
    "    print(i)"
   ]
  },
  {
   "cell_type": "markdown",
   "metadata": {},
   "source": [
    "### special methods \n",
    "already discussed <code>\\__inti__</code> and <code>\\__str__</code> lets look at few more"
   ]
  },
  {
   "cell_type": "code",
   "execution_count": 8,
   "metadata": {},
   "outputs": [],
   "source": [
    "class Point1:\n",
    "    def __init__(self,x,y):\n",
    "        self.x = x\n",
    "        self.y = y\n",
    "    def __str__(self):\n",
    "        return \"point in x-coordinate {} and point in y-coordinate {}\".format(self.x,self.y)\n",
    "    def __add__(self,other_point):\n",
    "        return Point(self.x + other_point.x, self.y + other_point.y)\n",
    "    def __sub__(self,other_point):\n",
    "        return Point(self.x - other_point.x, self.y - other_point.y)"
   ]
  },
  {
   "cell_type": "code",
   "execution_count": 9,
   "metadata": {},
   "outputs": [],
   "source": [
    "p1 = Point1(3,4)\n",
    "p2 = Point1(2,1)\n",
    "#print(p1+p2) # will give error"
   ]
  },
  {
   "cell_type": "code",
   "execution_count": 10,
   "metadata": {},
   "outputs": [
    {
     "name": "stdout",
     "output_type": "stream",
     "text": [
      "point in x-coordinate 2 and point in y-coordinate 1\n"
     ]
    }
   ],
   "source": [
    "print(p2)"
   ]
  },
  {
   "cell_type": "code",
   "execution_count": 45,
   "metadata": {},
   "outputs": [
    {
     "name": "stdout",
     "output_type": "stream",
     "text": [
      "point in x-coordinate 5 and point in y-coordinate 5\n"
     ]
    }
   ],
   "source": [
    "p3 = Point1(3,4)\n",
    "p4 = Point1(2,1)\n",
    "print(p3 + p4)"
   ]
  },
  {
   "cell_type": "code",
   "execution_count": 47,
   "metadata": {},
   "outputs": [
    {
     "name": "stdout",
     "output_type": "stream",
     "text": [
      "point in x-coordinate 5 and point in y-coordinate 5\n"
     ]
    }
   ],
   "source": [
    "p5 = p3+p4\n",
    "print(p5) # p5 is an instance of Point1 class"
   ]
  },
  {
   "cell_type": "code",
   "execution_count": null,
   "metadata": {},
   "outputs": [],
   "source": []
  },
  {
   "cell_type": "code",
   "execution_count": null,
   "metadata": {},
   "outputs": [],
   "source": []
  },
  {
   "cell_type": "code",
   "execution_count": null,
   "metadata": {},
   "outputs": [],
   "source": []
  },
  {
   "cell_type": "markdown",
   "metadata": {},
   "source": [
    "###### Ques. sort the list of instances according to their prices and print the name of fruits? "
   ]
  },
  {
   "cell_type": "code",
   "execution_count": 61,
   "metadata": {},
   "outputs": [
    {
     "name": "stdout",
     "output_type": "stream",
     "text": [
      "blueberry\n",
      "apple\n",
      "cherry\n"
     ]
    }
   ],
   "source": [
    "class fruits():\n",
    "    \n",
    "    def __init__(self,name,price):\n",
    "        self.n = name\n",
    "        self.p = price\n",
    "    def get_price(self):\n",
    "        return self.p\n",
    "\n",
    "lst = [fruits(\"apple\",7), fruits(\"cherry\",10), fruits(\"blueberry\",5)]\n",
    "for i in sorted(lst, key = fruits.get_price):\n",
    "    print(i.n)\n",
    "    \n",
    "'''\n",
    "        *****can even do with lambda function*****\n",
    "\n",
    "for i in sorted(lst, key = lambda x: x.get_price()):\n",
    "    print(i.n)\n",
    "    \n",
    "'''"
   ]
  },
  {
   "cell_type": "code",
   "execution_count": null,
   "metadata": {},
   "outputs": [],
   "source": []
  },
  {
   "cell_type": "code",
   "execution_count": null,
   "metadata": {},
   "outputs": [],
   "source": []
  },
  {
   "cell_type": "code",
   "execution_count": null,
   "metadata": {},
   "outputs": [],
   "source": []
  },
  {
   "cell_type": "markdown",
   "metadata": {},
   "source": [
    "### Attribute\n",
    "\n",
    "##### Class attribute"
   ]
  },
  {
   "cell_type": "code",
   "execution_count": 18,
   "metadata": {},
   "outputs": [
    {
     "data": {
      "text/plain": [
       "40"
      ]
     },
     "execution_count": 18,
     "metadata": {},
     "output_type": "execute_result"
    }
   ],
   "source": [
    "class Employee():\n",
    "    num_working_hrs = 40 # this is a class attribute\n",
    "    \n",
    "ben = Employee()\n",
    "ben.num_working_hrs"
   ]
  },
  {
   "cell_type": "code",
   "execution_count": 19,
   "metadata": {},
   "outputs": [
    {
     "data": {
      "text/plain": [
       "40"
      ]
     },
     "execution_count": 19,
     "metadata": {},
     "output_type": "execute_result"
    }
   ],
   "source": [
    "liza = Employee()\n",
    "liza.num_working_hrs"
   ]
  },
  {
   "cell_type": "code",
   "execution_count": 33,
   "metadata": {},
   "outputs": [
    {
     "data": {
      "text/plain": [
       "45"
      ]
     },
     "execution_count": 33,
     "metadata": {},
     "output_type": "execute_result"
    }
   ],
   "source": [
    "# changing value of class attribute\n",
    "Employee.num_working_hrs = 45\n",
    "liza.num_working_hrs"
   ]
  },
  {
   "cell_type": "code",
   "execution_count": 21,
   "metadata": {},
   "outputs": [
    {
     "data": {
      "text/plain": [
       "45"
      ]
     },
     "execution_count": 21,
     "metadata": {},
     "output_type": "execute_result"
    }
   ],
   "source": [
    "harry = Employee()\n",
    "harry.num_working_hrs"
   ]
  },
  {
   "cell_type": "markdown",
   "metadata": {},
   "source": [
    "##### Instance attribute "
   ]
  },
  {
   "cell_type": "code",
   "execution_count": 22,
   "metadata": {},
   "outputs": [
    {
     "data": {
      "text/plain": [
       "'software developer'"
      ]
     },
     "execution_count": 22,
     "metadata": {},
     "output_type": "execute_result"
    }
   ],
   "source": [
    "ben.profile = \"software developer\"\n",
    "ben.profile"
   ]
  },
  {
   "cell_type": "code",
   "execution_count": 27,
   "metadata": {},
   "outputs": [],
   "source": [
    "# running below command will give error as it doesn't have profile instance attribute\n",
    "harry.profile"
   ]
  },
  {
   "cell_type": "markdown",
   "metadata": {},
   "source": [
    " \n",
    " \n",
    " \n",
    " \n",
    " \n",
    " "
   ]
  },
  {
   "cell_type": "code",
   "execution_count": 25,
   "metadata": {},
   "outputs": [
    {
     "data": {
      "text/plain": [
       "36"
      ]
     },
     "execution_count": 25,
     "metadata": {},
     "output_type": "execute_result"
    }
   ],
   "source": [
    "# Here we have created a instance attribute with the same name as of class attribute so it has different value then rest \n",
    "# object of the class...this happens when called upon python first checks the instances attribute associated with that name\n",
    "# then if not found then checks in for class attribute if still not found returns a error - AttributeError\n",
    "\n",
    "ben.num_working_hrs = 36\n",
    "ben.num_working_hrs"
   ]
  },
  {
   "cell_type": "code",
   "execution_count": 24,
   "metadata": {},
   "outputs": [
    {
     "data": {
      "text/plain": [
       "45"
      ]
     },
     "execution_count": 24,
     "metadata": {},
     "output_type": "execute_result"
    }
   ],
   "source": [
    "liza.num_working_hrs"
   ]
  },
  {
   "cell_type": "code",
   "execution_count": null,
   "metadata": {},
   "outputs": [],
   "source": [
    "class Workforce:\n",
    "    def employeeDetails(self):\n",
    "        self.name = \"Matthew\" # instance attribute created\n",
    "        print(\"Name = \", self.name)\n",
    "        age = 30 # variable..limited to this method only\n",
    "        print(\"Age = \", age)\n",
    "\n",
    "    def printEmployeeDetails(self):\n",
    "        print(\"Printing in another method\")\n",
    "        print(\"Name: \",self.name)\n",
    "        print(\"Age: \", age)\n",
    "\n",
    "employee = Workforce()\n",
    "Workforce.employeeDetails(employee)\n",
    "print()\n",
    "employee.employeeDetails()\n",
    "print()\n",
    "employee.printEmployeeDetails()"
   ]
  },
  {
   "cell_type": "code",
   "execution_count": 17,
   "metadata": {},
   "outputs": [
    {
     "name": "stdout",
     "output_type": "stream",
     "text": [
      "hello this is instance method...the most common use all the above belong to this type\n",
      "works without self parameter uses decorator...can't access any data totally self contained\n",
      "requires cls parameter instead of self points to class also uses decorator\n",
      "name of name is ex\n",
      "works without self parameter uses decorator...can't access any data totally self contained\n",
      "this is also a class methos...work of class method to explain class,static and instance method\n",
      "hello this is instance method...the most common use all the above belong to this type\n"
     ]
    },
    {
     "data": {
      "text/plain": [
       "<classmethod at 0x1b44f333970>"
      ]
     },
     "execution_count": 17,
     "metadata": {},
     "output_type": "execute_result"
    }
   ],
   "source": [
    "# types of methods\n",
    "\n",
    "class Example:\n",
    "    name = \"ex\"\n",
    "    work = \"to explain class,static and instance method\"\n",
    "    \n",
    "    def method1(self):\n",
    "        print(\"hello this is instance method...the most common use all the above belong to this type\")\n",
    "    \n",
    "    @staticmethod\n",
    "    def method2():\n",
    "        print(\"works without self parameter uses decorator...can't access any data totally self contained\")\n",
    "        \n",
    "    @classmethod\n",
    "    def method3(cls):\n",
    "        print(\"requires cls parameter instead of self points to class also uses decorator\")\n",
    "        print(\"name of name is\",cls.name)\n",
    "        cls.method2()\n",
    "        \n",
    "    def method4(obj):\n",
    "        print(\"this is also a class methos...work of class method\",obj.work)\n",
    "        obj.method1()\n",
    "        \n",
    "x = Example()\n",
    "x.method1()\n",
    "x.method2()\n",
    "x.method3()\n",
    "x.method4 = classmethod(x.method4())\n",
    "x.method4"
   ]
  },
  {
   "cell_type": "code",
   "execution_count": null,
   "metadata": {},
   "outputs": [],
   "source": []
  }
 ],
 "metadata": {
  "kernelspec": {
   "display_name": "Python 3",
   "language": "python",
   "name": "python3"
  },
  "language_info": {
   "codemirror_mode": {
    "name": "ipython",
    "version": 3
   },
   "file_extension": ".py",
   "mimetype": "text/x-python",
   "name": "python",
   "nbconvert_exporter": "python",
   "pygments_lexer": "ipython3",
   "version": "3.8.3"
  }
 },
 "nbformat": 4,
 "nbformat_minor": 2
}
