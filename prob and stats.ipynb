{
 "cells": [
  {
   "cell_type": "markdown",
   "metadata": {},
   "source": [
    "### Fresco play prob and stats"
   ]
  },
  {
   "cell_type": "markdown",
   "metadata": {},
   "source": [
    "Q. If a 6-sided dice numbered 1 to 6 is rolled, find the probability of getting either an even or prime number?"
   ]
  },
  {
   "cell_type": "code",
   "execution_count": 6,
   "metadata": {},
   "outputs": [
    {
     "data": {
      "text/plain": [
       "0.8333333333333334"
      ]
     },
     "execution_count": 6,
     "metadata": {},
     "output_type": "execute_result"
    }
   ],
   "source": [
    "# this is an example of non-mutually exclusive events\n",
    "#\n",
    "# sets are used for it as there is no repeat in it\n",
    "sample_space = {1,2,3,4,5,6}\n",
    "E1 = {2,3,5} # event - prime\n",
    "E2 = {2,4,6} # event - even\n",
    "E1nE2 = {2}\n",
    "\n",
    "prob_E1 = len(E1)/len(sample_space)\n",
    "prob_E2 = len(E2)/len(sample_space) \n",
    "prob_E1UE2 = len(E1nE2)/len(sample_space) \n",
    "\n",
    "prob_E1_or_E2 = prob_E1 + prob_E2 - prob_E1UE2\n",
    "prob_E1_or_E2"
   ]
  },
  {
   "cell_type": "markdown",
   "metadata": {},
   "source": [
    "Q. In a deck of cards, what is the probability of getting either a King or Queen car? "
   ]
  },
  {
   "cell_type": "code",
   "execution_count": 13,
   "metadata": {},
   "outputs": [
    {
     "data": {
      "text/plain": [
       "0.154"
      ]
     },
     "execution_count": 13,
     "metadata": {},
     "output_type": "execute_result"
    }
   ],
   "source": [
    "# this is an example of mutually exclusive events\n",
    "#\n",
    "n = 52 # sample size\n",
    "e1 = 4 # king\n",
    "e2 = 4 # queen\n",
    "prob_e1 = e1/n\n",
    "prob_e2 = e2/n\n",
    "\n",
    "prob_king_or_queen = prob_e1 + prob_e2\n",
    "round(prob_king_or_queen,3)"
   ]
  },
  {
   "cell_type": "markdown",
   "metadata": {},
   "source": [
    "Q. avg no of bouquets sold by flower shop in 10 per day what is the probability to sell exactly 15 flower to tomorrow? use poisson distribution"
   ]
  },
  {
   "cell_type": "code",
   "execution_count": 16,
   "metadata": {},
   "outputs": [
    {
     "data": {
      "text/plain": [
       "0.034718069630684134"
      ]
     },
     "execution_count": 16,
     "metadata": {},
     "output_type": "execute_result"
    }
   ],
   "source": [
    "import math\n",
    "\n",
    "k = 15 # no of times an event occurs\n",
    "lamda = 10 # avg times the event occurs\n",
    "e = 2.718 # euler's constant\n",
    "\n",
    "Px_k =  ((math.e**(-lamda))*(lamda**(k)))/math.factorial(k)\n",
    "Px_k # probabilty of event to occur k times"
   ]
  },
  {
   "cell_type": "markdown",
   "metadata": {},
   "source": [
    "Q. in 4 independent competitions, jin has 60% chance of winning. find probabitily of winning atleast 1 competition? using binomial distribution"
   ]
  },
  {
   "cell_type": "code",
   "execution_count": null,
   "metadata": {},
   "outputs": [],
   "source": [
    "ans = 1 - stats.binom.pmf(0,4,0.6)\n",
    "round(ans,2)"
   ]
  }
 ],
 "metadata": {
  "kernelspec": {
   "display_name": "Python 3",
   "language": "python",
   "name": "python3"
  },
  "language_info": {
   "codemirror_mode": {
    "name": "ipython",
    "version": 3
   },
   "file_extension": ".py",
   "mimetype": "text/x-python",
   "name": "python",
   "nbconvert_exporter": "python",
   "pygments_lexer": "ipython3",
   "version": "3.8.3"
  }
 },
 "nbformat": 4,
 "nbformat_minor": 4
}
