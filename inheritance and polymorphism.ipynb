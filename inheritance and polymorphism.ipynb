{
 "cells": [
  {
   "cell_type": "markdown",
   "metadata": {},
   "source": [
    "# python inheritance "
   ]
  },
  {
   "cell_type": "markdown",
   "metadata": {},
   "source": [
    "\n",
    "\n",
    "inheritance work like....sub classes inherit from super class<br>\n",
    "so inherit from super class only when need absolutely eveything form it and might need additional modification"
   ]
  },
  {
   "cell_type": "code",
   "execution_count": 47,
   "metadata": {},
   "outputs": [
    {
     "name": "stdout",
     "output_type": "stream",
     "text": [
      "dark-red\n",
      "tart\n",
      "purple\n",
      "sweet\n",
      "it 5 types of grapes in world\n"
     ]
    },
    {
     "data": {
      "text/plain": [
       "5"
      ]
     },
     "execution_count": 47,
     "metadata": {},
     "output_type": "execute_result"
    }
   ],
   "source": [
    "class Fruit:\n",
    "    def __init__(self,color,flavor):\n",
    "        self.color = color\n",
    "        self.flavor = flavor\n",
    "    def type(self):\n",
    "        return \"it {} types of grapes in world\".format(self.types)\n",
    "        \n",
    "class apple(Fruit):\n",
    "    pass\n",
    "class grape(Fruit):\n",
    "    types = 5\n",
    "\n",
    "newton_apple = apple(\"dark-red\",\"tart\")\n",
    "vine_green = grape(\"purple\",\"sweet\")\n",
    "\n",
    "print(newton_apple.color)\n",
    "print(newton_apple.flavor)\n",
    "print(vine_green.color)\n",
    "print(vine_green.flavor)\n",
    "print(vine_green.type())\n",
    "vine_green.types"
   ]
  },
  {
   "cell_type": "code",
   "execution_count": 81,
   "metadata": {},
   "outputs": [],
   "source": [
    "current_year = 2020\n",
    "class Person:\n",
    "    def __init__(self, name, year_born):\n",
    "        self.name = name\n",
    "        self.year = year_born\n",
    "    def getAge(self):\n",
    "        return current_year - self.year\n",
    "    def __str__(self):\n",
    "        return \"{} of age {}\".format(self.name,self.getAge())\n",
    "\n",
    "class student(Person):\n",
    "    def __init__(self, name, year_born):\n",
    "        Person.__init__(self, name, year_born)\n",
    "        self.knowledge = 0\n",
    "    def study(self):\n",
    "        self.knowledge += 1\n",
    "        \n",
    "alice = Person(\"Alice Smith\",1974)\n",
    "monik = student(\"Monik Garg\",1999)\n",
    "# alice.study() #will give error"
   ]
  },
  {
   "cell_type": "code",
   "execution_count": 82,
   "metadata": {},
   "outputs": [
    {
     "name": "stdout",
     "output_type": "stream",
     "text": [
      "46\n"
     ]
    },
    {
     "data": {
      "text/plain": [
       "21"
      ]
     },
     "execution_count": 82,
     "metadata": {},
     "output_type": "execute_result"
    }
   ],
   "source": [
    "print(alice.getAge())\n",
    "monik.getAge()"
   ]
  },
  {
   "cell_type": "code",
   "execution_count": 41,
   "metadata": {},
   "outputs": [
    {
     "name": "stdout",
     "output_type": "stream",
     "text": [
      "Monik Garg of age 21\n",
      "Alice Smith of age 46\n"
     ]
    },
    {
     "data": {
      "text/plain": [
       "1"
      ]
     },
     "execution_count": 41,
     "metadata": {},
     "output_type": "execute_result"
    }
   ],
   "source": [
    "print(monik,alice,sep=\"\\n\")\n",
    "monik.study()\n",
    "monik.knowledge"
   ]
  },
  {
   "cell_type": "code",
   "execution_count": 68,
   "metadata": {},
   "outputs": [
    {
     "name": "stdout",
     "output_type": "stream",
     "text": [
      "'Rich dad Poor dad' by Robert Kiyosaki\n"
     ]
    }
   ],
   "source": [
    "class Book():\n",
    "    def __init__(self,title,author):\n",
    "        self.title = title\n",
    "        self.author = author\n",
    "    def __str__(self):\n",
    "        return \"'{}' by {}\".format(self.title,self.author)\n",
    "    \n",
    "class PaperBook(Book):\n",
    "    def __init__(self,title,author,numPages):\n",
    "        Book.__init__(self,title,author)\n",
    "        self.pages = numPages\n",
    "        \n",
    "class EBook(Book):\n",
    "    def __init__(self,title,author,fileSize):\n",
    "        Book.__init__(self,title,author)\n",
    "        self.size = fileSize\n",
    "\n",
    "# this is composition we didn't want to inherit everything but wanted just a specfic thing so create composition for it\n",
    "# used when classes have a relationship but none of them is child of other the compostion is used\n",
    "# so is compostion we either make a list or dictionary....which contains instances of other class by calling methods\n",
    "class Library:\n",
    "    def __init__(self):\n",
    "        self.books = list()\n",
    "    def addBooks(self,book):\n",
    "        self.books.append(book)\n",
    "    def totalBooks(self):\n",
    "        return len(self.books)\n",
    "    def showBooks(self):\n",
    "        for i in self.books:\n",
    "            print(i)\n",
    "\n",
    "myBook = Book(\"Rich dad Poor dad\",\"Robert Kiyosaki\")\n",
    "book1 = PaperBook(\"Theory of everything\",\"Stephen Hawkins\",236)\n",
    "book2 = EBook(\"Python of everybody\",\"Charles Sevrance\",9.78)\n",
    "lib = Library()\n",
    "lib.addBooks(book1)\n",
    "lib.addBooks(book2)\n",
    "print(myBook)"
   ]
  },
  {
   "cell_type": "code",
   "execution_count": 76,
   "metadata": {},
   "outputs": [
    {
     "name": "stdout",
     "output_type": "stream",
     "text": [
      "236\n",
      "9.78\n",
      "\n",
      "2\n",
      "\n",
      "'Theory of everything' by Stephen Hawkins\n",
      "'Python of everybody' by Charles Sevrance\n"
     ]
    }
   ],
   "source": [
    "print(book1.pages,book2.size,sep=\"\\n\",end=\"\\n\\n\")\n",
    "print(lib.totalBooks(),end=\"\\n\\n\")\n",
    "lib.showBooks()"
   ]
  },
  {
   "cell_type": "code",
   "execution_count": 92,
   "metadata": {},
   "outputs": [],
   "source": [
    "# one more example of composition\n",
    "class Package:\n",
    "    def __init__(self,name,version,size):\n",
    "        self.name = name\n",
    "        self.version = version\n",
    "        self.size = size\n",
    "class Repo:\n",
    "    def __init__(self):\n",
    "        #mutable attributes always initialize in constructor...otherwise all instances will will point to the same list\n",
    "        self.packages = {}\n",
    "    def addPackage(self,packages):\n",
    "        self.packages[package.name] = package\n",
    "    def total_size(self):\n",
    "        result = 0\n",
    "        for package in self.packages.vaue():\n",
    "            result += package.size\n",
    "        return result"
   ]
  },
  {
   "cell_type": "code",
   "execution_count": 34,
   "metadata": {},
   "outputs": [],
   "source": [
    "# Employee inherited from Person class and some more, it has all characteristics of Person and addition information also\n",
    "\n",
    "class Person:\n",
    "    def __init__(self, fname, lname):\n",
    "        self.fname = fname\n",
    "        self.lname = lname\n",
    "\n",
    "class Employee(Person):\n",
    "    all_employees = EmployeesList()\n",
    "    def __init__(self, fname, lname, empid):\n",
    "        Person.__init__(self, fname, lname)\n",
    "        self.empid = empid\n",
    "        Employee.all_employees.append(self)\n",
    "        \n",
    "# can be used to extend inBuilt classes functionality like list and dict\n",
    "class EmployeesList(list):\n",
    "    def search(self, name):\n",
    "        matching_employees = []\n",
    "        for employee in Employee.all_employees:\n",
    "            if name in employee.fname:\n",
    "                matching_employees.append(employee.fname)\n",
    "        return matching_employees"
   ]
  },
  {
   "cell_type": "code",
   "execution_count": 35,
   "metadata": {},
   "outputs": [
    {
     "name": "stdout",
     "output_type": "stream",
     "text": [
      "George - smith\n",
      "Jack - 456342\n",
      "John - 123656\n"
     ]
    }
   ],
   "source": [
    "p1 = Person('George', 'smith')\n",
    "print(p1.fname, '-', p1.lname)\n",
    "e1 = Employee('Jack', 'simmons', 456342)\n",
    "e2 = Employee('John', 'williams', 123656)\n",
    "print(e1.fname, '-', e1.empid)\n",
    "print(e2.fname, '-', e2.empid)"
   ]
  },
  {
   "cell_type": "code",
   "execution_count": 36,
   "metadata": {},
   "outputs": [
    {
     "name": "stdout",
     "output_type": "stream",
     "text": [
      "['Jack', 'John']\n"
     ]
    },
    {
     "data": {
      "text/plain": [
       "[<__main__.Employee at 0x16742335f10>, <__main__.Employee at 0x16742136430>]"
      ]
     },
     "execution_count": 36,
     "metadata": {},
     "output_type": "execute_result"
    }
   ],
   "source": [
    "print(Employee.all_employees.search('J'))\n",
    "Employee.all_employees"
   ]
  },
  {
   "cell_type": "markdown",
   "metadata": {},
   "source": [
    "# python polymorphism\n",
    "\n",
    "Function with same name works differently in different situations"
   ]
  },
  {
   "cell_type": "code",
   "execution_count": 41,
   "metadata": {},
   "outputs": [],
   "source": [
    "class Employee(Person):\n",
    "    all_employees = EmployeesList ()\n",
    "    def __init__(self, fname, lname, empid):\n",
    "        Person.__init__(self, fname, lname)\n",
    "        self.empid = empid\n",
    "        Employee.all_employees.append(self)\n",
    "    def getSalary(self):\n",
    "        return 'You get Monthly salary.'\n",
    "    def getBonus(self):\n",
    "        return 'You are eligible for Bonus.'\n",
    "    \n",
    "class ContractEmployee(Employee):\n",
    "    def getSalary(self):\n",
    "        return 'You will not get Salary from Organization.'\n",
    "    def getBonus(self):\n",
    "        return 'You are not eligible for Bonus.'"
   ]
  },
  {
   "cell_type": "code",
   "execution_count": 43,
   "metadata": {},
   "outputs": [
    {
     "name": "stdout",
     "output_type": "stream",
     "text": [
      "You are eligible for Bonus.\n",
      "You are not eligible for Bonus.\n"
     ]
    }
   ],
   "source": [
    "# same fucntion behaves differently, if called from ContractEmployee it overrides parent class behaviour \n",
    "\n",
    "e1 = Employee('Jack', 'simmons', 456342)\n",
    "e2 = ContractEmployee('John', 'williams', 123656)\n",
    "print(e1.getBonus())\n",
    "print(e2.getBonus())"
   ]
  },
  {
   "cell_type": "code",
   "execution_count": 45,
   "metadata": {},
   "outputs": [
    {
     "data": {
      "text/plain": [
       "(22, 6)"
      ]
     },
     "execution_count": 45,
     "metadata": {},
     "output_type": "execute_result"
    }
   ],
   "source": [
    "# one more aspect of polymorphism\n",
    "# although same functions called for different data types still works the same and find lenght of each data types\n",
    "string = '1232rjwnfsndf dfsfgbs '\n",
    "lst = [1,2,3,4,1,234]\n",
    "len(string), len(lst)"
   ]
  },
  {
   "cell_type": "code",
   "execution_count": null,
   "metadata": {},
   "outputs": [],
   "source": []
  }
 ],
 "metadata": {
  "kernelspec": {
   "display_name": "Python 3",
   "language": "python",
   "name": "python3"
  },
  "language_info": {
   "codemirror_mode": {
    "name": "ipython",
    "version": 3
   },
   "file_extension": ".py",
   "mimetype": "text/x-python",
   "name": "python",
   "nbconvert_exporter": "python",
   "pygments_lexer": "ipython3",
   "version": "3.8.3"
  }
 },
 "nbformat": 4,
 "nbformat_minor": 4
}
