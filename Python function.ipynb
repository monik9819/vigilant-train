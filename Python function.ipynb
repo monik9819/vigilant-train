{
 "cells": [
  {
   "cell_type": "markdown",
   "metadata": {},
   "source": [
    "## functions\n"
   ]
  },
  {
   "cell_type": "markdown",
   "metadata": {},
   "source": [
    "all function by deafault return None if nothing is defined"
   ]
  },
  {
   "cell_type": "code",
   "execution_count": 2,
   "metadata": {},
   "outputs": [
    {
     "name": "stdout",
     "output_type": "stream",
     "text": [
      "5\n",
      "9\n"
     ]
    }
   ],
   "source": [
    "#can be assigned or printed directly\n",
    "def add1(x):\n",
    "    b = x+1\n",
    "    return b #to return this value as output of the function\n",
    "\n",
    "a = add1(4)\n",
    "print(a)\n",
    "print(add1(8))"
   ]
  },
  {
   "cell_type": "code",
   "execution_count": 11,
   "metadata": {},
   "outputs": [
    {
     "name": "stdout",
     "output_type": "stream",
     "text": [
      "Help on function doc in module __main__:\n",
      "\n",
      "doc()\n",
      "    this is the documentation\n",
      "    for the function which can\n",
      "    be viewed with help of help() fucntion\n",
      "\n"
     ]
    }
   ],
   "source": [
    "#use triple quotes and write all documentation onces under one quotes \n",
    "def doc():\n",
    "    '''this is the documentation\n",
    "    for the function which can\n",
    "    be viewed with help of help() fucntion'''\n",
    "    pass #function, loop and contional blocks can't be kept empty so put pass to avoid error\n",
    "\n",
    "help(doc) "
   ]
  },
  {
   "cell_type": "code",
   "execution_count": 3,
   "metadata": {},
   "outputs": [
    {
     "name": "stdout",
     "output_type": "stream",
     "text": [
      "monik\n",
      "garg\n",
      "\n",
      "\n",
      "monik\n",
      "garg\n"
     ]
    }
   ],
   "source": [
    "def art(*na):\n",
    "    for i in na:\n",
    "        print(i)\n",
    "\n",
    "art(\"monik\",\"garg\") #if want to colllect all variables add \n",
    "\n",
    "print(end=\"\\n\\n\")\n",
    "\n",
    "def ar(na):\n",
    "    for i in na:\n",
    "        print(i)\n",
    "\n",
    "ar((\"monik\",\"garg\"))"
   ]
  },
  {
   "cell_type": "code",
   "execution_count": 23,
   "metadata": {},
   "outputs": [
    {
     "name": "stdout",
     "output_type": "stream",
     "text": [
      "acdc\n",
      "5\n"
     ]
    }
   ],
   "source": [
    "#their is non-conflict between local and global variable\n",
    "def addDc(x): \n",
    "    x+=\"dc\" #x is local variable\n",
    "    y = 1\n",
    "    print(x)\n",
    "\n",
    "y = 5\n",
    "x = \"ac\" #is global variable\n",
    "addDc(x)\n",
    "print(y)"
   ]
  },
  {
   "cell_type": "code",
   "execution_count": 31,
   "metadata": {},
   "outputs": [
    {
     "name": "stdout",
     "output_type": "stream",
     "text": [
      "8\n",
      "5\n"
     ]
    }
   ],
   "source": [
    "#but global variable can be accessed by function if no value is assigned to it inside the function\n",
    "def ABdc(y):\n",
    "    z = rating + y #can't assign value to rating here\n",
    "    \n",
    "    return z\n",
    "\n",
    "rating = 5\n",
    "print(ABdc(3)) \n",
    "print(rating) #it value remains unchanged"
   ]
  },
  {
   "cell_type": "code",
   "execution_count": 11,
   "metadata": {},
   "outputs": [
    {
     "name": "stdout",
     "output_type": "stream",
     "text": [
      "43\n",
      "22\n",
      "4\n"
     ]
    }
   ],
   "source": [
    "#if inside finction defined global variable can use anywhere\n",
    "def name(y):\n",
    "    monik = 21\n",
    "    global garg\n",
    "    garg = 4\n",
    "    print(monik+y)\n",
    "    \n",
    "vidhi = 22\n",
    "name(vidhi)\n",
    "print(vidhi)\n",
    "print(garg)\n",
    "#print(monik) # will give error comment and run will print garg"
   ]
  },
  {
   "cell_type": "markdown",
   "metadata": {},
   "source": [
    "\n",
    "## Higher order Functions\n",
    "it is capable of doing any one of the following things:\n",
    "    1. It can be functioned as a data and be assigned to a variable.\n",
    "    2. It can accept any other function as an argument.\n",
    "    3. It can return a function as its result.\n",
    "<br>\n",
    "The ability to build Higher order functions, allows a programmer to create Closures, which in turn are used to create Decorators."
   ]
  },
  {
   "cell_type": "code",
   "execution_count": 2,
   "metadata": {},
   "outputs": [
    {
     "name": "stdout",
     "output_type": "stream",
     "text": [
      "Hello Everyone!\n",
      "<class 'function'>\n",
      "Hello Everyone!\n"
     ]
    }
   ],
   "source": [
    "# funtion as a data\n",
    "def greet():\n",
    "    return 'Hello Everyone!'\n",
    "\n",
    "print(greet())\n",
    "\n",
    "# 'greet' function assigned to variable 'wish'\n",
    "wish = greet\n",
    "\n",
    "print(type(wish))   \n",
    "print(wish())  "
   ]
  },
  {
   "cell_type": "code",
   "execution_count": 3,
   "metadata": {},
   "outputs": [
    {
     "name": "stdout",
     "output_type": "stream",
     "text": [
      "16\n",
      "8\n",
      "48\n"
     ]
    }
   ],
   "source": [
    "# function as an argument\n",
    "def add(x, y):\n",
    "    return x + y\n",
    "\n",
    "def sub(x, y):\n",
    "    return x - y\n",
    "\n",
    "def prod(x, y):\n",
    "    return x * y\n",
    "\n",
    "def do(func, x, y):\n",
    "    return func(x, y)\n",
    "\n",
    "print(do(add, 12, 4))  # 'add' as arg\n",
    "print(do(sub, 12, 4))  # 'sub' as arg\n",
    "print(do(prod, 12, 4)) # 'prod' as arg"
   ]
  },
  {
   "cell_type": "code",
   "execution_count": 12,
   "metadata": {},
   "outputs": [
    {
     "name": "stdout",
     "output_type": "stream",
     "text": [
      "Hello world!\n",
      "<class 'str'>\n"
     ]
    }
   ],
   "source": [
    "# returning a function\n",
    "\n",
    "def outer():\n",
    "    def inner():\n",
    "        s = 'Hello world!'\n",
    "        return s            \n",
    "\n",
    "    return inner()    \n",
    "\n",
    "x = outer()\n",
    "print(x, type(x), sep='\\n')"
   ]
  },
  {
   "cell_type": "code",
   "execution_count": 13,
   "metadata": {},
   "outputs": [
    {
     "name": "stdout",
     "output_type": "stream",
     "text": [
      "Hello world!\n"
     ]
    }
   ],
   "source": [
    "# returns the value of output function is actually return value for inner function\n",
    "\n",
    "def inner():\n",
    "    s = 'Hello world!'\n",
    "    return s  \n",
    "\n",
    "def outer():    \n",
    "    return inner()    \n",
    "\n",
    "print(outer())"
   ]
  },
  {
   "cell_type": "code",
   "execution_count": 16,
   "metadata": {},
   "outputs": [
    {
     "name": "stdout",
     "output_type": "stream",
     "text": [
      "<function inner at 0x0000014CFE7C9700>\n",
      "<class 'function'>\n",
      "Hello world!\n"
     ]
    }
   ],
   "source": [
    "def inner():\n",
    "    s = 'Hello world!'\n",
    "    return s  \n",
    "\n",
    "def outer():    \n",
    "    return inner  \n",
    "\n",
    "x = outer()\n",
    "\n",
    "#returns 'inner' function\n",
    "print(x, type(x), sep='\\n')\n",
    "\n",
    "# calling 'inner' function\n",
    "print(x())"
   ]
  },
  {
   "cell_type": "markdown",
   "metadata": {},
   "source": [
    "## closures\n",
    "\n",
    "function returned by a higher order function, whose return value depends on the data associated with the higher order function."
   ]
  },
  {
   "cell_type": "code",
   "execution_count": 17,
   "metadata": {},
   "outputs": [
    {
     "name": "stdout",
     "output_type": "stream",
     "text": [
      "20\n",
      "24\n"
     ]
    }
   ],
   "source": [
    "def multiple_of(x):\n",
    "    def multiple(y):\n",
    "        return x*y\n",
    "    return multiple\n",
    "c1 = multiple_of(5)  # 'c1' is a closure\n",
    "c2 = multiple_of(6)  # 'c2' is a closure\n",
    "print(c1(4))\n",
    "print(c2(4))"
   ]
  },
  {
   "cell_type": "code",
   "execution_count": null,
   "metadata": {},
   "outputs": [],
   "source": []
  }
 ],
 "metadata": {
  "kernelspec": {
   "display_name": "Python 3",
   "language": "python",
   "name": "python3"
  },
  "language_info": {
   "codemirror_mode": {
    "name": "ipython",
    "version": 3
   },
   "file_extension": ".py",
   "mimetype": "text/x-python",
   "name": "python",
   "nbconvert_exporter": "python",
   "pygments_lexer": "ipython3",
   "version": "3.8.3"
  }
 },
 "nbformat": 4,
 "nbformat_minor": 2
}
