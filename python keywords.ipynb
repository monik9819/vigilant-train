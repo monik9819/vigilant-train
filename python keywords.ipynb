{
 "cells": [
  {
   "cell_type": "markdown",
   "metadata": {},
   "source": [
    "# Python keywords "
   ]
  },
  {
   "cell_type": "markdown",
   "metadata": {},
   "source": [
    "### with"
   ]
  },
  {
   "cell_type": "code",
   "execution_count": 6,
   "metadata": {},
   "outputs": [
    {
     "name": "stdout",
     "output_type": "stream",
     "text": [
      "hi this is monik\n"
     ]
    }
   ],
   "source": [
    "with open(\"vm.txt\",\"r\") as fh1:\n",
    "    print(fh1.read())\n",
    "    "
   ]
  },
  {
   "cell_type": "code",
   "execution_count": null,
   "metadata": {},
   "outputs": [],
   "source": []
  },
  {
   "cell_type": "code",
   "execution_count": null,
   "metadata": {},
   "outputs": [],
   "source": []
  },
  {
   "cell_type": "markdown",
   "metadata": {},
   "source": [
    "### assert \n",
    "\n",
    "used while debugging the code and if assertion is not True raise a run time error with error message <code>AssertionError</code>\n",
    "which can be modified and if true nothing happens"
   ]
  },
  {
   "cell_type": "code",
   "execution_count": 1,
   "metadata": {},
   "outputs": [],
   "source": [
    "x = 56\n",
    "y = 56\n",
    "assert x==y"
   ]
  },
  {
   "cell_type": "code",
   "execution_count": null,
   "metadata": {},
   "outputs": [],
   "source": [
    "y = 40\n",
    "assert x==y"
   ]
  },
  {
   "cell_type": "code",
   "execution_count": null,
   "metadata": {},
   "outputs": [],
   "source": [
    "# modified error statement\n",
    "assert x==y, \"change value of y\""
   ]
  },
  {
   "cell_type": "code",
   "execution_count": null,
   "metadata": {},
   "outputs": [],
   "source": []
  },
  {
   "cell_type": "markdown",
   "metadata": {},
   "source": [
    "### del\n",
    "\n",
    "to delete any object, data type user-defined object, variable"
   ]
  },
  {
   "cell_type": "code",
   "execution_count": 1,
   "metadata": {},
   "outputs": [],
   "source": [
    "lst = [1,2,3,4]"
   ]
  },
  {
   "cell_type": "code",
   "execution_count": 2,
   "metadata": {},
   "outputs": [],
   "source": [
    "del lst"
   ]
  },
  {
   "cell_type": "code",
   "execution_count": 3,
   "metadata": {},
   "outputs": [
    {
     "ename": "NameError",
     "evalue": "name 'lst' is not defined",
     "output_type": "error",
     "traceback": [
      "\u001b[1;31m---------------------------------------------------------------------------\u001b[0m",
      "\u001b[1;31mNameError\u001b[0m                                 Traceback (most recent call last)",
      "\u001b[1;32m<ipython-input-3-b5cada25ed2a>\u001b[0m in \u001b[0;36m<module>\u001b[1;34m\u001b[0m\n\u001b[1;32m----> 1\u001b[1;33m \u001b[0mlst\u001b[0m\u001b[1;33m\u001b[0m\u001b[1;33m\u001b[0m\u001b[0m\n\u001b[0m",
      "\u001b[1;31mNameError\u001b[0m: name 'lst' is not defined"
     ]
    }
   ],
   "source": [
    "lst"
   ]
  },
  {
   "cell_type": "markdown",
   "metadata": {},
   "source": [
    "### nonlocal\n",
    "is used to work with variables inside nested functions, where the variable should not belong to the inner function.\n",
    "<br>The nonlocal keyword is used in nested functions to reference a variable in the parent function. \n",
    "<br><br>\n",
    "can be used only in nested structures<br>\n",
    "can't be used to reference global or local variables<br>\n",
    "saves memory"
   ]
  },
  {
   "cell_type": "code",
   "execution_count": 2,
   "metadata": {},
   "outputs": [
    {
     "name": "stdout",
     "output_type": "stream",
     "text": [
      "John\n"
     ]
    }
   ],
   "source": [
    "# the variable x inside myfunc2 is local variable and doesn't exit outside it\n",
    "def myfunc1():\n",
    "  x = \"John\"\n",
    "  def myfunc2():\n",
    "    x = \"hello\"\n",
    "  myfunc2() \n",
    "  return x\n",
    "\n",
    "print(myfunc1())"
   ]
  },
  {
   "cell_type": "code",
   "execution_count": 3,
   "metadata": {},
   "outputs": [
    {
     "name": "stdout",
     "output_type": "stream",
     "text": [
      "hello\n"
     ]
    }
   ],
   "source": [
    "# but with nonlocal keyword is can be assesed throughtout the functions\n",
    "def myfunc1():\n",
    "  x = \"John\"\n",
    "  def myfunc2():\n",
    "    nonlocal x\n",
    "    x = \"hello\"\n",
    "  myfunc2() \n",
    "  return x\n",
    "\n",
    "print(myfunc1())"
   ]
  },
  {
   "cell_type": "code",
   "execution_count": 4,
   "metadata": {},
   "outputs": [
    {
     "ename": "SyntaxError",
     "evalue": "no binding for nonlocal 'global_name' found (<ipython-input-4-2a857cd330c1>, line 11)",
     "output_type": "error",
     "traceback": [
      "\u001b[1;36m  File \u001b[1;32m\"<ipython-input-4-2a857cd330c1>\"\u001b[1;36m, line \u001b[1;32m11\u001b[0m\n\u001b[1;33m    nonlocal global_name        # Try to reference global variable\u001b[0m\n\u001b[1;37m    ^\u001b[0m\n\u001b[1;31mSyntaxError\u001b[0m\u001b[1;31m:\u001b[0m no binding for nonlocal 'global_name' found\n"
     ]
    }
   ],
   "source": [
    "# Declaring a global variable\n",
    "global_name = 'geeksforgeeks'\n",
    " \n",
    " \n",
    "def foo():\n",
    "   \n",
    "    # Defining inner function\n",
    "    def bar():\n",
    "       \n",
    "        # Declaring nonlocal variable\n",
    "        nonlocal global_name        # Try to reference global variable\n",
    "        global_name = 'GeeksForGeeks'# Try to overwrite it\n",
    "        print(global_name)\n",
    "         \n",
    "    # Calling inner function\n",
    "    bar()\n",
    "     \n",
    "foo()"
   ]
  },
  {
   "cell_type": "code",
   "execution_count": 5,
   "metadata": {},
   "outputs": [
    {
     "name": "stdout",
     "output_type": "stream",
     "text": [
      "Geek\n",
      "GEEK\n",
      "geek\n"
     ]
    }
   ],
   "source": [
    "def foo():\n",
    "    # Local variable of foo()\n",
    "    name = \"geek\"\n",
    " \n",
    "    # First inner function\n",
    "    def bar():\n",
    "        name = \"Geek\"\n",
    "        # Second inner function\n",
    "        def ack():\n",
    "            nonlocal name # Reference to the next upper variable with this name\n",
    "            print(name)   # Print the value of the referenced variable\n",
    "            name = 'GEEK' # Overwrite the referenced variable\n",
    "            print(name)\n",
    " \n",
    "        ack() # Calling second inner function\n",
    "     \n",
    "    bar() # Calling first inner function\n",
    "    print(name) # Printing local variable of bar()\n",
    " \n",
    "foo()"
   ]
  },
  {
   "cell_type": "code",
   "execution_count": 10,
   "metadata": {},
   "outputs": [
    {
     "name": "stdout",
     "output_type": "stream",
     "text": [
      "1\n",
      "2\n",
      "3\n",
      "End of my_counter\n",
      "1\n",
      "2\n",
      "3\n",
      "End of new_counter\n"
     ]
    }
   ],
   "source": [
    "# Our counter function\n",
    "def counter():\n",
    "    c = 0 # Local counter variable\n",
    "   \n",
    "  # This function manipulate the\n",
    "  # local c variable, when called\n",
    "    def count():\n",
    "        nonlocal c\n",
    "        c += 1\n",
    "        return c\n",
    "   \n",
    "  # Return the count() function to manipulate\n",
    "  # the local c variable on every call\n",
    "    return count\n",
    " \n",
    "# Assign the result of counter() to\n",
    "# a variable which we use to count up\n",
    "my_counter = counter()\n",
    "for i in range(3):\n",
    "    print(my_counter())\n",
    "print('End of my_counter')\n",
    "   \n",
    "# Create a new counter\n",
    "new_counter1 = counter()\n",
    "for i in range(3):\n",
    "    print(new_counter1())\n",
    "print('End of new_counter')"
   ]
  },
  {
   "cell_type": "code",
   "execution_count": null,
   "metadata": {},
   "outputs": [],
   "source": []
  }
 ],
 "metadata": {
  "kernelspec": {
   "display_name": "Python 3",
   "language": "python",
   "name": "python3"
  },
  "language_info": {
   "codemirror_mode": {
    "name": "ipython",
    "version": 3
   },
   "file_extension": ".py",
   "mimetype": "text/x-python",
   "name": "python",
   "nbconvert_exporter": "python",
   "pygments_lexer": "ipython3",
   "version": "3.8.3"
  }
 },
 "nbformat": 4,
 "nbformat_minor": 4
}
