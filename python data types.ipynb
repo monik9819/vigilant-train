{
 "cells": [
  {
   "cell_type": "markdown",
   "metadata": {},
   "source": [
    "# Python notes 1\n",
    "datatypes, type casting"
   ]
  },
  {
   "cell_type": "markdown",
   "metadata": {},
   "source": [
    "## 1. Data types"
   ]
  },
  {
   "cell_type": "markdown",
   "metadata": {},
   "source": [
    "### 1.1. Numeric data\n",
    "\n",
    "It consist of integer, float and complex only.<br/>In Python there is no limit to how long an integer value can be and saves both +ve and -ve whole numbers don't need to specify signed or unsigned.<br/>\n",
    "Whereas numpy offeres greater vareity of data types as double, single, long double, etc. to check in documnetation clink on the given link\n",
    "[numpy doc for data types](https://numpy.org/devdocs/user/basics.types.html).<br/>"
   ]
  },
  {
   "cell_type": "code",
   "execution_count": 12,
   "metadata": {},
   "outputs": [
    {
     "data": {
      "text/plain": [
       "complex"
      ]
     },
     "execution_count": 12,
     "metadata": {},
     "output_type": "execute_result"
    }
   ],
   "source": [
    "# example for complex\n",
    "\n",
    "a = 3 + 2j #complex no. = (real no.) + (img no.)j\n",
    "type(a) #used to determine the data type"
   ]
  },
  {
   "cell_type": "code",
   "execution_count": 65,
   "metadata": {},
   "outputs": [
    {
     "name": "stdout",
     "output_type": "stream",
     "text": [
      "4+7j\n"
     ]
    },
    {
     "data": {
      "text/plain": [
       "4.0"
      ]
     },
     "execution_count": 65,
     "metadata": {},
     "output_type": "execute_result"
    }
   ],
   "source": [
    "a = complex(input())\n",
    "a.real"
   ]
  },
  {
   "cell_type": "code",
   "execution_count": 71,
   "metadata": {},
   "outputs": [
    {
     "data": {
      "text/plain": [
       "(4-7j)"
      ]
     },
     "execution_count": 71,
     "metadata": {},
     "output_type": "execute_result"
    }
   ],
   "source": [
    "a.conjugate()"
   ]
  },
  {
   "cell_type": "code",
   "execution_count": 68,
   "metadata": {},
   "outputs": [
    {
     "name": "stdout",
     "output_type": "stream",
     "text": [
      "<class 'complex'>\n",
      "(4+7j)\n"
     ]
    }
   ],
   "source": [
    "print(type(a),a,sep=\"\\n\")"
   ]
  },
  {
   "cell_type": "markdown",
   "metadata": {},
   "source": [
    "to get information about float that max number it can save, max decimals it save etc used <code>sys.float_info</code> and <code>import sys</code> beforehand then call the attribute required to exact following info check the [attribute here](https://docs.python.org/3/library/sys.html)."
   ]
  },
  {
   "cell_type": "code",
   "execution_count": 4,
   "metadata": {},
   "outputs": [
    {
     "data": {
      "text/plain": [
       "15"
      ]
     },
     "execution_count": 4,
     "metadata": {},
     "output_type": "execute_result"
    }
   ],
   "source": [
    "import sys\n",
    "sys.float_info.dig #tells max no. of decimal"
   ]
  },
  {
   "cell_type": "code",
   "execution_count": 5,
   "metadata": {},
   "outputs": [
    {
     "data": {
      "text/plain": [
       "15"
      ]
     },
     "execution_count": 5,
     "metadata": {},
     "output_type": "execute_result"
    }
   ],
   "source": [
    "from sys import float_info\n",
    "float_info.dig"
   ]
  },
  {
   "cell_type": "markdown",
   "metadata": {},
   "source": [
    "### 1.2. Boolean\n",
    "\n",
    "It consist of two inbuilt values <code>True</code> and <code>False</code>, and happen to be keywords so can't be assinged as function or variable name. <code>True</code> in interger in denoted as 1 and <code>False</code> as 0.<br/> true and false aren't booleans.<br/>Some inbuilt functions and even logical operator provied boolean output."
   ]
  },
  {
   "cell_type": "code",
   "execution_count": null,
   "metadata": {},
   "outputs": [],
   "source": [
    "# example for boolean\n",
    "a = True \n",
    "type(a)"
   ]
  },
  {
   "cell_type": "code",
   "execution_count": null,
   "metadata": {},
   "outputs": [],
   "source": [
    "type(False)"
   ]
  },
  {
   "cell_type": "code",
   "execution_count": null,
   "metadata": {},
   "outputs": [],
   "source": [
    "type(3>2) "
   ]
  },
  {
   "cell_type": "code",
   "execution_count": 6,
   "metadata": {},
   "outputs": [
    {
     "data": {
      "text/plain": [
       "2"
      ]
     },
     "execution_count": 6,
     "metadata": {},
     "output_type": "execute_result"
    }
   ],
   "source": [
    "a=3>2\n",
    "a+1 #even can perform arthematic operation on it as True also means 1."
   ]
  },
  {
   "cell_type": "code",
   "execution_count": null,
   "metadata": {},
   "outputs": [],
   "source": [
    "#can't add with other string as True is not sting\n",
    "\"it's \"+a+\" that u are one big *******\"\n",
    "#run it will throw a error"
   ]
  },
  {
   "cell_type": "code",
   "execution_count": null,
   "metadata": {},
   "outputs": [],
   "source": [
    "c = true #as they are not boolean and neither string so python gives error\n",
    "type(true)\n",
    "#run it will throw a error"
   ]
  },
  {
   "cell_type": "code",
   "execution_count": null,
   "metadata": {},
   "outputs": [],
   "source": [
    "cold = False\n",
    "hot = True\n",
    "if cold:  # this wasn't excuted as it had False value\n",
    "    print(\"it's very cold nowdays\")\n",
    "elif hot:\n",
    "    print(\"nope it's damn hot\")"
   ]
  },
  {
   "cell_type": "markdown",
   "metadata": {},
   "source": [
    "### 1.3. Dictionaries\n",
    "\n"
   ]
  },
  {
   "cell_type": "markdown",
   "metadata": {},
   "source": [
    "it has a key-value pair<br>\n",
    "are mutable<br>\n",
    "keys have to be unique for each value while values can be same<br>\n",
    "similar to list just as index have here key and can perform operations onto it<br>\n",
    "also known as associative arrays\n",
    "\n",
    "\n",
    "###### keys can be any immutable data type as number, string and tuple......can't be list (as is mutable)"
   ]
  },
  {
   "cell_type": "code",
   "execution_count": 1,
   "metadata": {},
   "outputs": [
    {
     "data": {
      "text/plain": [
       "{'a': 'sdfsa', 's': 'adad'}"
      ]
     },
     "execution_count": 1,
     "metadata": {},
     "output_type": "execute_result"
    }
   ],
   "source": [
    "y = {\"a\":\"sadad\",\"s\":\"adad\",\"a\":\"sdfsa\"}\n",
    "y #had same key so the first got overwritten by the second occurrence"
   ]
  },
  {
   "cell_type": "code",
   "execution_count": 5,
   "metadata": {},
   "outputs": [
    {
     "data": {
      "text/plain": [
       "{'fav pasta': 'pink sauce',\n",
       " 'fav rice': 'fried schezwan egg rice',\n",
       " 'fruit': 'watermelon'}"
      ]
     },
     "execution_count": 5,
     "metadata": {},
     "output_type": "execute_result"
    }
   ],
   "source": [
    "food = dict()\n",
    "food[\"fav pasta\"] = \"pink sauce\"\n",
    "food[\"fav rice\"] = \"fried schezwan egg rice\"\n",
    "food[\"fruit\"] = \"watermelon\"\n",
    "food"
   ]
  },
  {
   "cell_type": "code",
   "execution_count": 33,
   "metadata": {},
   "outputs": [
    {
     "data": {
      "text/plain": [
       "'watermelon and sunmelon'"
      ]
     },
     "execution_count": 33,
     "metadata": {},
     "output_type": "execute_result"
    }
   ],
   "source": [
    "food[\"fruit\"] = food[\"fruit\"] + \" and sunmelon\"\n",
    "food[\"fruit\"]"
   ]
  },
  {
   "cell_type": "code",
   "execution_count": 8,
   "metadata": {},
   "outputs": [
    {
     "data": {
      "text/plain": [
       "41.17"
      ]
     },
     "execution_count": 8,
     "metadata": {},
     "output_type": "execute_result"
    }
   ],
   "source": [
    "marks = {\"sem1\":6.92,\"sem2\":6.32,\"sem3\":7.61,\"sem4\":6.7,\"sem5\":6.3,\"sem6\":7.32}\n",
    "sum(marks.values())"
   ]
  },
  {
   "cell_type": "code",
   "execution_count": 35,
   "metadata": {},
   "outputs": [
    {
     "name": "stdout",
     "output_type": "stream",
     "text": [
      "pink sauce\n"
     ]
    }
   ],
   "source": [
    "i = \"fav pasta\" # can use in operator for keys but not for values\n",
    "if i in food:\n",
    "    print(food[i])"
   ]
  },
  {
   "cell_type": "code",
   "execution_count": 28,
   "metadata": {},
   "outputs": [
    {
     "name": "stdout",
     "output_type": "stream",
     "text": [
      "sem1 6.92\n",
      "sem2 6.32\n",
      "sem3 7.61\n",
      "sem4 6.7\n",
      "sem5 6.3\n",
      "sem6 7.32\n",
      "\n",
      "other way\n",
      "sem1 6.92\n",
      "sem2 6.32\n",
      "sem3 7.61\n",
      "sem4 6.7\n",
      "sem5 6.3\n",
      "sem6 7.32\n"
     ]
    }
   ],
   "source": [
    "for keys in marks:\n",
    "    print(keys, marks[keys])\n",
    "print(\"\")\n",
    "print(\"other way\")\n",
    "for k,v in marks.items():\n",
    "    print(k,v) #gives tuples of each pair in a list"
   ]
  },
  {
   "cell_type": "code",
   "execution_count": 11,
   "metadata": {},
   "outputs": [
    {
     "name": "stdout",
     "output_type": "stream",
     "text": [
      "['sem1', 'sem2', 'sem3', 'sem4', 'sem5', 'sem6']\n",
      "[6.92, 6.32, 7.61, 6.7, 6.3, 7.32]\n",
      "['sem1', 'sem2', 'sem3', 'sem4', 'sem5', 'sem6']\n",
      "[('sem1', 6.92), ('sem2', 6.32), ('sem3', 7.61), ('sem4', 6.7), ('sem5', 6.3), ('sem6', 7.32)]\n",
      "7.61\n"
     ]
    }
   ],
   "source": [
    "print(list(marks))\n",
    "print(list(marks.values()))\n",
    "print(list(marks.keys()))\n",
    "print(list(marks.items()))\n",
    "print(marks.get(\"sem3\"))"
   ]
  },
  {
   "cell_type": "code",
   "execution_count": 5,
   "metadata": {},
   "outputs": [
    {
     "data": {
      "text/plain": [
       "{'fav': 'cheese burst pizza', 'drink': 'freak shake'}"
      ]
     },
     "execution_count": 5,
     "metadata": {},
     "output_type": "execute_result"
    }
   ],
   "source": [
    "food = {\"fav\":\"pizza\",\"drink\":\"freak shake\"}\n",
    "food.update(fav=\"cheese burst pizza\")\n",
    "food"
   ]
  },
  {
   "cell_type": "markdown",
   "metadata": {},
   "source": [
    "###### to delete all items of dictionary "
   ]
  },
  {
   "cell_type": "code",
   "execution_count": 19,
   "metadata": {},
   "outputs": [
    {
     "data": {
      "text/plain": [
       "{}"
      ]
     },
     "execution_count": 19,
     "metadata": {},
     "output_type": "execute_result"
    }
   ],
   "source": [
    "# to clear the dictionary use clear method\n",
    "food.clear()\n",
    "food"
   ]
  },
  {
   "cell_type": "markdown",
   "metadata": {},
   "source": [
    "###### to delete key-value pair together from dictonary"
   ]
  },
  {
   "cell_type": "code",
   "execution_count": 31,
   "metadata": {},
   "outputs": [
    {
     "data": {
      "text/plain": [
       "{'sem1': 6.92, 'sem2': 6.32, 'sem3': 7.61, 'sem5': 6.3, 'sem6': 7.32}"
      ]
     },
     "execution_count": 31,
     "metadata": {},
     "output_type": "execute_result"
    }
   ],
   "source": [
    "# delete a key, value from dictionary\n",
    "del marks[\"sem4\"]\n",
    "marks"
   ]
  },
  {
   "cell_type": "markdown",
   "metadata": {},
   "source": [
    "###### Q.1 count the number of entry for each name and add it in dictonary if doesn't exits already?"
   ]
  },
  {
   "cell_type": "code",
   "execution_count": 8,
   "metadata": {},
   "outputs": [
    {
     "name": "stdout",
     "output_type": "stream",
     "text": [
      "monik\n",
      "Monik\n",
      "Vidi\n",
      "ViDi\n",
      "vidi\n",
      "butterfly\n",
      "done\n",
      "{'monik': 2, 'vidi': 3, 'butterfly': 1}\n"
     ]
    }
   ],
   "source": [
    "# solution 1\n",
    "count = dict()\n",
    "while True:\n",
    "    user = input().lower()\n",
    "    if user == \"done\":\n",
    "        break\n",
    "    if user in count:\n",
    "        count[user] = count[user] + 1\n",
    "    else:\n",
    "        count[user] = 1\n",
    "print(count)"
   ]
  },
  {
   "cell_type": "code",
   "execution_count": 11,
   "metadata": {},
   "outputs": [
    {
     "name": "stdout",
     "output_type": "stream",
     "text": [
      "monik\n",
      "monIK\n",
      "VIDI\n",
      "viDi\n",
      "vidhi\n",
      "vid\n",
      "done\n",
      "{'monik': 2, 'vidi': 2, 'vidhi': 1, 'vid': 1}\n"
     ]
    }
   ],
   "source": [
    "# solution 2 using get method\n",
    "counts = dict()\n",
    "while True:\n",
    "    user = input().lower()\n",
    "    if user == \"done\":\n",
    "        break\n",
    "    counts[user] = counts.get(user,0) + 1 # if key doesn't exits then sets default value 0 and then adds 1 to it, otherwise\n",
    "                                          # calls the key and adds one to its value.\n",
    "print(counts)"
   ]
  },
  {
   "cell_type": "markdown",
   "metadata": {},
   "source": [
    "###### Q2. the max number of word in given file and it count? "
   ]
  },
  {
   "cell_type": "code",
   "execution_count": 28,
   "metadata": {},
   "outputs": [
    {
     "name": "stdout",
     "output_type": "stream",
     "text": [
      "enter file name: mbox-short.txt\n",
      "Jan 352\n"
     ]
    }
   ],
   "source": [
    "name = input(\"enter file name: \")\n",
    "fh = open(name)\n",
    "counter = dict()\n",
    "for line in fh:\n",
    "    words = line.split() #list of all words in line\n",
    "    for word in words:\n",
    "        counter[word] = counter.get(word,0) + 1 # make counter of all words\n",
    "        \n",
    "bigcount = None\n",
    "bigword = None\n",
    "for word, count in counter.items():\n",
    "    if bigcount is None or count > bigcount: #check the max count and then saving the key and value in big word and count\n",
    "        bigword = word\n",
    "        bigcount = count\n",
    "print(bigword, bigcount)"
   ]
  },
  {
   "cell_type": "markdown",
   "metadata": {},
   "source": [
    "###### Q3. print the count and email which send maximun number of emails in the given file "
   ]
  },
  {
   "cell_type": "code",
   "execution_count": null,
   "metadata": {},
   "outputs": [],
   "source": [
    "name = input(\"Enter file:\")\n",
    "if len(name) < 1 : name = \"mbox-short.txt\"\n",
    "handle = open(name)\n",
    "\n",
    "lst = list()\n",
    "count = dict()\n",
    "for line in handle:\n",
    "    if line.startswith(\"From \"):\n",
    "        mail = line.split()\n",
    "        count[mail[1]] = count.get(mail[1],0) + 1\n",
    "        \n",
    "bigcount = None\n",
    "bigword = None\n",
    "\n",
    "for word, counter in count.items():\n",
    "    if bigcount is None or counter > bigcount:\n",
    "        bigword = word\n",
    "        bigcount = counter\n",
    "        \n",
    "print(bigword, bigcount)"
   ]
  },
  {
   "cell_type": "markdown",
   "metadata": {},
   "source": [
    "### 1.4. Sequence type\n",
    "\n",
    "sequence is the ordered collection of similar or different data types<br>it further contains 3 types in it<br><br>\n",
    "<strong>string<br>list<br>tuple</strong>\n"
   ]
  },
  {
   "cell_type": "markdown",
   "metadata": {},
   "source": [
    "#### 1.4.1. Strings\n",
    "defined as sequential collections of characters<br>\n",
    "a char of length one is string (in python no char data type)<br>can be used to save text, number and character, as long as it's present between single, double or triple quotes.<br>\n",
    "strings are immutable that's why we save them to other variable when have to change content<br>\n",
    "the string in quotes follow precedence as given below<br>\n",
    "''' enter the string '''  <strong>or</strong>  \"\"\" enter the string \"\"\"<br>\n",
    " '' enter the string ''<br>\n",
    "  ' enter the string '<br>"
   ]
  },
  {
   "cell_type": "code",
   "execution_count": 4,
   "metadata": {},
   "outputs": [
    {
     "name": "stdout",
     "output_type": "stream",
     "text": [
      "example for precedence, i quote\"i said that u are one of those's %@^@$^@^ \"\n"
     ]
    }
   ],
   "source": [
    "str1 = '''example for precedence, i quote\"i said that u are one of those's %@^@$^@^ \"'''\n",
    "print(str1)"
   ]
  },
  {
   "cell_type": "code",
   "execution_count": 3,
   "metadata": {},
   "outputs": [
    {
     "name": "stdout",
     "output_type": "stream",
     "text": [
      "hi name is monik, garg monik\n"
     ]
    }
   ],
   "source": [
    "dstr1 = \"\"\"hi name is monik, garg monik\"\"\"\n",
    "print(dstr1)"
   ]
  },
  {
   "cell_type": "code",
   "execution_count": 6,
   "metadata": {},
   "outputs": [
    {
     "name": "stdout",
     "output_type": "stream",
     "text": [
      "0\n"
     ]
    },
    {
     "data": {
      "text/plain": [
       "1"
      ]
     },
     "execution_count": 6,
     "metadata": {},
     "output_type": "execute_result"
    }
   ],
   "source": [
    "emp = \"\"\n",
    "f1 = \" \"\n",
    "print(len(emp))\n",
    "len(f1)"
   ]
  },
  {
   "cell_type": "markdown",
   "metadata": {},
   "source": [
    "means if tripple quote is used can include single and double quote easily, if not do the following done below"
   ]
  },
  {
   "cell_type": "code",
   "execution_count": 2,
   "metadata": {},
   "outputs": [
    {
     "name": "stdout",
     "output_type": "stream",
     "text": [
      "did u see any movies lately i haven't watched like for ever\n"
     ]
    }
   ],
   "source": [
    "print('did u see any movies lately i haven\\'t watched like for ever') #in haven't single quotes is used with back slash"
   ]
  },
  {
   "cell_type": "markdown",
   "metadata": {},
   "source": [
    "triple quotes used to store multiline string, but it stores it as it is"
   ]
  },
  {
   "cell_type": "code",
   "execution_count": 7,
   "metadata": {},
   "outputs": [
    {
     "name": "stdout",
     "output_type": "stream",
     "text": [
      "hi\n",
      "         monik  \n",
      "here, what are u doing\n"
     ]
    }
   ],
   "source": [
    "print('''hi\n",
    "         monik  \n",
    "here, what are u doing''') # as monik was intended here so it was printed intended"
   ]
  },
  {
   "cell_type": "markdown",
   "metadata": {},
   "source": [
    "data slicing is easy here are few examples here<br>it goes upto second argument but doesn't include it "
   ]
  },
  {
   "cell_type": "code",
   "execution_count": 15,
   "metadata": {},
   "outputs": [
    {
     "name": "stdout",
     "output_type": "stream",
     "text": [
      "y,ia \n",
      "bad handwriti\n",
      "hi guys, i am learing python and making digital notes as got bad handwritin\n",
      "gnitirwdnah dab tog sa seton latigid gnikam dna nohtyp gnirael ma i ,syug ih\n",
      "handwriting\n"
     ]
    }
   ],
   "source": [
    "txt = \"hi guys, i am learing python and making digital notes as got bad handwriting\"\n",
    "print(txt[5:14:2])       # starts from 5 goes till 14(excluding it) slice data with gap of two indexes\n",
    "\n",
    "# if [::3] will print all data with gap of 3 indexes, cause it start and end not specfied python prints it all\n",
    "\n",
    "print(txt[-15:-2])       # if there is a -ve sign it runs backward \n",
    "print(txt[:-1])          # -1 is last same as last index so will print til just -2 index\n",
    "print(txt[::-1])         # print string reverse\n",
    "print(txt[len(txt)-11:]) # can even write expressions in it as [4+5] will print value at 9th index"
   ]
  },
  {
   "cell_type": "markdown",
   "metadata": {},
   "source": [
    "###### formatted string\n",
    "3 ways do it all shown below<br>"
   ]
  },
  {
   "cell_type": "code",
   "execution_count": 13,
   "metadata": {},
   "outputs": [
    {
     "name": "stdout",
     "output_type": "stream",
     "text": [
      "monik 9\n",
      "monik has scored 9 in maths test\n"
     ]
    }
   ],
   "source": [
    "name, score = input().split()\n",
    "print(name + \" has scored \" + score + \" in maths test\")"
   ]
  },
  {
   "cell_type": "code",
   "execution_count": 6,
   "metadata": {},
   "outputs": [
    {
     "name": "stdout",
     "output_type": "stream",
     "text": [
      "monik 5\n",
      "monik has scored 5 in maths test\n"
     ]
    }
   ],
   "source": [
    "name, score = input().split()\n",
    "txt = f\"{name} has scored {score} in maths test\"\n",
    "print(txt)"
   ]
  },
  {
   "cell_type": "code",
   "execution_count": 7,
   "metadata": {},
   "outputs": [
    {
     "name": "stdout",
     "output_type": "stream",
     "text": [
      "monik 5\n",
      "monik has scored 5 in maths test\n"
     ]
    }
   ],
   "source": [
    "name, score = input().split()\n",
    "print(\"{} has scored {} in maths test\".format(name,score))"
   ]
  },
  {
   "cell_type": "code",
   "execution_count": 18,
   "metadata": {},
   "outputs": [
    {
     "name": "stdout",
     "output_type": "stream",
     "text": [
      "5\n",
      "enter original price of test series145.352\n",
      "Enter discount percentage: 30\n",
      "sellers name: edusmart\n",
      "i bought a 5 test series of 145.4 at a discounted price of 101.7464 form edusmart \n"
     ]
    }
   ],
   "source": [
    "num = int(input())\n",
    "origPrice = float(input(\"enter original price of test series\"))\n",
    "discount = float(input('Enter discount percentage: '))\n",
    "seller = input(\"sellers name: \")\n",
    "newPrice = (1 - discount/100)*origPrice\n",
    "book = \"i bought a {:d} test series of {:.1f} at a discounted price of {} form {} \".format(num,origPrice,newPrice,seller)\n",
    "print(book)"
   ]
  },
  {
   "cell_type": "code",
   "execution_count": 23,
   "metadata": {},
   "outputs": [
    {
     "name": "stdout",
     "output_type": "stream",
     "text": [
      "i bought a 5 test series at a discounted price of 101.75 form edusm \n"
     ]
    }
   ],
   "source": [
    "# using placeholder so doesn't need to be in order\n",
    "book = \"i bought a {a1} test series at a discounted price of {a3:.2f} form {a4:.5s} \"\\\n",
    ".format(a3 = newPrice, a4 = seller, a1 = num)                         # .5s allows only 5 characters of string\n",
    "print(book)"
   ]
  },
  {
   "cell_type": "code",
   "execution_count": 34,
   "metadata": {},
   "outputs": [
    {
     "name": "stdout",
     "output_type": "stream",
     "text": [
      "hello 54\n"
     ]
    }
   ],
   "source": [
    "# given 3 spaces gap, and 2 digit number so printed from 2 space\n",
    "print(\"{}{:>3d}\".format(\"hello\",54))"
   ]
  },
  {
   "cell_type": "code",
   "execution_count": 35,
   "metadata": {},
   "outputs": [
    {
     "name": "stdout",
     "output_type": "stream",
     "text": [
      "hello  5\n"
     ]
    }
   ],
   "source": [
    "print(\"{}{:>3d}\".format(\"hello\",5))"
   ]
  },
  {
   "cell_type": "code",
   "execution_count": 47,
   "metadata": {},
   "outputs": [
    {
     "name": "stdout",
     "output_type": "stream",
     "text": [
      "hello 3    345543\n"
     ]
    }
   ],
   "source": [
    "# there is a extra space between brackets and that space is the part of string, so if number is every larger then space\n",
    "# won't consume that space\n",
    "print(\"{} {:<5d}{}\".format(\"hello\",3,345543))"
   ]
  },
  {
   "cell_type": "markdown",
   "metadata": {},
   "source": [
    "###### Ques. print 1 to n value of integer in decimal, octal, hexdecimal (caps) and binary. each value should be space-padded equal to binary value (hackkerrank)"
   ]
  },
  {
   "cell_type": "code",
   "execution_count": 60,
   "metadata": {},
   "outputs": [
    {
     "name": "stdout",
     "output_type": "stream",
     "text": [
      "11\n",
      "   1    1    1    1\n",
      "   2    2    2   10\n",
      "   3    3    3   11\n",
      "   4    4    4  100\n",
      "   5    5    5  101\n",
      "   6    6    6  110\n",
      "   7    7    7  111\n",
      "   8   10    8 1000\n",
      "   9   11    9 1001\n",
      "  10   12    A 1010\n",
      "  11   13    B 1011\n"
     ]
    }
   ],
   "source": [
    "def print_formatted(number):\n",
    "    # your code goes here\n",
    "    space = len(\"{:b}\".format(number))  \n",
    "    for n in range(1,number+1):\n",
    "        # like for integer we use d and f for float, similarly for hexadecimal we use x as so on\n",
    "        print(\"{:{spac}d} {:{spac}o} {:{spac}x} {:{spac}b}\".format(n, n, n, n,spac=space).upper())\n",
    "x = int(input())\n",
    "print_formatted(x)"
   ]
  },
  {
   "cell_type": "markdown",
   "metadata": {},
   "source": [
    "###### concatenation and repetition"
   ]
  },
  {
   "cell_type": "code",
   "execution_count": 24,
   "metadata": {},
   "outputs": [
    {
     "data": {
      "text/plain": [
       "'pzpzpzpzpz'"
      ]
     },
     "execution_count": 24,
     "metadata": {},
     "output_type": "execute_result"
    }
   ],
   "source": [
    "let = \"z\"\n",
    "let_two = \"p\"\n",
    "\n",
    "# concatenation\n",
    "c = let_two + let \n",
    "\n",
    "# repetition\n",
    "c*5"
   ]
  },
  {
   "cell_type": "markdown",
   "metadata": {},
   "source": [
    "##### string have several methods "
   ]
  },
  {
   "cell_type": "markdown",
   "metadata": {},
   "source": [
    "these removes white spaces from start and end only, doesn't eliminate whitesapce in between text. they are necceasry tabs and spaces in strings"
   ]
  },
  {
   "cell_type": "code",
   "execution_count": 4,
   "metadata": {},
   "outputs": [
    {
     "name": "stdout",
     "output_type": "stream",
     "text": [
      "monik garg\n",
      "monik garg  \n",
      "   monik garg\n",
      "hi\n",
      "         monik  \n",
      "here, what are u doing\n"
     ]
    }
   ],
   "source": [
    "name = '   monik garg  '\n",
    "print(name.strip()) #removed whitespace from both sides\n",
    "print(name.lstrip()) #removed whitespace from left side\n",
    "print(name.rstrip()) #removed whitespace from rigth side\n",
    "txt1 = '''hi\n",
    "         monik  \n",
    "here, what are u doing''' #didn't remove remove whitespace before monik as it has text overhead it\n",
    "print(txt1.strip())"
   ]
  },
  {
   "cell_type": "code",
   "execution_count": 6,
   "metadata": {},
   "outputs": [
    {
     "name": "stdout",
     "output_type": "stream",
     "text": [
      "hi vidi how are u, thats  cool stuff vidi\n"
     ]
    },
    {
     "data": {
      "text/plain": [
       "'hi butterfly, what u doing butterfly, congo butterfly, wahoo that cool stuff baby'"
      ]
     },
     "execution_count": 6,
     "metadata": {},
     "output_type": "execute_result"
    }
   ],
   "source": [
    "#even takes 3 argument as count to replace how many of the, at default count is set at -1 means all\n",
    "grt = 'hi monik how are u, that''s  cool stuff monik'\n",
    "print(grt.replace('monik','vidi'))\n",
    "\n",
    "#total four but given 3 argument just replaced 3 not all\n",
    "bby = 'hi baby, what u doing baby, congo baby, wahoo that cool stuff baby'\n",
    "bby.replace('baby','butterfly',3)"
   ]
  },
  {
   "cell_type": "code",
   "execution_count": 7,
   "metadata": {},
   "outputs": [
    {
     "data": {
      "text/plain": [
       "3"
      ]
     },
     "execution_count": 7,
     "metadata": {},
     "output_type": "execute_result"
    }
   ],
   "source": [
    "# return the index of substring baby found first in text\n",
    "bby.find('baby')"
   ]
  },
  {
   "cell_type": "code",
   "execution_count": 8,
   "metadata": {},
   "outputs": [
    {
     "data": {
      "text/plain": [
       "-1"
      ]
     },
     "execution_count": 8,
     "metadata": {},
     "output_type": "execute_result"
    }
   ],
   "source": [
    "# returns number less than 0 if substring of found in string\n",
    "bby.find(\"z\")"
   ]
  },
  {
   "cell_type": "code",
   "execution_count": 21,
   "metadata": {},
   "outputs": [
    {
     "data": {
      "text/plain": [
       "4"
      ]
     },
     "execution_count": 21,
     "metadata": {},
     "output_type": "execute_result"
    }
   ],
   "source": [
    "# to count total number od baby in text\n",
    "# is case-senitive\n",
    "bby.count(\"baby\")"
   ]
  },
  {
   "cell_type": "code",
   "execution_count": null,
   "metadata": {},
   "outputs": [],
   "source": [
    "user = input()\n",
    "if user.startswith(\"y\"):\n",
    "    print(\"cool boss\")\n",
    "else:\n",
    "    print(\"your bad man\")"
   ]
  },
  {
   "cell_type": "code",
   "execution_count": 31,
   "metadata": {},
   "outputs": [
    {
     "name": "stdout",
     "output_type": "stream",
     "text": [
      "<class 'str'>\tmilk,pasta,cheese,veggie,oil,oregano\n",
      "<class 'list'>\t['milk', 'pasta', 'cheese', 'veggie', 'oil', 'oregano']\n",
      "<class 'str'>\tmilk, pasta, cheese, veggie, oil, oregano\n"
     ]
    }
   ],
   "source": [
    "gro = \"milk,pasta,cheese,veggie,oil,oregano\"\n",
    "lgro = gro.split(\",\")\n",
    "gro1 = \", \".join(lgro)\n",
    "\n",
    "print(type(gro),gro,sep=\"\\t\")\n",
    "print(type(lgro),lgro,sep=\"\\t\")\n",
    "print(type(gro1),gro1,sep=\"\\t\")"
   ]
  },
  {
   "cell_type": "code",
   "execution_count": 10,
   "metadata": {},
   "outputs": [
    {
     "data": {
      "text/plain": [
       "'ppppp'"
      ]
     },
     "execution_count": 10,
     "metadata": {},
     "output_type": "execute_result"
    }
   ],
   "source": [
    "py = \"python rocks\"\n",
    "py[0]*py.index(\"n\") \n",
    "# py[0] access value p, then py.index(\"n\") finds n first occurances index, after this we have \"p\"*5 which outputs to \"ppppp\""
   ]
  },
  {
   "cell_type": "code",
   "execution_count": 6,
   "metadata": {},
   "outputs": [
    {
     "name": "stdout",
     "output_type": "stream",
     "text": [
      "monik-----\n",
      "-----monik\n"
     ]
    }
   ],
   "source": [
    "print('monik'.ljust(10,'-'))\n",
    "print('monik'.rjust(10,'-'))"
   ]
  },
  {
   "cell_type": "markdown",
   "metadata": {},
   "source": [
    "##### Q1. if want to extract organization name from email given string \"hey check your email must have recived it from monikgarg1999@gmail.com\""
   ]
  },
  {
   "cell_type": "code",
   "execution_count": 60,
   "metadata": {
    "scrolled": true
   },
   "outputs": [
    {
     "name": "stdout",
     "output_type": "stream",
     "text": [
      "76\n",
      "82\n"
     ]
    },
    {
     "data": {
      "text/plain": [
       "'gmail'"
      ]
     },
     "execution_count": 60,
     "metadata": {},
     "output_type": "execute_result"
    }
   ],
   "source": [
    "mail = \"hey check your email from chorme.com must have recived it from monikgarg1999@gmail.com \"\n",
    "findIndexOne = mail.find('@')\n",
    "print(findIndexOne)\n",
    "findNextIndex = mail.find(\".com\",findIndexOne) #it found .com after the substring inputed\n",
    "print(findNextIndex)\n",
    "mail[findIndexOne+1:findNextIndex] #extarcted the data lying between these substring\n",
    "                                   #and due +1 it extracted after @ otherwise would have print the data with @ in it "
   ]
  },
  {
   "cell_type": "markdown",
   "metadata": {},
   "source": [
    "###### Q2. door mat pattern"
   ]
  },
  {
   "cell_type": "code",
   "execution_count": 1,
   "metadata": {},
   "outputs": [
    {
     "name": "stdout",
     "output_type": "stream",
     "text": [
      "7 21\n",
      "---------.|.---------\n",
      "------.|..|..|.------\n",
      "---.|..|..|..|..|.---\n",
      "-------WELCOME-------\n",
      "---.|..|..|..|..|.---\n",
      "------.|..|..|.------\n",
      "---------.|.---------\n"
     ]
    }
   ],
   "source": [
    "n, m = map(int,input().split())\n",
    "pattern = [('.|.'*(2*i + 1)).center(m, '-') for i in range(n//2)]\n",
    "print('\\n'.join(pattern + ['WELCOME'.center(m, '-')] + pattern[::-1]))"
   ]
  },
  {
   "cell_type": "markdown",
   "metadata": {},
   "source": [
    "### 1.5 Sets\n",
    "used when want to store a bunch of elements and be certain that they are only present once....and as dictonary not saved in order....it's like storing the keys of dictionary without values"
   ]
  },
  {
   "cell_type": "code",
   "execution_count": 14,
   "metadata": {
    "scrolled": true
   },
   "outputs": [],
   "source": [
    "a = {\"greetings\",1,\"hello\",2,\"hola\",3,\"namaste\",5}\n",
    "b = {\"greetings\",1,\"nihao\"}"
   ]
  },
  {
   "cell_type": "code",
   "execution_count": 17,
   "metadata": {},
   "outputs": [
    {
     "name": "stdout",
     "output_type": "stream",
     "text": [
      "{1, 2, 3, 'nihao', 5, 'hello', 'hola', 'namaste', 'greetings'}\n"
     ]
    },
    {
     "data": {
      "text/plain": [
       "{1, 2, 3, 5, 'greetings', 'hello', 'hola', 'namaste', 'nihao'}"
      ]
     },
     "execution_count": 17,
     "metadata": {},
     "output_type": "execute_result"
    }
   ],
   "source": [
    "print(a.union(b))\n",
    "a | b"
   ]
  },
  {
   "cell_type": "code",
   "execution_count": 18,
   "metadata": {},
   "outputs": [
    {
     "name": "stdout",
     "output_type": "stream",
     "text": [
      "{1, 'greetings'}\n"
     ]
    },
    {
     "data": {
      "text/plain": [
       "{1, 'greetings'}"
      ]
     },
     "execution_count": 18,
     "metadata": {},
     "output_type": "execute_result"
    }
   ],
   "source": [
    "print(a.intersection(b))\n",
    "a & b"
   ]
  },
  {
   "cell_type": "code",
   "execution_count": 2,
   "metadata": {},
   "outputs": [
    {
     "data": {
      "text/plain": [
       "{1, 2, 3, 4, 5, 12}"
      ]
     },
     "execution_count": 2,
     "metadata": {},
     "output_type": "execute_result"
    }
   ],
   "source": [
    "x = set([1,2,4,1,2,2,2,3,4,1,2,2,4,5,5,3,2,1,12,3,4,5,5,3,2])\n",
    "x"
   ]
  },
  {
   "cell_type": "code",
   "execution_count": 5,
   "metadata": {},
   "outputs": [
    {
     "data": {
      "text/plain": [
       "{1, 2, 3, 4, 5, 6, 12}"
      ]
     },
     "execution_count": 5,
     "metadata": {},
     "output_type": "execute_result"
    }
   ],
   "source": [
    "x.add(6)\n",
    "x"
   ]
  },
  {
   "cell_type": "markdown",
   "metadata": {},
   "source": [
    "## 2. Type casting "
   ]
  },
  {
   "cell_type": "code",
   "execution_count": 1,
   "metadata": {},
   "outputs": [
    {
     "name": "stdout",
     "output_type": "stream",
     "text": [
      "-3.999 -3\n"
     ]
    }
   ],
   "source": [
    "print(-3.999, int(-3.999))"
   ]
  },
  {
   "cell_type": "code",
   "execution_count": 5,
   "metadata": {},
   "outputs": [
    {
     "name": "stdout",
     "output_type": "stream",
     "text": [
      "<class 'float'>\n",
      "<class 'str'>\n",
      "123.45 <class 'float'>\n",
      "123.45 <class 'str'>\n"
     ]
    }
   ],
   "source": [
    "x = 123.45\n",
    "print(type(x))\n",
    "print(type(str(x)))\n",
    "print(x,type(x)) #as we didn't save it on variable its value is still float\n",
    "\n",
    "x = str(x)\n",
    "print(x,type(x))"
   ]
  },
  {
   "cell_type": "markdown",
   "metadata": {},
   "source": [
    "###### we can't concatenate int with string so we have to  type cast it<br>\n",
    "###### all integer and float can be type casted into strings but all strings can't be type casted into int and float"
   ]
  },
  {
   "cell_type": "code",
   "execution_count": 41,
   "metadata": {},
   "outputs": [
    {
     "name": "stdout",
     "output_type": "stream",
     "text": [
      "hello my roll number is 179402081\n"
     ]
    }
   ],
   "source": [
    "print(\"hello my roll number is \" + str(179402081))"
   ]
  }
 ],
 "metadata": {
  "kernelspec": {
   "display_name": "Python 3",
   "language": "python",
   "name": "python3"
  },
  "language_info": {
   "codemirror_mode": {
    "name": "ipython",
    "version": 3
   },
   "file_extension": ".py",
   "mimetype": "text/x-python",
   "name": "python",
   "nbconvert_exporter": "python",
   "pygments_lexer": "ipython3",
   "version": "3.8.3"
  }
 },
 "nbformat": 4,
 "nbformat_minor": 2
}
